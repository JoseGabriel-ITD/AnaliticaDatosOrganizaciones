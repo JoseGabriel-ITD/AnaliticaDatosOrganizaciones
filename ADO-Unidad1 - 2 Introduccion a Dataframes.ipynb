{
 "cells": [
  {
   "cell_type": "markdown",
   "metadata": {},
   "source": [
    "![](CintillaTecNM-ITD.png)"
   ]
  },
  {
   "cell_type": "markdown",
   "metadata": {},
   "source": [
    "\n",
    "# Analítica de Datos en las Organizaciones\n",
    "\n",
    "# Docente: José Gabriel Rodríguez Rivas\n",
    "\n",
    "\n",
    "# Unidad I   Introducción a los Datos\n",
    "\n",
    "## Intrduccion a  Dataframes\n",
    "\n",
    "\n",
    "[1.1 Introduccion a **Dataframes** en Pandas](#id1)<br>\n",
    "[1.2 Cargar CSV como un dataframe](#id5)<br>\n",
    "... [1.2.1 Añadir encabezados a dataframe](#id51)<br>\n",
    "[1.3 Indexing dataframes ](#id2)<br>\n",
    "[1.4 Copiar un dataframe](#id4)<br>\n",
    "[1.5 Consultas en un dataframe](#id6)<br>\n",
    "... [1.5.1 Consultar especificando criterios de selección y columnas a mostrar](#id61)<br>\n",
    "... [1.5.2 Obtener los Valores Unicos de una columna en un dataframe](#id62)<br>\n",
    "... [1.5.3 Medir el espacio en memoria que ocupa el dataframe](#id63)<br>\n",
    "... [1.5.4 Ejercicios de Consultas en un dataframe](#id64)<br>\n",
    "[1.6 Borrar columnas o renglones en dataframes  ](#id7)<br>\n",
    "[1.7 Agregar columnas en dataframes  ](#id8)<br>\n",
    "...  [5.8.1  Reemplazar valores ](#id81)<br>\n",
    "[1.8 Group by dataframe](#id9)<br>\n",
    "... [1.8.1 Ejercicios de Group By](#id91)<br> \n",
    "... [1.8.2 Aggregación](#id92)<br> \n",
    "[1.9 Exportar Dataframe a CSV, Excel](#id11)<br>\n",
    "[1.10 Leer archivo de Excel](#id13)<br>"
   ]
  },
  {
   "cell_type": "markdown",
   "metadata": {},
   "source": [
    "![](Pandas_python.png)\n",
    "\n",
    "## Pandas \n",
    "\n",
    "- Es una **biblioteca de código abierto** para Python que agrega **estructuras de datos de alto rendimiento** y **herramientas para el análisis de grandes conjuntos de datos**. \n",
    "- Las **estructuras de datos de pandas** incluyen las **series** y las estructuras **dataframes (marco de datos)**. \n",
    "- **Los dataframes son la principal estructura de pandas**.\n",
    "- Pandas es una **librería externa** y se tiene que instalar. (En el caso de Anaconda viene instalado).\n",
    "- Se importa en un programa de Python mediante la instruccion import.\n",
    "- Es convencional utilizar **import pandas as pd** para facilitar la escritura de las referencias a los componentes de pandas. \n"
   ]
  },
  {
   "cell_type": "markdown",
   "metadata": {},
   "source": [
    "##  1.1 Introducción a Dataframes en Pandas   <a id='id1'> </a>\n",
    "\n",
    "![](dataframe.png)\n",
    "\n",
    "### Dataframe\n",
    "\n",
    "- Un DataFrame es conceptualmente un **objeto de serie bidimensional, donde hay un índice y varias columnas de contenido**, con cada columna que tiene una etiqueta. \n",
    "- Un Dataframe es una matriz de dos ejes etiquetada. Es como una tabla de datos de Excel.\n",
    "- Se utiliza para **almacenar cualquier tipo de información**. \n",
    "- El Dataframe (marcos de datos) son la principal estructura de pandas, además de la más utilizada para el análisis de datos.\n",
    "- Loss marcos de datos se construyen fácilmente de una variedad de otras estructuras de datos y archivos externos, como archivos de Excel o achivos CSV. \n",
    "- Hay una **amplia variedad de métodos disponibles** para objetos de marcos de datos. \n",
    "- Las filas y columnas se pueden manipular de diversas maneras y los operadores están disponibles para realizar transformaciones matemáticas, de cadena y lógicas al contenido del marco de datos.\n",
    "\n",
    "\n",
    "![](The_dataframe.png)"
   ]
  },
  {
   "cell_type": "markdown",
   "metadata": {},
   "source": [
    "###  Documentación de Referencia\n",
    "\n",
    "- Lista de métodos de dataframe  \n",
    "https://pandas.pydata.org/docs/reference/api/pandas.DataFrame.html\n"
   ]
  },
  {
   "cell_type": "code",
   "execution_count": 1,
   "metadata": {},
   "outputs": [],
   "source": [
    "# Primero de bemos importar la libreria de pandas\n",
    "# Es convencional utilizar import pandas as pd\n",
    "\n",
    "import pandas as pd\n",
    "import numpy as np"
   ]
  },
  {
   "cell_type": "code",
   "execution_count": 2,
   "metadata": {},
   "outputs": [],
   "source": [
    "# En este primer ejemplo el índice lo crea automaticamente pandas y será un consecutivo\n",
    "# empezando desde cero\n",
    "\n",
    "# Referencia para la informacion\n",
    "# https://imco.org.mx/wp-content/uploads/2021/04/20210304_HablemosDeIngresos_2021_Documento.pdf\n",
    "\n",
    "Estado1 = pd.Series( {'Estado': 'Aguascalientes',\n",
    "                    'AportacionesFederales': 10676000000,\n",
    "                    'ParticipacionesFederales': 7158000000,\n",
    "                    'RecaudacionImpuestos': 1232000000} )\n",
    "Estado2 = pd.Series( {'Estado': 'Baja California',\n",
    "                    'AportacionesFederales': 20518000000,\n",
    "                    'ParticipacionesFederales': 19401000000,\n",
    "                    'RecaudacionImpuestos': 4341000000} )\n",
    "Estado3 = pd.Series( {'Estado': 'Baja California Sur',\n",
    "                    'AportacionesFederales': 7173000000,\n",
    "                    'ParticipacionesFederales': 4809000000,\n",
    "                    'RecaudacionImpuestos': 1112000000} )\n",
    "Estado4 = pd.Series( {'Estado': 'Campeche',\n",
    "                    'AportacionesFederales': 8835000000,\n",
    "                    'ParticipacionesFederales':  5628000000,\n",
    "                    'RecaudacionImpuestos': 1663000000} )"
   ]
  },
  {
   "cell_type": "code",
   "execution_count": 3,
   "metadata": {},
   "outputs": [
    {
     "data": {
      "text/plain": [
       "Estado                      Aguascalientes\n",
       "AportacionesFederales          10676000000\n",
       "ParticipacionesFederales        7158000000\n",
       "RecaudacionImpuestos            1232000000\n",
       "dtype: object"
      ]
     },
     "execution_count": 3,
     "metadata": {},
     "output_type": "execute_result"
    }
   ],
   "source": [
    "# Estado1, Estado2\n",
    "\n",
    "# Verificamos el tipo de cualquier serie. \n",
    "# En este caso es de tipo serie\n",
    "\n",
    "Estado1"
   ]
  },
  {
   "cell_type": "code",
   "execution_count": 4,
   "metadata": {},
   "outputs": [
    {
     "data": {
      "text/html": [
       "<div>\n",
       "<style scoped>\n",
       "    .dataframe tbody tr th:only-of-type {\n",
       "        vertical-align: middle;\n",
       "    }\n",
       "\n",
       "    .dataframe tbody tr th {\n",
       "        vertical-align: top;\n",
       "    }\n",
       "\n",
       "    .dataframe thead th {\n",
       "        text-align: right;\n",
       "    }\n",
       "</style>\n",
       "<table border=\"1\" class=\"dataframe\">\n",
       "  <thead>\n",
       "    <tr style=\"text-align: right;\">\n",
       "      <th></th>\n",
       "      <th>Estado</th>\n",
       "      <th>AportacionesFederales</th>\n",
       "      <th>ParticipacionesFederales</th>\n",
       "      <th>RecaudacionImpuestos</th>\n",
       "    </tr>\n",
       "  </thead>\n",
       "  <tbody>\n",
       "    <tr>\n",
       "      <th>0</th>\n",
       "      <td>Aguascalientes</td>\n",
       "      <td>10676000000</td>\n",
       "      <td>7158000000</td>\n",
       "      <td>1232000000</td>\n",
       "    </tr>\n",
       "    <tr>\n",
       "      <th>1</th>\n",
       "      <td>Baja California</td>\n",
       "      <td>20518000000</td>\n",
       "      <td>19401000000</td>\n",
       "      <td>4341000000</td>\n",
       "    </tr>\n",
       "    <tr>\n",
       "      <th>2</th>\n",
       "      <td>Baja California Sur</td>\n",
       "      <td>7173000000</td>\n",
       "      <td>4809000000</td>\n",
       "      <td>1112000000</td>\n",
       "    </tr>\n",
       "    <tr>\n",
       "      <th>3</th>\n",
       "      <td>Campeche</td>\n",
       "      <td>8835000000</td>\n",
       "      <td>5628000000</td>\n",
       "      <td>1663000000</td>\n",
       "    </tr>\n",
       "  </tbody>\n",
       "</table>\n",
       "</div>"
      ],
      "text/plain": [
       "                Estado  AportacionesFederales  ParticipacionesFederales  \\\n",
       "0       Aguascalientes            10676000000                7158000000   \n",
       "1      Baja California            20518000000               19401000000   \n",
       "2  Baja California Sur             7173000000                4809000000   \n",
       "3             Campeche             8835000000                5628000000   \n",
       "\n",
       "   RecaudacionImpuestos  \n",
       "0            1232000000  \n",
       "1            4341000000  \n",
       "2            1112000000  \n",
       "3            1663000000  "
      ]
     },
     "execution_count": 4,
     "metadata": {},
     "output_type": "execute_result"
    }
   ],
   "source": [
    "\n",
    "# Convertimos a dataframe\n",
    "\n",
    "Ingresos = pd.DataFrame( [Estado1, Estado2, Estado3, Estado4] )\n",
    "Ingresos"
   ]
  },
  {
   "cell_type": "code",
   "execution_count": 5,
   "metadata": {},
   "outputs": [
    {
     "data": {
      "text/html": [
       "<div>\n",
       "<style scoped>\n",
       "    .dataframe tbody tr th:only-of-type {\n",
       "        vertical-align: middle;\n",
       "    }\n",
       "\n",
       "    .dataframe tbody tr th {\n",
       "        vertical-align: top;\n",
       "    }\n",
       "\n",
       "    .dataframe thead th {\n",
       "        text-align: right;\n",
       "    }\n",
       "</style>\n",
       "<table border=\"1\" class=\"dataframe\">\n",
       "  <thead>\n",
       "    <tr style=\"text-align: right;\">\n",
       "      <th></th>\n",
       "      <th>AportacionesFederales</th>\n",
       "      <th>ParticipacionesFederales</th>\n",
       "      <th>RecaudacionImpuestos</th>\n",
       "    </tr>\n",
       "  </thead>\n",
       "  <tbody>\n",
       "    <tr>\n",
       "      <th>Aguascalientes</th>\n",
       "      <td>10676000000</td>\n",
       "      <td>7158000000</td>\n",
       "      <td>1232000000</td>\n",
       "    </tr>\n",
       "    <tr>\n",
       "      <th>Baja California</th>\n",
       "      <td>20518000000</td>\n",
       "      <td>19401000000</td>\n",
       "      <td>4341000000</td>\n",
       "    </tr>\n",
       "    <tr>\n",
       "      <th>Baja California Sur</th>\n",
       "      <td>7173000000</td>\n",
       "      <td>4809000000</td>\n",
       "      <td>1112000000</td>\n",
       "    </tr>\n",
       "    <tr>\n",
       "      <th>Campeche</th>\n",
       "      <td>8835000000</td>\n",
       "      <td>5628000000</td>\n",
       "      <td>1663000000</td>\n",
       "    </tr>\n",
       "  </tbody>\n",
       "</table>\n",
       "</div>"
      ],
      "text/plain": [
       "                     AportacionesFederales  ParticipacionesFederales  \\\n",
       "Aguascalientes                 10676000000                7158000000   \n",
       "Baja California                20518000000               19401000000   \n",
       "Baja California Sur             7173000000                4809000000   \n",
       "Campeche                        8835000000                5628000000   \n",
       "\n",
       "                     RecaudacionImpuestos  \n",
       "Aguascalientes                 1232000000  \n",
       "Baja California                4341000000  \n",
       "Baja California Sur            1112000000  \n",
       "Campeche                       1663000000  "
      ]
     },
     "execution_count": 5,
     "metadata": {},
     "output_type": "execute_result"
    }
   ],
   "source": [
    "# Copiar las series anteriores y quitar el estado de la lista de columnas \n",
    "\n",
    "Estado1 = pd.Series( {'AportacionesFederales': 10676000000,\n",
    "                    'ParticipacionesFederales': 7158000000,\n",
    "                    'RecaudacionImpuestos': 1232000000} )\n",
    "Estado2 = pd.Series( {'AportacionesFederales': 20518000000,\n",
    "                    'ParticipacionesFederales': 19401000000,\n",
    "                    'RecaudacionImpuestos': 4341000000} )\n",
    "Estado3 = pd.Series( {'AportacionesFederales': 7173000000,\n",
    "                    'ParticipacionesFederales': 4809000000,\n",
    "                    'RecaudacionImpuestos': 1112000000} )\n",
    "Estado4 = pd.Series( {'AportacionesFederales': 8835000000,\n",
    "                    'ParticipacionesFederales':  5628000000,\n",
    "                    'RecaudacionImpuestos': 1663000000} )\n",
    "\n",
    "\n",
    "\n",
    "Ingresos = pd.DataFrame([Estado1, Estado2, Estado3, Estado4],\n",
    "                        index=['Aguascalientes', 'Baja California', 'Baja California Sur', \n",
    "                              'Campeche'])\n",
    "\n",
    "Ingresos"
   ]
  },
  {
   "cell_type": "markdown",
   "metadata": {},
   "source": [
    "### Acesso a datos del dataframe\n",
    "\n",
    "- Se puede consultar un dataframe de pandas, ya sea **por la posición del índice o por la etiqueta de índice**. \n",
    "- Si no le das un índice a la serie o dataframe, la posición y la etiqueta son efectivamente los mismos valores. \n",
    "- **Para consultar por la etiqueta de índice**, puede utilizar **el atributo loc**.\n",
    "- **Para consultar por ubicación numérica**, a partir de cero, **utilice el atributo iloc**.\n",
    "\n",
    "###   Atributo loc  (acceder por índice)\n",
    "- Una sola etiqueta, por ejemplo: **5** o **'a'**, (tenga en cuenta que **5** se interpreta como una etiqueta del índice y nunca como una posición entera a lo largo del índice).\n",
    "- Una lista o matriz de etiquetas, por ejemplo: **['a', 'B', 'C']**.\n",
    "- Un objeto de corte con etiquetas, por ejemplo: **'a': 'f'**.\n",
    "- Una matriz booleana de la misma longitud que el eje que se está cortando, p. **[Verdadero, Falso, Verdadero]**.\n",
    "\n",
    "\n",
    "### Atributo iloc  (acceder por índice entero)\n",
    "- Un número entero, p. 5.\n",
    "- Una lista o matriz de enteros, p. [4, 3, 0].\n",
    "- Un objeto de segmento con enteros, p. 1:7."
   ]
  },
  {
   "cell_type": "code",
   "execution_count": 6,
   "metadata": {},
   "outputs": [
    {
     "data": {
      "text/plain": [
       "AportacionesFederales       20518000000\n",
       "ParticipacionesFederales    19401000000\n",
       "RecaudacionImpuestos         4341000000\n",
       "Name: Baja California, dtype: int64"
      ]
     },
     "execution_count": 6,
     "metadata": {},
     "output_type": "execute_result"
    }
   ],
   "source": [
    "# # Accedemos a la informacion del dataframe por el indice\n",
    "\n",
    "Ingresos.iloc[1]"
   ]
  },
  {
   "cell_type": "code",
   "execution_count": 7,
   "metadata": {},
   "outputs": [
    {
     "data": {
      "text/plain": [
       "AportacionesFederales       8835000000\n",
       "ParticipacionesFederales    5628000000\n",
       "RecaudacionImpuestos        1663000000\n",
       "Name: Campeche, dtype: int64"
      ]
     },
     "execution_count": 7,
     "metadata": {},
     "output_type": "execute_result"
    }
   ],
   "source": [
    "# Accedemos a la informacion del dataframe por el indice de texto\n",
    "# En este caso buscamos campeche\n",
    "\n",
    "Ingresos.loc['Campeche']"
   ]
  },
  {
   "cell_type": "code",
   "execution_count": 8,
   "metadata": {},
   "outputs": [
    {
     "data": {
      "text/plain": [
       "pandas.core.series.Series"
      ]
     },
     "execution_count": 8,
     "metadata": {},
     "output_type": "execute_result"
    }
   ],
   "source": [
    "# Cuando pandas regresa un renglon como resultado, lo regresa como una serie\n",
    "\n",
    "type(Ingresos.loc['Campeche'])"
   ]
  },
  {
   "cell_type": "code",
   "execution_count": 9,
   "metadata": {},
   "outputs": [
    {
     "data": {
      "text/html": [
       "<div>\n",
       "<style scoped>\n",
       "    .dataframe tbody tr th:only-of-type {\n",
       "        vertical-align: middle;\n",
       "    }\n",
       "\n",
       "    .dataframe tbody tr th {\n",
       "        vertical-align: top;\n",
       "    }\n",
       "\n",
       "    .dataframe thead th {\n",
       "        text-align: right;\n",
       "    }\n",
       "</style>\n",
       "<table border=\"1\" class=\"dataframe\">\n",
       "  <thead>\n",
       "    <tr style=\"text-align: right;\">\n",
       "      <th></th>\n",
       "      <th>AportacionesFederales</th>\n",
       "      <th>ParticipacionesFederales</th>\n",
       "      <th>RecaudacionImpuestos</th>\n",
       "    </tr>\n",
       "  </thead>\n",
       "  <tbody>\n",
       "    <tr>\n",
       "      <th>Campeche</th>\n",
       "      <td>8835000000</td>\n",
       "      <td>5628000000</td>\n",
       "      <td>1663000000</td>\n",
       "    </tr>\n",
       "    <tr>\n",
       "      <th>Aguascalientes</th>\n",
       "      <td>10676000000</td>\n",
       "      <td>7158000000</td>\n",
       "      <td>1232000000</td>\n",
       "    </tr>\n",
       "  </tbody>\n",
       "</table>\n",
       "</div>"
      ],
      "text/plain": [
       "                AportacionesFederales  ParticipacionesFederales  \\\n",
       "Campeche                   8835000000                5628000000   \n",
       "Aguascalientes            10676000000                7158000000   \n",
       "\n",
       "                RecaudacionImpuestos  \n",
       "Campeche                  1663000000  \n",
       "Aguascalientes            1232000000  "
      ]
     },
     "execution_count": 9,
     "metadata": {},
     "output_type": "execute_result"
    }
   ],
   "source": [
    "# Especificamos una lista de valores a buscar por índice\n",
    "# Observar que regresa un datafarme\n",
    "\n",
    "Ingresos.loc[ ['Campeche', 'Aguascalientes']]"
   ]
  },
  {
   "cell_type": "code",
   "execution_count": 10,
   "metadata": {},
   "outputs": [
    {
     "data": {
      "text/html": [
       "<div>\n",
       "<style scoped>\n",
       "    .dataframe tbody tr th:only-of-type {\n",
       "        vertical-align: middle;\n",
       "    }\n",
       "\n",
       "    .dataframe tbody tr th {\n",
       "        vertical-align: top;\n",
       "    }\n",
       "\n",
       "    .dataframe thead th {\n",
       "        text-align: right;\n",
       "    }\n",
       "</style>\n",
       "<table border=\"1\" class=\"dataframe\">\n",
       "  <thead>\n",
       "    <tr style=\"text-align: right;\">\n",
       "      <th></th>\n",
       "      <th>AportacionesFederales</th>\n",
       "      <th>ParticipacionesFederales</th>\n",
       "      <th>RecaudacionImpuestos</th>\n",
       "    </tr>\n",
       "  </thead>\n",
       "  <tbody>\n",
       "    <tr>\n",
       "      <th>Baja California</th>\n",
       "      <td>20518000000</td>\n",
       "      <td>19401000000</td>\n",
       "      <td>4341000000</td>\n",
       "    </tr>\n",
       "    <tr>\n",
       "      <th>Baja California Sur</th>\n",
       "      <td>7173000000</td>\n",
       "      <td>4809000000</td>\n",
       "      <td>1112000000</td>\n",
       "    </tr>\n",
       "  </tbody>\n",
       "</table>\n",
       "</div>"
      ],
      "text/plain": [
       "                     AportacionesFederales  ParticipacionesFederales  \\\n",
       "Baja California                20518000000               19401000000   \n",
       "Baja California Sur             7173000000                4809000000   \n",
       "\n",
       "                     RecaudacionImpuestos  \n",
       "Baja California                4341000000  \n",
       "Baja California Sur            1112000000  "
      ]
     },
     "execution_count": 10,
     "metadata": {},
     "output_type": "execute_result"
    }
   ],
   "source": [
    "# Podemos usar el concepto de slicing que se vio en listas para ver una sección del dataframe\n",
    "Ingresos.iloc[1:3]"
   ]
  },
  {
   "cell_type": "markdown",
   "metadata": {},
   "source": [
    "###  Searching in both axes\n",
    "\n",
    "- DataFrame de Pandas permite seleccionar rápidamente datos basados en múltiples ejes. \n",
    "- Por ejemplo, se desea  listar la recuadación de Impuestos de Campeche.  \n",
    "- Proporcionamos dos parámetros al atributo loc, **el primero es el índice de fila y el otro el nombre de columna**."
   ]
  },
  {
   "cell_type": "code",
   "execution_count": 11,
   "metadata": {},
   "outputs": [
    {
     "data": {
      "text/plain": [
       "1663000000"
      ]
     },
     "execution_count": 11,
     "metadata": {},
     "output_type": "execute_result"
    }
   ],
   "source": [
    " Ingresos.loc['Campeche', 'RecaudacionImpuestos']"
   ]
  },
  {
   "cell_type": "code",
   "execution_count": 12,
   "metadata": {},
   "outputs": [
    {
     "data": {
      "text/html": [
       "<div>\n",
       "<style scoped>\n",
       "    .dataframe tbody tr th:only-of-type {\n",
       "        vertical-align: middle;\n",
       "    }\n",
       "\n",
       "    .dataframe tbody tr th {\n",
       "        vertical-align: top;\n",
       "    }\n",
       "\n",
       "    .dataframe thead th {\n",
       "        text-align: right;\n",
       "    }\n",
       "</style>\n",
       "<table border=\"1\" class=\"dataframe\">\n",
       "  <thead>\n",
       "    <tr style=\"text-align: right;\">\n",
       "      <th></th>\n",
       "      <th>AportacionesFederales</th>\n",
       "      <th>ParticipacionesFederales</th>\n",
       "    </tr>\n",
       "  </thead>\n",
       "  <tbody>\n",
       "    <tr>\n",
       "      <th>Campeche</th>\n",
       "      <td>8835000000</td>\n",
       "      <td>5628000000</td>\n",
       "    </tr>\n",
       "    <tr>\n",
       "      <th>Aguascalientes</th>\n",
       "      <td>10676000000</td>\n",
       "      <td>7158000000</td>\n",
       "    </tr>\n",
       "  </tbody>\n",
       "</table>\n",
       "</div>"
      ],
      "text/plain": [
       "                AportacionesFederales  ParticipacionesFederales\n",
       "Campeche                   8835000000                5628000000\n",
       "Aguascalientes            10676000000                7158000000"
      ]
     },
     "execution_count": 12,
     "metadata": {},
     "output_type": "execute_result"
    }
   ],
   "source": [
    "# Se puede usar listas para especificar que renglones y columnas se desean obtener\n",
    "\n",
    "Ingresos.loc[['Campeche','Aguascalientes'], \n",
    "             ['AportacionesFederales', 'ParticipacionesFederales' ]]"
   ]
  },
  {
   "cell_type": "code",
   "execution_count": 13,
   "metadata": {},
   "outputs": [
    {
     "data": {
      "text/plain": [
       "Baja California        19401000000\n",
       "Baja California Sur     4809000000\n",
       "Name: ParticipacionesFederales, dtype: int64"
      ]
     },
     "execution_count": 13,
     "metadata": {},
     "output_type": "execute_result"
    }
   ],
   "source": [
    "Ingresos.iloc[1:3, 1]"
   ]
  },
  {
   "cell_type": "code",
   "execution_count": 14,
   "metadata": {},
   "outputs": [
    {
     "data": {
      "text/html": [
       "<div>\n",
       "<style scoped>\n",
       "    .dataframe tbody tr th:only-of-type {\n",
       "        vertical-align: middle;\n",
       "    }\n",
       "\n",
       "    .dataframe tbody tr th {\n",
       "        vertical-align: top;\n",
       "    }\n",
       "\n",
       "    .dataframe thead th {\n",
       "        text-align: right;\n",
       "    }\n",
       "</style>\n",
       "<table border=\"1\" class=\"dataframe\">\n",
       "  <thead>\n",
       "    <tr style=\"text-align: right;\">\n",
       "      <th></th>\n",
       "      <th>ParticipacionesFederales</th>\n",
       "    </tr>\n",
       "  </thead>\n",
       "  <tbody>\n",
       "    <tr>\n",
       "      <th>Baja California</th>\n",
       "      <td>19401000000</td>\n",
       "    </tr>\n",
       "    <tr>\n",
       "      <th>Baja California Sur</th>\n",
       "      <td>4809000000</td>\n",
       "    </tr>\n",
       "  </tbody>\n",
       "</table>\n",
       "</div>"
      ],
      "text/plain": [
       "                     ParticipacionesFederales\n",
       "Baja California                   19401000000\n",
       "Baja California Sur                4809000000"
      ]
     },
     "execution_count": 14,
     "metadata": {},
     "output_type": "execute_result"
    }
   ],
   "source": [
    "Ingresos.iloc[1:3, 1:2]"
   ]
  },
  {
   "cell_type": "markdown",
   "metadata": {},
   "source": [
    "##   1.2 Cargar CSV como un dataframe  <a id='id5'> </a> \n",
    "\n",
    "- Lea un archivo de valores separados por comas (csv) en DataFrame. \n",
    "- También admite, opcionalmente, iterar o dividir el archivo en fragmentos."
   ]
  },
  {
   "cell_type": "code",
   "execution_count": 15,
   "metadata": {},
   "outputs": [
    {
     "name": "stderr",
     "output_type": "stream",
     "text": [
      "C:\\Users\\jgab\\AppData\\Local\\Temp\\ipykernel_15192\\2981700023.py:1: DtypeWarning: Columns (33) have mixed types. Specify dtype option on import or set low_memory=False.\n",
      "  df = pd.read_csv(\"20-07-31-COVID19MEXICO-codificado.csv\")\n"
     ]
    },
    {
     "data": {
      "text/html": [
       "<div>\n",
       "<style scoped>\n",
       "    .dataframe tbody tr th:only-of-type {\n",
       "        vertical-align: middle;\n",
       "    }\n",
       "\n",
       "    .dataframe tbody tr th {\n",
       "        vertical-align: top;\n",
       "    }\n",
       "\n",
       "    .dataframe thead th {\n",
       "        text-align: right;\n",
       "    }\n",
       "</style>\n",
       "<table border=\"1\" class=\"dataframe\">\n",
       "  <thead>\n",
       "    <tr style=\"text-align: right;\">\n",
       "      <th></th>\n",
       "      <th>FECHA_ACTUALIZACION</th>\n",
       "      <th>ID_REGISTRO</th>\n",
       "      <th>ORIGEN</th>\n",
       "      <th>SECTOR</th>\n",
       "      <th>ENTIDAD_UM</th>\n",
       "      <th>SEXO</th>\n",
       "      <th>ENTIDAD_NAC</th>\n",
       "      <th>ENTIDAD_RES</th>\n",
       "      <th>MUNICIPIO_RES</th>\n",
       "      <th>TIPO_PACIENTE</th>\n",
       "      <th>...</th>\n",
       "      <th>CARDIOVASCULAR</th>\n",
       "      <th>OBESIDAD</th>\n",
       "      <th>RENAL_CRONICA</th>\n",
       "      <th>TABAQUISMO</th>\n",
       "      <th>OTRO_CASO</th>\n",
       "      <th>RESULTADO</th>\n",
       "      <th>MIGRANTE</th>\n",
       "      <th>PAIS_NACIONALIDAD</th>\n",
       "      <th>PAIS_ORIGEN</th>\n",
       "      <th>UCI</th>\n",
       "    </tr>\n",
       "  </thead>\n",
       "  <tbody>\n",
       "    <tr>\n",
       "      <th>0</th>\n",
       "      <td>31/07/2020</td>\n",
       "      <td>15f43a</td>\n",
       "      <td>2</td>\n",
       "      <td>4</td>\n",
       "      <td>2</td>\n",
       "      <td>Mujer</td>\n",
       "      <td>No especificado</td>\n",
       "      <td>2</td>\n",
       "      <td>4</td>\n",
       "      <td>Ambulatorio</td>\n",
       "      <td>...</td>\n",
       "      <td>No</td>\n",
       "      <td>No</td>\n",
       "      <td>No</td>\n",
       "      <td>No</td>\n",
       "      <td>No especificado</td>\n",
       "      <td>Positivo</td>\n",
       "      <td>99</td>\n",
       "      <td>El Salvador</td>\n",
       "      <td>99</td>\n",
       "      <td>No aplica</td>\n",
       "    </tr>\n",
       "    <tr>\n",
       "      <th>1</th>\n",
       "      <td>31/07/2020</td>\n",
       "      <td>0d6511</td>\n",
       "      <td>2</td>\n",
       "      <td>4</td>\n",
       "      <td>11</td>\n",
       "      <td>Hombre</td>\n",
       "      <td>No especificado</td>\n",
       "      <td>11</td>\n",
       "      <td>20</td>\n",
       "      <td>Ambulatorio</td>\n",
       "      <td>...</td>\n",
       "      <td>No</td>\n",
       "      <td>No</td>\n",
       "      <td>No</td>\n",
       "      <td>No</td>\n",
       "      <td>No especificado</td>\n",
       "      <td>Positivo</td>\n",
       "      <td>99</td>\n",
       "      <td>Estados Unidos de AmÃ©rica</td>\n",
       "      <td>99</td>\n",
       "      <td>No aplica</td>\n",
       "    </tr>\n",
       "    <tr>\n",
       "      <th>2</th>\n",
       "      <td>31/07/2020</td>\n",
       "      <td>0baff6</td>\n",
       "      <td>2</td>\n",
       "      <td>9</td>\n",
       "      <td>9</td>\n",
       "      <td>Mujer</td>\n",
       "      <td>No especificado</td>\n",
       "      <td>9</td>\n",
       "      <td>16</td>\n",
       "      <td>Ambulatorio</td>\n",
       "      <td>...</td>\n",
       "      <td>No</td>\n",
       "      <td>No</td>\n",
       "      <td>No</td>\n",
       "      <td>No</td>\n",
       "      <td>Si</td>\n",
       "      <td>Positivo</td>\n",
       "      <td>99</td>\n",
       "      <td>Brasil</td>\n",
       "      <td>99</td>\n",
       "      <td>No aplica</td>\n",
       "    </tr>\n",
       "    <tr>\n",
       "      <th>3</th>\n",
       "      <td>31/07/2020</td>\n",
       "      <td>1b5b75</td>\n",
       "      <td>2</td>\n",
       "      <td>9</td>\n",
       "      <td>9</td>\n",
       "      <td>Mujer</td>\n",
       "      <td>No especificado</td>\n",
       "      <td>15</td>\n",
       "      <td>37</td>\n",
       "      <td>Ambulatorio</td>\n",
       "      <td>...</td>\n",
       "      <td>Si</td>\n",
       "      <td>No</td>\n",
       "      <td>No</td>\n",
       "      <td>No</td>\n",
       "      <td>No</td>\n",
       "      <td>Positivo</td>\n",
       "      <td>99</td>\n",
       "      <td>EspaÃ±a</td>\n",
       "      <td>99</td>\n",
       "      <td>No aplica</td>\n",
       "    </tr>\n",
       "    <tr>\n",
       "      <th>4</th>\n",
       "      <td>31/07/2020</td>\n",
       "      <td>120290</td>\n",
       "      <td>2</td>\n",
       "      <td>9</td>\n",
       "      <td>15</td>\n",
       "      <td>Mujer</td>\n",
       "      <td>No especificado</td>\n",
       "      <td>15</td>\n",
       "      <td>37</td>\n",
       "      <td>Ambulatorio</td>\n",
       "      <td>...</td>\n",
       "      <td>No</td>\n",
       "      <td>No</td>\n",
       "      <td>No</td>\n",
       "      <td>No</td>\n",
       "      <td>No</td>\n",
       "      <td>Positivo</td>\n",
       "      <td>2</td>\n",
       "      <td>Argentina</td>\n",
       "      <td>99</td>\n",
       "      <td>No aplica</td>\n",
       "    </tr>\n",
       "    <tr>\n",
       "      <th>...</th>\n",
       "      <td>...</td>\n",
       "      <td>...</td>\n",
       "      <td>...</td>\n",
       "      <td>...</td>\n",
       "      <td>...</td>\n",
       "      <td>...</td>\n",
       "      <td>...</td>\n",
       "      <td>...</td>\n",
       "      <td>...</td>\n",
       "      <td>...</td>\n",
       "      <td>...</td>\n",
       "      <td>...</td>\n",
       "      <td>...</td>\n",
       "      <td>...</td>\n",
       "      <td>...</td>\n",
       "      <td>...</td>\n",
       "      <td>...</td>\n",
       "      <td>...</td>\n",
       "      <td>...</td>\n",
       "      <td>...</td>\n",
       "      <td>...</td>\n",
       "    </tr>\n",
       "    <tr>\n",
       "      <th>984283</th>\n",
       "      <td>31/07/2020</td>\n",
       "      <td>0fff21</td>\n",
       "      <td>1</td>\n",
       "      <td>4</td>\n",
       "      <td>32</td>\n",
       "      <td>Mujer</td>\n",
       "      <td>Zacatecas</td>\n",
       "      <td>32</td>\n",
       "      <td>42</td>\n",
       "      <td>Hospitalizado</td>\n",
       "      <td>...</td>\n",
       "      <td>No</td>\n",
       "      <td>No</td>\n",
       "      <td>No</td>\n",
       "      <td>No</td>\n",
       "      <td>No especificado</td>\n",
       "      <td>Pendiente</td>\n",
       "      <td>99</td>\n",
       "      <td>MÃ©xico</td>\n",
       "      <td>99</td>\n",
       "      <td>No</td>\n",
       "    </tr>\n",
       "    <tr>\n",
       "      <th>984284</th>\n",
       "      <td>31/07/2020</td>\n",
       "      <td>118a72</td>\n",
       "      <td>2</td>\n",
       "      <td>12</td>\n",
       "      <td>10</td>\n",
       "      <td>Mujer</td>\n",
       "      <td>Zacatecas</td>\n",
       "      <td>10</td>\n",
       "      <td>5</td>\n",
       "      <td>Hospitalizado</td>\n",
       "      <td>...</td>\n",
       "      <td>No</td>\n",
       "      <td>No</td>\n",
       "      <td>No</td>\n",
       "      <td>No</td>\n",
       "      <td>Si</td>\n",
       "      <td>Pendiente</td>\n",
       "      <td>99</td>\n",
       "      <td>MÃ©xico</td>\n",
       "      <td>99</td>\n",
       "      <td>No</td>\n",
       "    </tr>\n",
       "    <tr>\n",
       "      <th>984285</th>\n",
       "      <td>31/07/2020</td>\n",
       "      <td>09010e</td>\n",
       "      <td>1</td>\n",
       "      <td>12</td>\n",
       "      <td>32</td>\n",
       "      <td>Mujer</td>\n",
       "      <td>Zacatecas</td>\n",
       "      <td>32</td>\n",
       "      <td>56</td>\n",
       "      <td>Hospitalizado</td>\n",
       "      <td>...</td>\n",
       "      <td>No</td>\n",
       "      <td>No</td>\n",
       "      <td>No</td>\n",
       "      <td>No</td>\n",
       "      <td>No especificado</td>\n",
       "      <td>Pendiente</td>\n",
       "      <td>99</td>\n",
       "      <td>MÃ©xico</td>\n",
       "      <td>99</td>\n",
       "      <td>Si</td>\n",
       "    </tr>\n",
       "    <tr>\n",
       "      <th>984286</th>\n",
       "      <td>31/07/2020</td>\n",
       "      <td>1d5f85</td>\n",
       "      <td>1</td>\n",
       "      <td>12</td>\n",
       "      <td>14</td>\n",
       "      <td>Hombre</td>\n",
       "      <td>Zacatecas</td>\n",
       "      <td>14</td>\n",
       "      <td>39</td>\n",
       "      <td>Hospitalizado</td>\n",
       "      <td>...</td>\n",
       "      <td>No</td>\n",
       "      <td>Si</td>\n",
       "      <td>No</td>\n",
       "      <td>No</td>\n",
       "      <td>No</td>\n",
       "      <td>Pendiente</td>\n",
       "      <td>99</td>\n",
       "      <td>MÃ©xico</td>\n",
       "      <td>99</td>\n",
       "      <td>Si</td>\n",
       "    </tr>\n",
       "    <tr>\n",
       "      <th>984287</th>\n",
       "      <td>31/07/2020</td>\n",
       "      <td>17ecb4</td>\n",
       "      <td>1</td>\n",
       "      <td>4</td>\n",
       "      <td>1</td>\n",
       "      <td>Hombre</td>\n",
       "      <td>Zacatecas</td>\n",
       "      <td>1</td>\n",
       "      <td>1</td>\n",
       "      <td>Hospitalizado</td>\n",
       "      <td>...</td>\n",
       "      <td>No</td>\n",
       "      <td>No</td>\n",
       "      <td>No</td>\n",
       "      <td>No</td>\n",
       "      <td>No especificado</td>\n",
       "      <td>Pendiente</td>\n",
       "      <td>99</td>\n",
       "      <td>MÃ©xico</td>\n",
       "      <td>99</td>\n",
       "      <td>No</td>\n",
       "    </tr>\n",
       "  </tbody>\n",
       "</table>\n",
       "<p>984288 rows × 35 columns</p>\n",
       "</div>"
      ],
      "text/plain": [
       "       FECHA_ACTUALIZACION ID_REGISTRO  ORIGEN  SECTOR  ENTIDAD_UM    SEXO  \\\n",
       "0               31/07/2020      15f43a       2       4           2   Mujer   \n",
       "1               31/07/2020      0d6511       2       4          11  Hombre   \n",
       "2               31/07/2020      0baff6       2       9           9   Mujer   \n",
       "3               31/07/2020      1b5b75       2       9           9   Mujer   \n",
       "4               31/07/2020      120290       2       9          15   Mujer   \n",
       "...                    ...         ...     ...     ...         ...     ...   \n",
       "984283          31/07/2020      0fff21       1       4          32   Mujer   \n",
       "984284          31/07/2020      118a72       2      12          10   Mujer   \n",
       "984285          31/07/2020      09010e       1      12          32   Mujer   \n",
       "984286          31/07/2020      1d5f85       1      12          14  Hombre   \n",
       "984287          31/07/2020      17ecb4       1       4           1  Hombre   \n",
       "\n",
       "            ENTIDAD_NAC  ENTIDAD_RES  MUNICIPIO_RES  TIPO_PACIENTE  ...  \\\n",
       "0       No especificado            2              4    Ambulatorio  ...   \n",
       "1       No especificado           11             20    Ambulatorio  ...   \n",
       "2       No especificado            9             16    Ambulatorio  ...   \n",
       "3       No especificado           15             37    Ambulatorio  ...   \n",
       "4       No especificado           15             37    Ambulatorio  ...   \n",
       "...                 ...          ...            ...            ...  ...   \n",
       "984283        Zacatecas           32             42  Hospitalizado  ...   \n",
       "984284        Zacatecas           10              5  Hospitalizado  ...   \n",
       "984285        Zacatecas           32             56  Hospitalizado  ...   \n",
       "984286        Zacatecas           14             39  Hospitalizado  ...   \n",
       "984287        Zacatecas            1              1  Hospitalizado  ...   \n",
       "\n",
       "       CARDIOVASCULAR OBESIDAD RENAL_CRONICA TABAQUISMO        OTRO_CASO  \\\n",
       "0                  No       No            No         No  No especificado   \n",
       "1                  No       No            No         No  No especificado   \n",
       "2                  No       No            No         No               Si   \n",
       "3                  Si       No            No         No               No   \n",
       "4                  No       No            No         No               No   \n",
       "...               ...      ...           ...        ...              ...   \n",
       "984283             No       No            No         No  No especificado   \n",
       "984284             No       No            No         No               Si   \n",
       "984285             No       No            No         No  No especificado   \n",
       "984286             No       Si            No         No               No   \n",
       "984287             No       No            No         No  No especificado   \n",
       "\n",
       "        RESULTADO  MIGRANTE           PAIS_NACIONALIDAD PAIS_ORIGEN        UCI  \n",
       "0        Positivo        99                 El Salvador          99  No aplica  \n",
       "1        Positivo        99  Estados Unidos de AmÃ©rica          99  No aplica  \n",
       "2        Positivo        99                      Brasil          99  No aplica  \n",
       "3        Positivo        99                     EspaÃ±a          99  No aplica  \n",
       "4        Positivo         2                   Argentina          99  No aplica  \n",
       "...           ...       ...                         ...         ...        ...  \n",
       "984283  Pendiente        99                     MÃ©xico          99         No  \n",
       "984284  Pendiente        99                     MÃ©xico          99         No  \n",
       "984285  Pendiente        99                     MÃ©xico          99         Si  \n",
       "984286  Pendiente        99                     MÃ©xico          99         Si  \n",
       "984287  Pendiente        99                     MÃ©xico          99         No  \n",
       "\n",
       "[984288 rows x 35 columns]"
      ]
     },
     "execution_count": 15,
     "metadata": {},
     "output_type": "execute_result"
    }
   ],
   "source": [
    "df = pd.read_csv(\"20-07-31-COVID19MEXICO-codificado.csv\")\n",
    "df"
   ]
  },
  {
   "cell_type": "markdown",
   "metadata": {},
   "source": [
    "### Tipo de Datos\n",
    "\n",
    "- Los datos se encuentran en una variedad de tipos.\n",
    "- Los tipos principales almacenados en dataframes de Pandas son <b>object</b>, <b>float</b>, <b>int</b>, <b>bool</b> y <b>datetime64</b>. \n",
    "- Para aprender mejor acerca de cada atributo es mejor para nosotros saber el tipo de dato de cada columna. \n",
    "- En Pandas, podemos usar el atributo **df.dtypes**.\n"
   ]
  },
  {
   "cell_type": "code",
   "execution_count": 16,
   "metadata": {},
   "outputs": [
    {
     "data": {
      "text/plain": [
       "FECHA_ACTUALIZACION    object\n",
       "ID_REGISTRO            object\n",
       "ORIGEN                  int64\n",
       "SECTOR                  int64\n",
       "ENTIDAD_UM              int64\n",
       "SEXO                   object\n",
       "ENTIDAD_NAC            object\n",
       "ENTIDAD_RES             int64\n",
       "MUNICIPIO_RES           int64\n",
       "TIPO_PACIENTE          object\n",
       "FECHA_INGRESO          object\n",
       "FECHA_SINTOMAS         object\n",
       "FECHA_DEF              object\n",
       "INTUBADO               object\n",
       "NEUMONIA               object\n",
       "EDAD                    int64\n",
       "NACIONALIDAD            int64\n",
       "EMBARAZO               object\n",
       "HABLA_LENGUA_INDIG     object\n",
       "DIABETES               object\n",
       "EPOC                   object\n",
       "ASMA                   object\n",
       "INMUSUPR               object\n",
       "HIPERTENSION           object\n",
       "OTRA_COM               object\n",
       "CARDIOVASCULAR         object\n",
       "OBESIDAD               object\n",
       "RENAL_CRONICA          object\n",
       "TABAQUISMO             object\n",
       "OTRO_CASO              object\n",
       "RESULTADO              object\n",
       "MIGRANTE                int64\n",
       "PAIS_NACIONALIDAD      object\n",
       "PAIS_ORIGEN            object\n",
       "UCI                    object\n",
       "dtype: object"
      ]
     },
     "execution_count": 16,
     "metadata": {},
     "output_type": "execute_result"
    }
   ],
   "source": [
    "df.dtypes"
   ]
  },
  {
   "cell_type": "markdown",
   "metadata": {},
   "source": [
    "### Info (método)\n",
    "\n",
    "- Otro método que puede usar para revisar el dataframe es:\n",
    "- Este método imprime información sobre un DataFrame, incluido el tipo de índice y las columnas, los valores no nulos y el uso de la memoria.\n"
   ]
  },
  {
   "cell_type": "code",
   "execution_count": 17,
   "metadata": {
    "scrolled": true
   },
   "outputs": [
    {
     "name": "stdout",
     "output_type": "stream",
     "text": [
      "<class 'pandas.core.frame.DataFrame'>\n",
      "RangeIndex: 984288 entries, 0 to 984287\n",
      "Data columns (total 35 columns):\n",
      " #   Column               Non-Null Count   Dtype \n",
      "---  ------               --------------   ----- \n",
      " 0   FECHA_ACTUALIZACION  984288 non-null  object\n",
      " 1   ID_REGISTRO          984288 non-null  object\n",
      " 2   ORIGEN               984288 non-null  int64 \n",
      " 3   SECTOR               984288 non-null  int64 \n",
      " 4   ENTIDAD_UM           984288 non-null  int64 \n",
      " 5   SEXO                 984288 non-null  object\n",
      " 6   ENTIDAD_NAC          984288 non-null  object\n",
      " 7   ENTIDAD_RES          984288 non-null  int64 \n",
      " 8   MUNICIPIO_RES        984288 non-null  int64 \n",
      " 9   TIPO_PACIENTE        984288 non-null  object\n",
      " 10  FECHA_INGRESO        984288 non-null  object\n",
      " 11  FECHA_SINTOMAS       984288 non-null  object\n",
      " 12  FECHA_DEF            984288 non-null  object\n",
      " 13  INTUBADO             984288 non-null  object\n",
      " 14  NEUMONIA             984288 non-null  object\n",
      " 15  EDAD                 984288 non-null  int64 \n",
      " 16  NACIONALIDAD         984288 non-null  int64 \n",
      " 17  EMBARAZO             984288 non-null  object\n",
      " 18  HABLA_LENGUA_INDIG   984288 non-null  object\n",
      " 19  DIABETES             984288 non-null  object\n",
      " 20  EPOC                 984288 non-null  object\n",
      " 21  ASMA                 984288 non-null  object\n",
      " 22  INMUSUPR             984288 non-null  object\n",
      " 23  HIPERTENSION         984288 non-null  object\n",
      " 24  OTRA_COM             984288 non-null  object\n",
      " 25  CARDIOVASCULAR       984288 non-null  object\n",
      " 26  OBESIDAD             984288 non-null  object\n",
      " 27  RENAL_CRONICA        984288 non-null  object\n",
      " 28  TABAQUISMO           984288 non-null  object\n",
      " 29  OTRO_CASO            984288 non-null  object\n",
      " 30  RESULTADO            984288 non-null  object\n",
      " 31  MIGRANTE             984288 non-null  int64 \n",
      " 32  PAIS_NACIONALIDAD    984288 non-null  object\n",
      " 33  PAIS_ORIGEN          984288 non-null  object\n",
      " 34  UCI                  984288 non-null  object\n",
      "dtypes: int64(8), object(27)\n",
      "memory usage: 262.8+ MB\n"
     ]
    }
   ],
   "source": [
    "df.info()"
   ]
  },
  {
   "cell_type": "markdown",
   "metadata": {},
   "source": [
    "### Métodos head() y tail()\n",
    "\n",
    "Después de leer el conjunto de datos podemos utilizar los siguientes 2 métodos:\n",
    "\n",
    "- **head(n)** para revisar las primeras n filas del dataframe; donde n es u entero. \n",
    "- **tail(n)** mostrará las n filas del final del dataframe."
   ]
  },
  {
   "cell_type": "code",
   "execution_count": 18,
   "metadata": {},
   "outputs": [
    {
     "data": {
      "text/html": [
       "<div>\n",
       "<style scoped>\n",
       "    .dataframe tbody tr th:only-of-type {\n",
       "        vertical-align: middle;\n",
       "    }\n",
       "\n",
       "    .dataframe tbody tr th {\n",
       "        vertical-align: top;\n",
       "    }\n",
       "\n",
       "    .dataframe thead th {\n",
       "        text-align: right;\n",
       "    }\n",
       "</style>\n",
       "<table border=\"1\" class=\"dataframe\">\n",
       "  <thead>\n",
       "    <tr style=\"text-align: right;\">\n",
       "      <th></th>\n",
       "      <th>FECHA_ACTUALIZACION</th>\n",
       "      <th>ID_REGISTRO</th>\n",
       "      <th>ORIGEN</th>\n",
       "      <th>SECTOR</th>\n",
       "      <th>ENTIDAD_UM</th>\n",
       "      <th>SEXO</th>\n",
       "      <th>ENTIDAD_NAC</th>\n",
       "      <th>ENTIDAD_RES</th>\n",
       "      <th>MUNICIPIO_RES</th>\n",
       "      <th>TIPO_PACIENTE</th>\n",
       "      <th>...</th>\n",
       "      <th>CARDIOVASCULAR</th>\n",
       "      <th>OBESIDAD</th>\n",
       "      <th>RENAL_CRONICA</th>\n",
       "      <th>TABAQUISMO</th>\n",
       "      <th>OTRO_CASO</th>\n",
       "      <th>RESULTADO</th>\n",
       "      <th>MIGRANTE</th>\n",
       "      <th>PAIS_NACIONALIDAD</th>\n",
       "      <th>PAIS_ORIGEN</th>\n",
       "      <th>UCI</th>\n",
       "    </tr>\n",
       "  </thead>\n",
       "  <tbody>\n",
       "    <tr>\n",
       "      <th>0</th>\n",
       "      <td>31/07/2020</td>\n",
       "      <td>15f43a</td>\n",
       "      <td>2</td>\n",
       "      <td>4</td>\n",
       "      <td>2</td>\n",
       "      <td>Mujer</td>\n",
       "      <td>No especificado</td>\n",
       "      <td>2</td>\n",
       "      <td>4</td>\n",
       "      <td>Ambulatorio</td>\n",
       "      <td>...</td>\n",
       "      <td>No</td>\n",
       "      <td>No</td>\n",
       "      <td>No</td>\n",
       "      <td>No</td>\n",
       "      <td>No especificado</td>\n",
       "      <td>Positivo</td>\n",
       "      <td>99</td>\n",
       "      <td>El Salvador</td>\n",
       "      <td>99</td>\n",
       "      <td>No aplica</td>\n",
       "    </tr>\n",
       "    <tr>\n",
       "      <th>1</th>\n",
       "      <td>31/07/2020</td>\n",
       "      <td>0d6511</td>\n",
       "      <td>2</td>\n",
       "      <td>4</td>\n",
       "      <td>11</td>\n",
       "      <td>Hombre</td>\n",
       "      <td>No especificado</td>\n",
       "      <td>11</td>\n",
       "      <td>20</td>\n",
       "      <td>Ambulatorio</td>\n",
       "      <td>...</td>\n",
       "      <td>No</td>\n",
       "      <td>No</td>\n",
       "      <td>No</td>\n",
       "      <td>No</td>\n",
       "      <td>No especificado</td>\n",
       "      <td>Positivo</td>\n",
       "      <td>99</td>\n",
       "      <td>Estados Unidos de AmÃ©rica</td>\n",
       "      <td>99</td>\n",
       "      <td>No aplica</td>\n",
       "    </tr>\n",
       "    <tr>\n",
       "      <th>2</th>\n",
       "      <td>31/07/2020</td>\n",
       "      <td>0baff6</td>\n",
       "      <td>2</td>\n",
       "      <td>9</td>\n",
       "      <td>9</td>\n",
       "      <td>Mujer</td>\n",
       "      <td>No especificado</td>\n",
       "      <td>9</td>\n",
       "      <td>16</td>\n",
       "      <td>Ambulatorio</td>\n",
       "      <td>...</td>\n",
       "      <td>No</td>\n",
       "      <td>No</td>\n",
       "      <td>No</td>\n",
       "      <td>No</td>\n",
       "      <td>Si</td>\n",
       "      <td>Positivo</td>\n",
       "      <td>99</td>\n",
       "      <td>Brasil</td>\n",
       "      <td>99</td>\n",
       "      <td>No aplica</td>\n",
       "    </tr>\n",
       "    <tr>\n",
       "      <th>3</th>\n",
       "      <td>31/07/2020</td>\n",
       "      <td>1b5b75</td>\n",
       "      <td>2</td>\n",
       "      <td>9</td>\n",
       "      <td>9</td>\n",
       "      <td>Mujer</td>\n",
       "      <td>No especificado</td>\n",
       "      <td>15</td>\n",
       "      <td>37</td>\n",
       "      <td>Ambulatorio</td>\n",
       "      <td>...</td>\n",
       "      <td>Si</td>\n",
       "      <td>No</td>\n",
       "      <td>No</td>\n",
       "      <td>No</td>\n",
       "      <td>No</td>\n",
       "      <td>Positivo</td>\n",
       "      <td>99</td>\n",
       "      <td>EspaÃ±a</td>\n",
       "      <td>99</td>\n",
       "      <td>No aplica</td>\n",
       "    </tr>\n",
       "    <tr>\n",
       "      <th>4</th>\n",
       "      <td>31/07/2020</td>\n",
       "      <td>120290</td>\n",
       "      <td>2</td>\n",
       "      <td>9</td>\n",
       "      <td>15</td>\n",
       "      <td>Mujer</td>\n",
       "      <td>No especificado</td>\n",
       "      <td>15</td>\n",
       "      <td>37</td>\n",
       "      <td>Ambulatorio</td>\n",
       "      <td>...</td>\n",
       "      <td>No</td>\n",
       "      <td>No</td>\n",
       "      <td>No</td>\n",
       "      <td>No</td>\n",
       "      <td>No</td>\n",
       "      <td>Positivo</td>\n",
       "      <td>2</td>\n",
       "      <td>Argentina</td>\n",
       "      <td>99</td>\n",
       "      <td>No aplica</td>\n",
       "    </tr>\n",
       "  </tbody>\n",
       "</table>\n",
       "<p>5 rows × 35 columns</p>\n",
       "</div>"
      ],
      "text/plain": [
       "  FECHA_ACTUALIZACION ID_REGISTRO  ORIGEN  SECTOR  ENTIDAD_UM    SEXO  \\\n",
       "0          31/07/2020      15f43a       2       4           2   Mujer   \n",
       "1          31/07/2020      0d6511       2       4          11  Hombre   \n",
       "2          31/07/2020      0baff6       2       9           9   Mujer   \n",
       "3          31/07/2020      1b5b75       2       9           9   Mujer   \n",
       "4          31/07/2020      120290       2       9          15   Mujer   \n",
       "\n",
       "       ENTIDAD_NAC  ENTIDAD_RES  MUNICIPIO_RES TIPO_PACIENTE  ...  \\\n",
       "0  No especificado            2              4   Ambulatorio  ...   \n",
       "1  No especificado           11             20   Ambulatorio  ...   \n",
       "2  No especificado            9             16   Ambulatorio  ...   \n",
       "3  No especificado           15             37   Ambulatorio  ...   \n",
       "4  No especificado           15             37   Ambulatorio  ...   \n",
       "\n",
       "  CARDIOVASCULAR OBESIDAD RENAL_CRONICA TABAQUISMO        OTRO_CASO  \\\n",
       "0             No       No            No         No  No especificado   \n",
       "1             No       No            No         No  No especificado   \n",
       "2             No       No            No         No               Si   \n",
       "3             Si       No            No         No               No   \n",
       "4             No       No            No         No               No   \n",
       "\n",
       "   RESULTADO  MIGRANTE           PAIS_NACIONALIDAD PAIS_ORIGEN        UCI  \n",
       "0   Positivo        99                 El Salvador          99  No aplica  \n",
       "1   Positivo        99  Estados Unidos de AmÃ©rica          99  No aplica  \n",
       "2   Positivo        99                      Brasil          99  No aplica  \n",
       "3   Positivo        99                     EspaÃ±a          99  No aplica  \n",
       "4   Positivo         2                   Argentina          99  No aplica  \n",
       "\n",
       "[5 rows x 35 columns]"
      ]
     },
     "execution_count": 18,
     "metadata": {},
     "output_type": "execute_result"
    }
   ],
   "source": [
    "# Mostrar los primeros 5 renglones\n",
    "df.head()"
   ]
  },
  {
   "cell_type": "code",
   "execution_count": 19,
   "metadata": {},
   "outputs": [
    {
     "data": {
      "text/html": [
       "<div>\n",
       "<style scoped>\n",
       "    .dataframe tbody tr th:only-of-type {\n",
       "        vertical-align: middle;\n",
       "    }\n",
       "\n",
       "    .dataframe tbody tr th {\n",
       "        vertical-align: top;\n",
       "    }\n",
       "\n",
       "    .dataframe thead th {\n",
       "        text-align: right;\n",
       "    }\n",
       "</style>\n",
       "<table border=\"1\" class=\"dataframe\">\n",
       "  <thead>\n",
       "    <tr style=\"text-align: right;\">\n",
       "      <th></th>\n",
       "      <th>FECHA_ACTUALIZACION</th>\n",
       "      <th>ID_REGISTRO</th>\n",
       "      <th>ORIGEN</th>\n",
       "      <th>SECTOR</th>\n",
       "      <th>ENTIDAD_UM</th>\n",
       "      <th>SEXO</th>\n",
       "      <th>ENTIDAD_NAC</th>\n",
       "      <th>ENTIDAD_RES</th>\n",
       "      <th>MUNICIPIO_RES</th>\n",
       "      <th>TIPO_PACIENTE</th>\n",
       "      <th>...</th>\n",
       "      <th>CARDIOVASCULAR</th>\n",
       "      <th>OBESIDAD</th>\n",
       "      <th>RENAL_CRONICA</th>\n",
       "      <th>TABAQUISMO</th>\n",
       "      <th>OTRO_CASO</th>\n",
       "      <th>RESULTADO</th>\n",
       "      <th>MIGRANTE</th>\n",
       "      <th>PAIS_NACIONALIDAD</th>\n",
       "      <th>PAIS_ORIGEN</th>\n",
       "      <th>UCI</th>\n",
       "    </tr>\n",
       "  </thead>\n",
       "  <tbody>\n",
       "    <tr>\n",
       "      <th>984283</th>\n",
       "      <td>31/07/2020</td>\n",
       "      <td>0fff21</td>\n",
       "      <td>1</td>\n",
       "      <td>4</td>\n",
       "      <td>32</td>\n",
       "      <td>Mujer</td>\n",
       "      <td>Zacatecas</td>\n",
       "      <td>32</td>\n",
       "      <td>42</td>\n",
       "      <td>Hospitalizado</td>\n",
       "      <td>...</td>\n",
       "      <td>No</td>\n",
       "      <td>No</td>\n",
       "      <td>No</td>\n",
       "      <td>No</td>\n",
       "      <td>No especificado</td>\n",
       "      <td>Pendiente</td>\n",
       "      <td>99</td>\n",
       "      <td>MÃ©xico</td>\n",
       "      <td>99</td>\n",
       "      <td>No</td>\n",
       "    </tr>\n",
       "    <tr>\n",
       "      <th>984284</th>\n",
       "      <td>31/07/2020</td>\n",
       "      <td>118a72</td>\n",
       "      <td>2</td>\n",
       "      <td>12</td>\n",
       "      <td>10</td>\n",
       "      <td>Mujer</td>\n",
       "      <td>Zacatecas</td>\n",
       "      <td>10</td>\n",
       "      <td>5</td>\n",
       "      <td>Hospitalizado</td>\n",
       "      <td>...</td>\n",
       "      <td>No</td>\n",
       "      <td>No</td>\n",
       "      <td>No</td>\n",
       "      <td>No</td>\n",
       "      <td>Si</td>\n",
       "      <td>Pendiente</td>\n",
       "      <td>99</td>\n",
       "      <td>MÃ©xico</td>\n",
       "      <td>99</td>\n",
       "      <td>No</td>\n",
       "    </tr>\n",
       "    <tr>\n",
       "      <th>984285</th>\n",
       "      <td>31/07/2020</td>\n",
       "      <td>09010e</td>\n",
       "      <td>1</td>\n",
       "      <td>12</td>\n",
       "      <td>32</td>\n",
       "      <td>Mujer</td>\n",
       "      <td>Zacatecas</td>\n",
       "      <td>32</td>\n",
       "      <td>56</td>\n",
       "      <td>Hospitalizado</td>\n",
       "      <td>...</td>\n",
       "      <td>No</td>\n",
       "      <td>No</td>\n",
       "      <td>No</td>\n",
       "      <td>No</td>\n",
       "      <td>No especificado</td>\n",
       "      <td>Pendiente</td>\n",
       "      <td>99</td>\n",
       "      <td>MÃ©xico</td>\n",
       "      <td>99</td>\n",
       "      <td>Si</td>\n",
       "    </tr>\n",
       "    <tr>\n",
       "      <th>984286</th>\n",
       "      <td>31/07/2020</td>\n",
       "      <td>1d5f85</td>\n",
       "      <td>1</td>\n",
       "      <td>12</td>\n",
       "      <td>14</td>\n",
       "      <td>Hombre</td>\n",
       "      <td>Zacatecas</td>\n",
       "      <td>14</td>\n",
       "      <td>39</td>\n",
       "      <td>Hospitalizado</td>\n",
       "      <td>...</td>\n",
       "      <td>No</td>\n",
       "      <td>Si</td>\n",
       "      <td>No</td>\n",
       "      <td>No</td>\n",
       "      <td>No</td>\n",
       "      <td>Pendiente</td>\n",
       "      <td>99</td>\n",
       "      <td>MÃ©xico</td>\n",
       "      <td>99</td>\n",
       "      <td>Si</td>\n",
       "    </tr>\n",
       "    <tr>\n",
       "      <th>984287</th>\n",
       "      <td>31/07/2020</td>\n",
       "      <td>17ecb4</td>\n",
       "      <td>1</td>\n",
       "      <td>4</td>\n",
       "      <td>1</td>\n",
       "      <td>Hombre</td>\n",
       "      <td>Zacatecas</td>\n",
       "      <td>1</td>\n",
       "      <td>1</td>\n",
       "      <td>Hospitalizado</td>\n",
       "      <td>...</td>\n",
       "      <td>No</td>\n",
       "      <td>No</td>\n",
       "      <td>No</td>\n",
       "      <td>No</td>\n",
       "      <td>No especificado</td>\n",
       "      <td>Pendiente</td>\n",
       "      <td>99</td>\n",
       "      <td>MÃ©xico</td>\n",
       "      <td>99</td>\n",
       "      <td>No</td>\n",
       "    </tr>\n",
       "  </tbody>\n",
       "</table>\n",
       "<p>5 rows × 35 columns</p>\n",
       "</div>"
      ],
      "text/plain": [
       "       FECHA_ACTUALIZACION ID_REGISTRO  ORIGEN  SECTOR  ENTIDAD_UM    SEXO  \\\n",
       "984283          31/07/2020      0fff21       1       4          32   Mujer   \n",
       "984284          31/07/2020      118a72       2      12          10   Mujer   \n",
       "984285          31/07/2020      09010e       1      12          32   Mujer   \n",
       "984286          31/07/2020      1d5f85       1      12          14  Hombre   \n",
       "984287          31/07/2020      17ecb4       1       4           1  Hombre   \n",
       "\n",
       "       ENTIDAD_NAC  ENTIDAD_RES  MUNICIPIO_RES  TIPO_PACIENTE  ...  \\\n",
       "984283   Zacatecas           32             42  Hospitalizado  ...   \n",
       "984284   Zacatecas           10              5  Hospitalizado  ...   \n",
       "984285   Zacatecas           32             56  Hospitalizado  ...   \n",
       "984286   Zacatecas           14             39  Hospitalizado  ...   \n",
       "984287   Zacatecas            1              1  Hospitalizado  ...   \n",
       "\n",
       "       CARDIOVASCULAR OBESIDAD RENAL_CRONICA TABAQUISMO        OTRO_CASO  \\\n",
       "984283             No       No            No         No  No especificado   \n",
       "984284             No       No            No         No               Si   \n",
       "984285             No       No            No         No  No especificado   \n",
       "984286             No       Si            No         No               No   \n",
       "984287             No       No            No         No  No especificado   \n",
       "\n",
       "        RESULTADO  MIGRANTE PAIS_NACIONALIDAD PAIS_ORIGEN UCI  \n",
       "984283  Pendiente        99           MÃ©xico          99  No  \n",
       "984284  Pendiente        99           MÃ©xico          99  No  \n",
       "984285  Pendiente        99           MÃ©xico          99  Si  \n",
       "984286  Pendiente        99           MÃ©xico          99  Si  \n",
       "984287  Pendiente        99           MÃ©xico          99  No  \n",
       "\n",
       "[5 rows x 35 columns]"
      ]
     },
     "execution_count": 19,
     "metadata": {},
     "output_type": "execute_result"
    }
   ],
   "source": [
    "# Mostrar los últimos  5 renglones\n",
    "df.tail()"
   ]
  },
  {
   "cell_type": "code",
   "execution_count": 20,
   "metadata": {},
   "outputs": [
    {
     "data": {
      "text/plain": [
       "(984288, 35)"
      ]
     },
     "execution_count": 20,
     "metadata": {},
     "output_type": "execute_result"
    }
   ],
   "source": [
    "##   shape   Devuelve una tupla que representa la dimensionalidad del DataFrame\n",
    "\n",
    "df.shape"
   ]
  },
  {
   "cell_type": "markdown",
   "metadata": {},
   "source": [
    "### 5.5.1  Añadir encabezados a dataframe <a id='id51'> </a> "
   ]
  },
  {
   "cell_type": "code",
   "execution_count": 21,
   "metadata": {},
   "outputs": [
    {
     "data": {
      "text/html": [
       "<div>\n",
       "<style scoped>\n",
       "    .dataframe tbody tr th:only-of-type {\n",
       "        vertical-align: middle;\n",
       "    }\n",
       "\n",
       "    .dataframe tbody tr th {\n",
       "        vertical-align: top;\n",
       "    }\n",
       "\n",
       "    .dataframe thead th {\n",
       "        text-align: right;\n",
       "    }\n",
       "</style>\n",
       "<table border=\"1\" class=\"dataframe\">\n",
       "  <thead>\n",
       "    <tr style=\"text-align: right;\">\n",
       "      <th></th>\n",
       "      <th>Aguascalientes</th>\n",
       "      <th>10,676,000,000</th>\n",
       "      <th>7,158,000,000</th>\n",
       "      <th>1,232,000,000</th>\n",
       "      <th>Centro-Norte</th>\n",
       "    </tr>\n",
       "  </thead>\n",
       "  <tbody>\n",
       "    <tr>\n",
       "      <th>0</th>\n",
       "      <td>Guanajuato</td>\n",
       "      <td>30,265,000,000</td>\n",
       "      <td>29,097,000,000</td>\n",
       "      <td>4,373,000,000</td>\n",
       "      <td>Centro-Norte</td>\n",
       "    </tr>\n",
       "    <tr>\n",
       "      <th>1</th>\n",
       "      <td>Queretaro</td>\n",
       "      <td>12,321,000,000</td>\n",
       "      <td>11,162,000,000</td>\n",
       "      <td>2,852,000,000</td>\n",
       "      <td>Centro-Norte</td>\n",
       "    </tr>\n",
       "    <tr>\n",
       "      <th>2</th>\n",
       "      <td>San Luis Potosi</td>\n",
       "      <td>20,428,000,000</td>\n",
       "      <td>13,656,000,000</td>\n",
       "      <td>1,937,000,000</td>\n",
       "      <td>Centro-Norte</td>\n",
       "    </tr>\n",
       "    <tr>\n",
       "      <th>3</th>\n",
       "      <td>Zacatecas</td>\n",
       "      <td>14,101,000,000</td>\n",
       "      <td>7,903,000,000</td>\n",
       "      <td>1,192,000,000</td>\n",
       "      <td>Centro-Norte</td>\n",
       "    </tr>\n",
       "    <tr>\n",
       "      <th>4</th>\n",
       "      <td>Ciudad de México</td>\n",
       "      <td>16,205,000,000</td>\n",
       "      <td>68,270,000,000</td>\n",
       "      <td>58,800,000,000</td>\n",
       "      <td>Centro-Sur</td>\n",
       "    </tr>\n",
       "  </tbody>\n",
       "</table>\n",
       "</div>"
      ],
      "text/plain": [
       "     Aguascalientes  10,676,000,000   7,158,000,000   1,232,000,000  \\\n",
       "0        Guanajuato  30,265,000,000  29,097,000,000   4,373,000,000   \n",
       "1         Queretaro  12,321,000,000  11,162,000,000   2,852,000,000   \n",
       "2   San Luis Potosi  20,428,000,000  13,656,000,000   1,937,000,000   \n",
       "3         Zacatecas  14,101,000,000   7,903,000,000   1,192,000,000   \n",
       "4  Ciudad de México  16,205,000,000  68,270,000,000  58,800,000,000   \n",
       "\n",
       "   Centro-Norte  \n",
       "0  Centro-Norte  \n",
       "1  Centro-Norte  \n",
       "2  Centro-Norte  \n",
       "3  Centro-Norte  \n",
       "4    Centro-Sur  "
      ]
     },
     "execution_count": 21,
     "metadata": {},
     "output_type": "execute_result"
    }
   ],
   "source": [
    "# Notese que el archivo csv no tiene encabezados y el dataframe pone como\n",
    "# encabezados los datos que aparecen en el primer renglón\n",
    "\n",
    "DiagnosticoIMCO_NoHeaders = pd.read_csv(\"DiagnosticoIMCO_NoHeaders.csv\")\n",
    "DiagnosticoIMCO_NoHeaders.head()"
   ]
  },
  {
   "cell_type": "code",
   "execution_count": 22,
   "metadata": {},
   "outputs": [
    {
     "name": "stdout",
     "output_type": "stream",
     "text": [
      "['Estado', 'AportacionesFederales', 'ParticipacionesFederales', 'RecaudacionImpuestos', 'Region']\n"
     ]
    }
   ],
   "source": [
    "# creamos una lista con los valores de los encabezados \n",
    "\n",
    "encabezados = [\"Estado\", \"AportacionesFederales\", \"ParticipacionesFederales\",\n",
    "           \"RecaudacionImpuestos\", \"Region\" ]\n",
    "\n",
    "\n",
    "print(encabezados)"
   ]
  },
  {
   "cell_type": "code",
   "execution_count": 23,
   "metadata": {},
   "outputs": [
    {
     "data": {
      "text/html": [
       "<div>\n",
       "<style scoped>\n",
       "    .dataframe tbody tr th:only-of-type {\n",
       "        vertical-align: middle;\n",
       "    }\n",
       "\n",
       "    .dataframe tbody tr th {\n",
       "        vertical-align: top;\n",
       "    }\n",
       "\n",
       "    .dataframe thead th {\n",
       "        text-align: right;\n",
       "    }\n",
       "</style>\n",
       "<table border=\"1\" class=\"dataframe\">\n",
       "  <thead>\n",
       "    <tr style=\"text-align: right;\">\n",
       "      <th></th>\n",
       "      <th>Estado</th>\n",
       "      <th>AportacionesFederales</th>\n",
       "      <th>ParticipacionesFederales</th>\n",
       "      <th>RecaudacionImpuestos</th>\n",
       "      <th>Region</th>\n",
       "    </tr>\n",
       "  </thead>\n",
       "  <tbody>\n",
       "    <tr>\n",
       "      <th>0</th>\n",
       "      <td>Aguascalientes</td>\n",
       "      <td>10,676,000,000</td>\n",
       "      <td>7,158,000,000</td>\n",
       "      <td>1,232,000,000</td>\n",
       "      <td>Centro-Norte</td>\n",
       "    </tr>\n",
       "    <tr>\n",
       "      <th>1</th>\n",
       "      <td>Guanajuato</td>\n",
       "      <td>30,265,000,000</td>\n",
       "      <td>29,097,000,000</td>\n",
       "      <td>4,373,000,000</td>\n",
       "      <td>Centro-Norte</td>\n",
       "    </tr>\n",
       "    <tr>\n",
       "      <th>2</th>\n",
       "      <td>Queretaro</td>\n",
       "      <td>12,321,000,000</td>\n",
       "      <td>11,162,000,000</td>\n",
       "      <td>2,852,000,000</td>\n",
       "      <td>Centro-Norte</td>\n",
       "    </tr>\n",
       "    <tr>\n",
       "      <th>3</th>\n",
       "      <td>San Luis Potosi</td>\n",
       "      <td>20,428,000,000</td>\n",
       "      <td>13,656,000,000</td>\n",
       "      <td>1,937,000,000</td>\n",
       "      <td>Centro-Norte</td>\n",
       "    </tr>\n",
       "    <tr>\n",
       "      <th>4</th>\n",
       "      <td>Zacatecas</td>\n",
       "      <td>14,101,000,000</td>\n",
       "      <td>7,903,000,000</td>\n",
       "      <td>1,192,000,000</td>\n",
       "      <td>Centro-Norte</td>\n",
       "    </tr>\n",
       "  </tbody>\n",
       "</table>\n",
       "</div>"
      ],
      "text/plain": [
       "            Estado AportacionesFederales ParticipacionesFederales  \\\n",
       "0   Aguascalientes        10,676,000,000            7,158,000,000   \n",
       "1       Guanajuato        30,265,000,000           29,097,000,000   \n",
       "2        Queretaro        12,321,000,000           11,162,000,000   \n",
       "3  San Luis Potosi        20,428,000,000           13,656,000,000   \n",
       "4        Zacatecas        14,101,000,000            7,903,000,000   \n",
       "\n",
       "  RecaudacionImpuestos        Region  \n",
       "0        1,232,000,000  Centro-Norte  \n",
       "1        4,373,000,000  Centro-Norte  \n",
       "2        2,852,000,000  Centro-Norte  \n",
       "3        1,937,000,000  Centro-Norte  \n",
       "4        1,192,000,000  Centro-Norte  "
      ]
     },
     "execution_count": 23,
     "metadata": {},
     "output_type": "execute_result"
    }
   ],
   "source": [
    "#  Opcion 1, especificar los encabezados al abrir e archivo\n",
    "# https://pandas.pydata.org/docs/reference/api/pandas.read_csv.html\n",
    "\n",
    "DiagnosticoIMCO_NoHeaders = pd.read_csv(\"DiagnosticoIMCO_NoHeaders.csv\", names=encabezados)\n",
    "DiagnosticoIMCO_NoHeaders.head()"
   ]
  },
  {
   "cell_type": "code",
   "execution_count": 24,
   "metadata": {},
   "outputs": [
    {
     "data": {
      "text/html": [
       "<div>\n",
       "<style scoped>\n",
       "    .dataframe tbody tr th:only-of-type {\n",
       "        vertical-align: middle;\n",
       "    }\n",
       "\n",
       "    .dataframe tbody tr th {\n",
       "        vertical-align: top;\n",
       "    }\n",
       "\n",
       "    .dataframe thead th {\n",
       "        text-align: right;\n",
       "    }\n",
       "</style>\n",
       "<table border=\"1\" class=\"dataframe\">\n",
       "  <thead>\n",
       "    <tr style=\"text-align: right;\">\n",
       "      <th></th>\n",
       "      <th>0</th>\n",
       "      <th>1</th>\n",
       "      <th>2</th>\n",
       "      <th>3</th>\n",
       "      <th>4</th>\n",
       "    </tr>\n",
       "  </thead>\n",
       "  <tbody>\n",
       "    <tr>\n",
       "      <th>0</th>\n",
       "      <td>Aguascalientes</td>\n",
       "      <td>10,676,000,000</td>\n",
       "      <td>7,158,000,000</td>\n",
       "      <td>1,232,000,000</td>\n",
       "      <td>Centro-Norte</td>\n",
       "    </tr>\n",
       "    <tr>\n",
       "      <th>1</th>\n",
       "      <td>Guanajuato</td>\n",
       "      <td>30,265,000,000</td>\n",
       "      <td>29,097,000,000</td>\n",
       "      <td>4,373,000,000</td>\n",
       "      <td>Centro-Norte</td>\n",
       "    </tr>\n",
       "    <tr>\n",
       "      <th>2</th>\n",
       "      <td>Queretaro</td>\n",
       "      <td>12,321,000,000</td>\n",
       "      <td>11,162,000,000</td>\n",
       "      <td>2,852,000,000</td>\n",
       "      <td>Centro-Norte</td>\n",
       "    </tr>\n",
       "    <tr>\n",
       "      <th>3</th>\n",
       "      <td>San Luis Potosi</td>\n",
       "      <td>20,428,000,000</td>\n",
       "      <td>13,656,000,000</td>\n",
       "      <td>1,937,000,000</td>\n",
       "      <td>Centro-Norte</td>\n",
       "    </tr>\n",
       "    <tr>\n",
       "      <th>4</th>\n",
       "      <td>Zacatecas</td>\n",
       "      <td>14,101,000,000</td>\n",
       "      <td>7,903,000,000</td>\n",
       "      <td>1,192,000,000</td>\n",
       "      <td>Centro-Norte</td>\n",
       "    </tr>\n",
       "  </tbody>\n",
       "</table>\n",
       "</div>"
      ],
      "text/plain": [
       "                 0               1               2              3  \\\n",
       "0   Aguascalientes  10,676,000,000   7,158,000,000  1,232,000,000   \n",
       "1       Guanajuato  30,265,000,000  29,097,000,000  4,373,000,000   \n",
       "2        Queretaro  12,321,000,000  11,162,000,000  2,852,000,000   \n",
       "3  San Luis Potosi  20,428,000,000  13,656,000,000  1,937,000,000   \n",
       "4        Zacatecas  14,101,000,000   7,903,000,000  1,192,000,000   \n",
       "\n",
       "              4  \n",
       "0  Centro-Norte  \n",
       "1  Centro-Norte  \n",
       "2  Centro-Norte  \n",
       "3  Centro-Norte  \n",
       "4  Centro-Norte  "
      ]
     },
     "execution_count": 24,
     "metadata": {},
     "output_type": "execute_result"
    }
   ],
   "source": [
    "# opcion 2, especificar encabezados despues de abrir el archivo\n",
    "\n",
    "DiagnosticoIMCO_NoHeaders = pd.read_csv(\"DiagnosticoIMCO_NoHeaders.csv\", header = None)\n",
    "DiagnosticoIMCO_NoHeaders.head()"
   ]
  },
  {
   "cell_type": "code",
   "execution_count": null,
   "metadata": {},
   "outputs": [],
   "source": [
    "DiagnosticoIMCO_NoHeaders.columns = encabezados\n",
    "\n",
    "DiagnosticoIMCO_NoHeaders.head()"
   ]
  },
  {
   "cell_type": "code",
   "execution_count": null,
   "metadata": {},
   "outputs": [],
   "source": []
  },
  {
   "cell_type": "markdown",
   "metadata": {},
   "source": [
    "##  1.3 Indexing dataframes   <a id='id2'> </a>\n",
    "\n",
    "- El índice es el modo de acceso a un valor en Series y dataframes. Algo así como los nombres de celdas (A1, B2, etc) en Excel para acceder a un valor específico.\n",
    "- Podemos modificar el valor del índice que se asignó por defecto\n",
    "- Establecer una columna como índice, permite seleccionar más fácil un valor(es) a buscar\n",
    "- Se establece un indice con el comando **set_index()**.\n",
    "- **set_index()** es un proceso destructivo, no mantiene el índice actual (En versiones anteriores de Pandas). \n",
    "- Si quieres mantener el index actual, necesitas crear manualmente una nueva columna y copiar en ella los valores desde el atributo index."
   ]
  },
  {
   "cell_type": "code",
   "execution_count": null,
   "metadata": {},
   "outputs": [],
   "source": [
    "# Volvemos a copiar el primer dataframe\n",
    "\n",
    "Estado1 = pd.Series( {'Estado': 'Aguascalientes',\n",
    "                    'AportacionesFederales': 10676000000,\n",
    "                    'ParticipacionesFederales': 7158000000,\n",
    "                    'RecaudacionImpuestos': 1232000000} )\n",
    "Estado2 = pd.Series( {'Estado': 'Baja California',\n",
    "                    'AportacionesFederales': 20518000000,\n",
    "                    'ParticipacionesFederales': 19401000000,\n",
    "                    'RecaudacionImpuestos': 4341000000} )\n",
    "Estado3 = pd.Series( {'Estado': 'Baja California Sur',\n",
    "                    'AportacionesFederales': 7173000000,\n",
    "                    'ParticipacionesFederales': 4809000000,\n",
    "                    'RecaudacionImpuestos': 1112000000} )\n",
    "Estado4 = pd.Series( {'Estado': 'Campeche',\n",
    "                    'AportacionesFederales': 8835000000,\n",
    "                    'ParticipacionesFederales':  5628000000,\n",
    "                    'RecaudacionImpuestos': 1663000000} )\n",
    "\n"
   ]
  },
  {
   "cell_type": "code",
   "execution_count": null,
   "metadata": {},
   "outputs": [],
   "source": [
    "# Observar que el indice es numérico y se generó automáticamente al crear el dataframe\n",
    "#\n",
    "\n",
    "Ingresos = pd.DataFrame( [Estado1, Estado2, Estado3, Estado4] )\n",
    "Ingresos"
   ]
  },
  {
   "cell_type": "code",
   "execution_count": null,
   "metadata": {},
   "outputs": [],
   "source": [
    "# Podemos indicar la columna estado como índce para que sea más fácil las búsquedas\n",
    "\n",
    "Ingresos = Ingresos.set_index('Estado')\n",
    "Ingresos"
   ]
  },
  {
   "cell_type": "code",
   "execution_count": null,
   "metadata": {},
   "outputs": [],
   "source": [
    "Ingresos.loc['Campeche']"
   ]
  },
  {
   "cell_type": "code",
   "execution_count": null,
   "metadata": {},
   "outputs": [],
   "source": [
    "Ingresos.loc['Campeche', 'RecaudacionImpuestos']"
   ]
  },
  {
   "cell_type": "code",
   "execution_count": null,
   "metadata": {},
   "outputs": [],
   "source": [
    "Ingresos.loc[ ['Campeche', 'Aguascalientes']]"
   ]
  },
  {
   "cell_type": "markdown",
   "metadata": {},
   "source": [
    "##  Cambiar índice"
   ]
  },
  {
   "cell_type": "code",
   "execution_count": null,
   "metadata": {},
   "outputs": [],
   "source": [
    "medallero = pd.read_csv(\"MedallasOlimpiadas2020_10.csv\")\n",
    "medallero"
   ]
  },
  {
   "cell_type": "code",
   "execution_count": null,
   "metadata": {},
   "outputs": [],
   "source": [
    "medallero.set_index(\"Pais\")"
   ]
  },
  {
   "cell_type": "code",
   "execution_count": null,
   "metadata": {},
   "outputs": [],
   "source": [
    "medallero.set_index(\"Posicion\")"
   ]
  },
  {
   "cell_type": "code",
   "execution_count": null,
   "metadata": {},
   "outputs": [],
   "source": [
    "medallero.set_index(\"Total\")"
   ]
  },
  {
   "cell_type": "code",
   "execution_count": null,
   "metadata": {},
   "outputs": [],
   "source": [
    "medallero\n",
    "\n",
    "# Notese que aunque establecimos el índice en diferentes columnas en las celdas anteriores,\n",
    "# en realidad no se hace sobre el dataframe original como podemos observar si volvemos\n",
    "# a llamar al medallero. \n",
    "# por lo tanto, en los casos anteriores el resultado fue una copoia "
   ]
  },
  {
   "cell_type": "code",
   "execution_count": null,
   "metadata": {},
   "outputs": [],
   "source": [
    "# Para que surta el cambio de inmediato, debemos especificar el atributo inplace = True\n",
    "\n",
    "medallero.set_index(\"Pais\", inplace=True)"
   ]
  },
  {
   "cell_type": "code",
   "execution_count": null,
   "metadata": {},
   "outputs": [],
   "source": [
    "medallero"
   ]
  },
  {
   "cell_type": "code",
   "execution_count": null,
   "metadata": {},
   "outputs": [],
   "source": [
    "# Si reseteamos el indice, debemos colocar inplace = True\n",
    "# Ver lo que pasa si no se especifica inplace\n",
    "\n",
    "medallero.reset_index()"
   ]
  },
  {
   "cell_type": "code",
   "execution_count": null,
   "metadata": {},
   "outputs": [],
   "source": [
    "# Ver lo que pasa si no se especifica inplace\n",
    "medallero"
   ]
  },
  {
   "cell_type": "code",
   "execution_count": null,
   "metadata": {},
   "outputs": [],
   "source": [
    "# Ahora con inplace\n",
    "\n",
    "medallero.reset_index(inplace = True)"
   ]
  },
  {
   "cell_type": "code",
   "execution_count": null,
   "metadata": {},
   "outputs": [],
   "source": [
    "medallero"
   ]
  },
  {
   "cell_type": "code",
   "execution_count": null,
   "metadata": {},
   "outputs": [],
   "source": []
  },
  {
   "cell_type": "markdown",
   "metadata": {},
   "source": [
    "##  1.4 Copiar un dataframe   <a id='id4'> </a> \n",
    "\n",
    "> **DataFrame.copy(deep=True)**\n",
    "\n",
    "- **copy** Hace una copia de los índices y datos de este objeto.\n",
    "\n",
    "- Cuando **deep=True** (predeterminado), se **creará un nuevo objeto con una copia de los datos e índices del objeto que llama**. Las modificaciones a los datos o índices de la copia no se reflejarán en el objeto original (ver notas a continuación).\n",
    "\n",
    "- Cuando **deep=False**, se creará un **nuevo objeto sin copiar los datos o el índice** del objeto que llama (solo se copian las referencias a los datos y el índice). Cualquier cambio en los datos del original se reflejará en la copia superficial (y viceversa)."
   ]
  },
  {
   "cell_type": "code",
   "execution_count": null,
   "metadata": {},
   "outputs": [],
   "source": [
    "Ingresos"
   ]
  },
  {
   "cell_type": "code",
   "execution_count": null,
   "metadata": {},
   "outputs": [],
   "source": [
    "IngresosCopia = Ingresos.copy()\n",
    "IngresosCopia"
   ]
  },
  {
   "cell_type": "code",
   "execution_count": null,
   "metadata": {},
   "outputs": [],
   "source": []
  },
  {
   "cell_type": "markdown",
   "metadata": {},
   "source": [
    "## 1.5 Consultas en un dataframe  <a id='id6'> </a> \n",
    "\n",
    "- Las consultas en dataframes se realizan usando el **enmascaramiento booleano**. \n",
    "- El enmascaramiento booleano provoca que las consultas sean más rápidas y eficientes en Numpy.\n",
    "- Una **máscara booleana es una matriz que puede ser de una dimensión** (una series) , o **dos dimensiones (dataframe)**, donde cada uno de los valores de la matriz es verdadero o falso. \n",
    "- Esta **matriz se superpone** esencialmente **sobre la estructura de datos** que estamos consultando, y **cualquier celda alineada con el valor verdadero sera admitida en nuestro resultado final, y cualquier signo alineado con un valor falso no sera admitido**.\n",
    "- El enmascaramiento booleano es poderoso conceptualmente y es la piedra angular de las consultas eficientes de NumPy y Pandas.\n",
    "- Las máscaras booleanas se crean aplicando operadores directamente a la serie de pandas o objetos dataframe.\n"
   ]
  },
  {
   "cell_type": "code",
   "execution_count": null,
   "metadata": {},
   "outputs": [],
   "source": [
    "# Consultar el dataframe por sexo\n",
    "\n",
    "# La series resultante es indexada, donde el valor de cada celda es verdadero o \n",
    "# falso, dependiendo de si el sexo de la persona es mujer o no\n",
    "\n",
    "# El enmascaramiento en este caso lo vemos en True los que si cumplen la condicion, y False\n",
    "# Los que no cumplen el criterio. \n",
    "\n",
    "df['SEXO'] == \"Mujer\""
   ]
  },
  {
   "cell_type": "code",
   "execution_count": null,
   "metadata": {},
   "outputs": [],
   "source": [
    "# Limitar con el método head() a los primeros 10 registros del dataframe\n",
    "\n",
    "df['SEXO'].head(10) == \"Mujer\"\n"
   ]
  },
  {
   "cell_type": "markdown",
   "metadata": {},
   "source": [
    "### La funcion where\n",
    "\n",
    "- La función **where toma una mascara booleana como una condición, lo aplica al dataframe** o a la series, y **retorna una nuevo dataframe** o series de la misma forma. \n",
    "\n"
   ]
  },
  {
   "cell_type": "code",
   "execution_count": null,
   "metadata": {},
   "outputs": [],
   "source": [
    "# Como ya se mencionó, La función where toma una mascara booleana como una condición, \n",
    "# lo aplica al dataframe, y retorna una nuevo dataframe de la misma forma. \n",
    "# Apliquemos esta máscara booleana a los datos y creamos un dataframe de solo\n",
    "# aquellas personas del sexo \"Mujer\"\n",
    "\n",
    "# En el resultado podemos ver el enmascaramiento. Los que no cumplieron la condicion\n",
    "# se enmascaran como un valor  NaN\n",
    "\n",
    "# NaN, proviene del acrónimo en inglés «Not a Number» (en español: no es un número)\n",
    "\n",
    "\n",
    "mujeres =df.where(df['SEXO'] == \"Mujer\" )\n",
    "mujeres"
   ]
  },
  {
   "cell_type": "code",
   "execution_count": null,
   "metadata": {},
   "outputs": [],
   "source": [
    "# La mayoría de las funciones estadísticas integradas en el objeto dataframe \n",
    "# ignoran los valores de NaN,  por eso al ejecutar una consulta a modo de\n",
    "# comprobacion con el metodo count,  observamos que los NaN no forman parte de la funcion\n",
    "# estadistica aplicada.\n",
    "\n",
    "mujeres[\"SEXO\"].count()"
   ]
  },
  {
   "cell_type": "code",
   "execution_count": null,
   "metadata": {},
   "outputs": [],
   "source": [
    "# Enseguida podemos eliminar esas filas que no tienen datos. \n",
    "# Para hacer esto, podemos usar la función dropna(). \n",
    "\n",
    "# Dropna se puede especificar con el atributo axis si se quiere eliminar el renglon o\n",
    "# la columna. Por defecto es el renglon, por lo tanto no es necesario especificarlo\n",
    "\n",
    "\n",
    "mujeres = mujeres.dropna()\n",
    "mujeres"
   ]
  },
  {
   "cell_type": "markdown",
   "metadata": {},
   "source": [
    "### Atajo más rápido para consultas o método abreviado\n",
    "\n",
    "- Actualmente **no tenemos que usar la función where explícitamente**. \n",
    "- pandas permite al operador de indexación tomar una mascara booleana como un valor en lugar de solo una lista de nombres de columnas. \n",
    "- **La sintaxis puede parecer un poco desordenada**, especialmente si no estás acostumbrado a programar lenguajes con operadores sobrecargados, pero el resultado es que puede filtrar y reducir los dataframes con relativa rapidez.\n",
    "- Aquí se prsentará un ejemplo más conciso de cómo podríamos consultar este dataframe. \n",
    "- Notará que **no hay NaNs cuando consulta el dataframe de esta manera. pandas automáticamente filtra las salidas de las filas con valores**. "
   ]
  },
  {
   "cell_type": "code",
   "execution_count": null,
   "metadata": {},
   "outputs": [],
   "source": [
    "#  Version con where \n",
    "# mujeres =df.where(df['SEXO'] == \"Mujer\" )\n",
    "\n",
    "# Version simplificada\n",
    "mujeres2 = df[ df['SEXO'] == \"Mujer\" ]\n",
    "mujeres2"
   ]
  },
  {
   "cell_type": "markdown",
   "metadata": {},
   "source": [
    "### Condiciones mas complejas usando los operadores AND y OR\n",
    "\n",
    "- Operador **AND**  &  (Todas las condiciones unidas por un AND se deben cumplir)\n",
    "- Operador **OR**   | (Cualquiera de las condiciones unidas por un OR se deben cumplir)"
   ]
  },
  {
   "cell_type": "code",
   "execution_count": null,
   "metadata": {},
   "outputs": [],
   "source": [
    "# Aqui estamos creando un nuevo dataframe (PruebasDgo a partir de una consulta)\n",
    "# Con los criterios:  Que sea de Durango y que esté hospitalizado \n",
    "\n",
    "PruebasDgo = df[ ( df['ENTIDAD_NAC'] == \"Durango\") &\n",
    "                ( df['TIPO_PACIENTE'] == \"Hospitalizado\") ]\n",
    "PruebasDgo"
   ]
  },
  {
   "cell_type": "code",
   "execution_count": null,
   "metadata": {},
   "outputs": [],
   "source": [
    "# Que sea de Durango, que esté hospitalizado y sea positivo a la prueba del COVID\n",
    "\n",
    "PruebasDgo = df[ ( df['ENTIDAD_NAC'] == \"Durango\") & \n",
    "                ( df['TIPO_PACIENTE'] == \"Hospitalizado\") &\n",
    "             ( df['RESULTADO'] == \"Positivo\") ]\n",
    "PruebasDgo\n"
   ]
  },
  {
   "cell_type": "code",
   "execution_count": null,
   "metadata": {},
   "outputs": [],
   "source": [
    "# juntando AND y Or\n",
    "\n",
    "# Que sea de Durango, que esté hospitalizado y sea positivo a la prueba del COVID ó que sea\n",
    "# de Zacatecas, que esté hospitalizado y sea positivo\n",
    "\n",
    "PruebasDgo = df[ ( ( df['ENTIDAD_NAC'] == \"Durango\") & ( df['TIPO_PACIENTE'] == \"Hospitalizado\") &\n",
    "             ( df['RESULTADO'] == \"Positivo\"))  | \n",
    "                \n",
    "                ( df['ENTIDAD_NAC'] == \"Zacatecas\") & ( df['TIPO_PACIENTE'] == \"Hospitalizado\") &\n",
    "             ( df['RESULTADO'] == \"Positivo\") ]\n",
    "PruebasDgo"
   ]
  },
  {
   "cell_type": "code",
   "execution_count": null,
   "metadata": {},
   "outputs": [],
   "source": [
    "# Otra forma de hacerlo 8 Primero el OR y lo ponemos entre paréntesis\n",
    "\n",
    "PruebasDgo = df[ ( ( df['ENTIDAD_NAC'] == \"Durango\") | \n",
    "                  ( df['ENTIDAD_NAC'] == \"Zacatecas\") ) &\n",
    "                \n",
    "                  ( df['TIPO_PACIENTE'] == \"Hospitalizado\") &\n",
    "             ( df['RESULTADO'] == \"Positivo\") ]\n",
    "PruebasDgo"
   ]
  },
  {
   "cell_type": "code",
   "execution_count": null,
   "metadata": {},
   "outputs": [],
   "source": [
    "# POdemos contabilizar cuantos registros existen en el dataframe\n",
    "# el resultado lo genera por cada atributo o columna\n",
    "\n",
    "PruebasDgo.count()"
   ]
  },
  {
   "cell_type": "code",
   "execution_count": null,
   "metadata": {},
   "outputs": [],
   "source": [
    "# Es mejor si lo hacemos sobre una columna \n",
    "\n",
    "PruebasDgo[\"ID_REGISTRO\"].count()"
   ]
  },
  {
   "cell_type": "code",
   "execution_count": null,
   "metadata": {},
   "outputs": [],
   "source": []
  },
  {
   "cell_type": "markdown",
   "metadata": {},
   "source": [
    "### 1.5.1 Consultar especificando criterios de selección y columnas a mostrar  <a id='id61'> </a>\n",
    "\n",
    "- Primero se especifican los criterios de seleccion\n",
    "- Enseguida la lista de columnas a mostrar"
   ]
  },
  {
   "cell_type": "code",
   "execution_count": null,
   "metadata": {},
   "outputs": [],
   "source": [
    "# Buscar los positivos y mostrar las columnas de ENTIDAD_NAC, RESULTADO y SEXO\n",
    "\n",
    "totalcasos = df[ ( df['RESULTADO'] == \"Positivo\") ]  [[\"ENTIDAD_NAC\", \"RESULTADO\", \"SEXO\" ]]                \n",
    "totalcasos.head(10)"
   ]
  },
  {
   "cell_type": "code",
   "execution_count": null,
   "metadata": {},
   "outputs": [],
   "source": [
    "# Buscar los positivos  del estado de  Colima y mostrar las columnas de ENTIDAD_NAC, RESULTADO y SEXO\n",
    "\n",
    "totalcasos = df[ ( df['ENTIDAD_NAC'] == \"Colima\") & \n",
    "                ( df['RESULTADO'] == \"Positivo\") ] [[\"ENTIDAD_NAC\", \"RESULTADO\", \"SEXO\" ]]\n",
    "                \n",
    "totalcasos.head(10)"
   ]
  },
  {
   "cell_type": "markdown",
   "metadata": {},
   "source": [
    "### 1.5.2  Obtener los Valores Únicos de una columna en un dataframe <a id='id62'> </a> "
   ]
  },
  {
   "cell_type": "code",
   "execution_count": null,
   "metadata": {},
   "outputs": [],
   "source": [
    "#  Equivalente al distinct de SQL\n",
    "\n",
    "df['ENTIDAD_NAC'].unique()"
   ]
  },
  {
   "cell_type": "code",
   "execution_count": null,
   "metadata": {},
   "outputs": [],
   "source": [
    "df['RESULTADO'].unique()"
   ]
  },
  {
   "cell_type": "code",
   "execution_count": null,
   "metadata": {},
   "outputs": [],
   "source": []
  },
  {
   "cell_type": "markdown",
   "metadata": {},
   "source": [
    "### 1.5.3 Medir el espacio en memoria que ocupa el dataframe  <a id='id63'> </a>\n",
    "\n"
   ]
  },
  {
   "cell_type": "code",
   "execution_count": null,
   "metadata": {},
   "outputs": [],
   "source": [
    "import sys\n",
    "print(sys.getsizeof(df))      ## 1,733,346,211   "
   ]
  },
  {
   "cell_type": "code",
   "execution_count": null,
   "metadata": {},
   "outputs": [],
   "source": [
    "# Megabyte es el equivalente a 1024 kilobytes o 1,048,576 bytes\n",
    "\n",
    "megas = 1733346211 / 1048576\n",
    "megas"
   ]
  },
  {
   "cell_type": "code",
   "execution_count": null,
   "metadata": {},
   "outputs": [],
   "source": []
  },
  {
   "cell_type": "code",
   "execution_count": null,
   "metadata": {},
   "outputs": [],
   "source": []
  },
  {
   "cell_type": "markdown",
   "metadata": {},
   "source": [
    "### 1.5.4 Ejercicios de consultas en el dataframe  <a id='id64'> </a>\n",
    "\n",
    "1. Consultar en el dataframe COVID los que son de Campeche y son Positivos\n",
    "2. Consultar en el dataframe COVID los que son de Aguascalientes y están hospitalizados\n",
    "3. Consultar en el dataframe COVID los que son de Durango, Son positivos, tienen Obesidad, tienen diabetes y tienen hipertension\n",
    "4. Consultar en el dataframe COVID los que son de Colima o de Morelos y que son positivos"
   ]
  },
  {
   "cell_type": "code",
   "execution_count": null,
   "metadata": {},
   "outputs": [],
   "source": [
    "covid = pd.read_csv(\"20-07-31-COVID19MEXICO-codificado.csv\")"
   ]
  },
  {
   "cell_type": "code",
   "execution_count": null,
   "metadata": {},
   "outputs": [],
   "source": [
    "# Ejercicio 1\n",
    "\n",
    "covid2 = covid[ (covid[\"ENTIDAD_NAC\"] == \"Campeche\") & (covid[\"RESULTADO\"] ==\"Positivo\")]\n",
    "covid2"
   ]
  },
  {
   "cell_type": "code",
   "execution_count": null,
   "metadata": {},
   "outputs": [],
   "source": [
    "# Ejercicio 2\n",
    "\n",
    "covid2 = covid[ (covid[\"ENTIDAD_NAC\"] == \"Aguascalientes\") & \n",
    "               (covid[\"TIPO_PACIENTE\"] == \"Hospitalizado\")]\n",
    "covid2"
   ]
  },
  {
   "cell_type": "code",
   "execution_count": null,
   "metadata": {},
   "outputs": [],
   "source": [
    "# Ejercicio 3\n",
    "\n",
    "# Consultar en el dataframe COVID los que son de Durango, Son positivos, tienen Obesidad, \n",
    "#tienen diabetes y tienen hipertension\n",
    "\n",
    "covid2 = covid[ (covid[\"ENTIDAD_NAC\"]== \"Durango\") &\n",
    "               (covid[\"RESULTADO\"] == \"Positivo\") & \n",
    "               (covid[\"OBESIDAD\"] == \"Si\") &\n",
    "               ( covid[\"DIABETES\"] == \"Si\") &\n",
    "               (covid[\"HIPERTENSION\"] ==\"Si\")]\n",
    "\n",
    "covid2"
   ]
  },
  {
   "cell_type": "code",
   "execution_count": null,
   "metadata": {},
   "outputs": [],
   "source": [
    "# Ejercicio 4\n",
    "\n",
    "#  los que son de Colima o de Morelos y que son positivos\n",
    "\n",
    "covid2 = covid[ ( (covid[\"ENTIDAD_NAC\"] == \"Colima\") | \n",
    "               (covid[\"ENTIDAD_NAC\"] == \"Morelos\") ) & (covid[\"RESULTADO\"] == \"Positivo\")]\n",
    "\n",
    "covid2"
   ]
  },
  {
   "cell_type": "code",
   "execution_count": null,
   "metadata": {},
   "outputs": [],
   "source": [
    "covid2.count()"
   ]
  },
  {
   "cell_type": "code",
   "execution_count": null,
   "metadata": {},
   "outputs": [],
   "source": [
    "covid2[\"ID_REGISTRO\"].count()"
   ]
  },
  {
   "cell_type": "code",
   "execution_count": null,
   "metadata": {},
   "outputs": [],
   "source": []
  },
  {
   "cell_type": "code",
   "execution_count": null,
   "metadata": {},
   "outputs": [],
   "source": []
  },
  {
   "cell_type": "code",
   "execution_count": null,
   "metadata": {},
   "outputs": [],
   "source": []
  },
  {
   "cell_type": "markdown",
   "metadata": {},
   "source": [
    "## 1.6 Borrar columnas o renglones en dataframes  <a id='id7'> </a> \n",
    "\n",
    "- Se usa la funcion **drop** para borrar renglones o columnas\n",
    "- La función drop no cambia el DataFrame de forma predeterminada, en su lugar, devuelve una copia del DataFrame con las filas eliminadas.\n",
    "\n",
    "**Drop** tiene dos parámetros opcionales \n",
    "- El primero se llama **in place** y si se establece en **True**, el DataFrame se actualizará en su lugar, en lugar de devolver una copia. \n",
    "- El segundo parámetro es **axis**, que especifica que se debe borrar. De forma predeterminada, este valor es **0 para borrar las filas**. Pero puede cambiarlo a **1 si desea borrar una columna**."
   ]
  },
  {
   "cell_type": "code",
   "execution_count": null,
   "metadata": {},
   "outputs": [],
   "source": [
    "IngresosCopia\n"
   ]
  },
  {
   "cell_type": "code",
   "execution_count": null,
   "metadata": {},
   "outputs": [],
   "source": [
    "# Borrar el renglon con indice 3\n",
    "\n",
    "IngresosCopia.drop(3)"
   ]
  },
  {
   "cell_type": "code",
   "execution_count": null,
   "metadata": {},
   "outputs": [],
   "source": [
    "# El borrado lo hace en una copia y no lo borra definitivamente\n",
    "\n",
    "IngresosCopia"
   ]
  },
  {
   "cell_type": "code",
   "execution_count": null,
   "metadata": {},
   "outputs": [],
   "source": [
    "# Para que el borrado sea de inmediato, debemos agregar el atributo inplace = True\n",
    "\n",
    "IngresosCopia.drop(3, inplace= True)"
   ]
  },
  {
   "cell_type": "code",
   "execution_count": null,
   "metadata": {},
   "outputs": [],
   "source": [
    "# Ahora si vemos que se borro definitivamente\n",
    "IngresosCopia"
   ]
  },
  {
   "cell_type": "code",
   "execution_count": null,
   "metadata": {},
   "outputs": [],
   "source": [
    "# Si queremos borrar una columna debemos especificar que es sobre el eje 1, es decir\n",
    "# sobre las columnas\n",
    "\n",
    "IngresosCopia.drop(\"AportacionesFederales\", axis = 1)"
   ]
  },
  {
   "cell_type": "code",
   "execution_count": null,
   "metadata": {},
   "outputs": [],
   "source": [
    "IngresosCopia"
   ]
  },
  {
   "cell_type": "code",
   "execution_count": null,
   "metadata": {},
   "outputs": [],
   "source": [
    "# NUevamente, especificar inplace = True\n",
    "\n",
    "IngresosCopia.drop(\"AportacionesFederales\", axis = 1, inplace = True)"
   ]
  },
  {
   "cell_type": "code",
   "execution_count": null,
   "metadata": {},
   "outputs": [],
   "source": [
    "IngresosCopia"
   ]
  },
  {
   "cell_type": "code",
   "execution_count": null,
   "metadata": {},
   "outputs": [],
   "source": [
    "#   Volvemos a copiar el dataframe ingresos\n",
    "\n",
    "IngresosCopia = Ingresos.copy()\n",
    "IngresosCopia"
   ]
  },
  {
   "cell_type": "code",
   "execution_count": null,
   "metadata": {},
   "outputs": [],
   "source": [
    "# Es mas facil borrrar si se establece como indice el estado\n",
    "\n",
    "IngresosCopia.set_index(\"Estado\", inplace = True)\n",
    "IngresosCopia"
   ]
  },
  {
   "cell_type": "code",
   "execution_count": null,
   "metadata": {},
   "outputs": [],
   "source": [
    "IngresosCopia.drop(\"Baja California Sur\", inplace = True)\n",
    "IngresosCopia"
   ]
  },
  {
   "cell_type": "markdown",
   "metadata": {},
   "source": [
    "### Alternativa 2 de borrado de columnas de dataframes\n",
    "\n",
    "- Esta opción tiene efecto inmediato"
   ]
  },
  {
   "cell_type": "code",
   "execution_count": null,
   "metadata": {},
   "outputs": [],
   "source": [
    "del IngresosCopia[\"ParticipacionesFederales\"]"
   ]
  },
  {
   "cell_type": "code",
   "execution_count": null,
   "metadata": {
    "scrolled": true
   },
   "outputs": [],
   "source": [
    "IngresosCopia"
   ]
  },
  {
   "cell_type": "code",
   "execution_count": null,
   "metadata": {},
   "outputs": [],
   "source": []
  },
  {
   "cell_type": "markdown",
   "metadata": {},
   "source": [
    "## 1.7 Agregar columnas en dataframes <a id='id8'> </a> "
   ]
  },
  {
   "cell_type": "code",
   "execution_count": null,
   "metadata": {},
   "outputs": [],
   "source": [
    "# Verificamos los datos actuales que tenemos en el dataframe Ingresos\n",
    "\n",
    "Ingresos"
   ]
  },
  {
   "cell_type": "code",
   "execution_count": null,
   "metadata": {},
   "outputs": [],
   "source": [
    "# Agregamos una nueva columna calculada que sume las 3 columnas existentes \n",
    "\n",
    "# La diagonal invertida la usamos para continuar el código en otr línea\n",
    "\n",
    "Ingresos[\"Total\"] = Ingresos[\"AportacionesFederales\"] + \\\n",
    "                    Ingresos[\"ParticipacionesFederales\"] + \\\n",
    "                    Ingresos[\"RecaudacionImpuestos\"]"
   ]
  },
  {
   "cell_type": "code",
   "execution_count": null,
   "metadata": {},
   "outputs": [],
   "source": [
    "Ingresos"
   ]
  },
  {
   "cell_type": "code",
   "execution_count": null,
   "metadata": {},
   "outputs": [],
   "source": []
  },
  {
   "cell_type": "markdown",
   "metadata": {},
   "source": [
    "### 1.7.1  Reemplazar valores   <a id='id81'> </a> \n",
    "\n",
    "- En el dataset COVID necesitamos reemplazar los valores que vienen codificados como SEXO, RESULTADO, etc.\n"
   ]
  },
  {
   "cell_type": "code",
   "execution_count": null,
   "metadata": {},
   "outputs": [],
   "source": [
    "df.head(10)"
   ]
  },
  {
   "cell_type": "code",
   "execution_count": null,
   "metadata": {},
   "outputs": [],
   "source": [
    "# Contra valores de ORIGEN\n",
    "\n",
    "df['ORIGEN'].value_counts()"
   ]
  },
  {
   "cell_type": "code",
   "execution_count": null,
   "metadata": {},
   "outputs": [],
   "source": [
    "df[\"ORIGEN\"].replace(2, \"ISSSTE\")"
   ]
  },
  {
   "cell_type": "code",
   "execution_count": null,
   "metadata": {},
   "outputs": [],
   "source": [
    "# Al verificar vemos que no realizo el cambio en el dataframe original\n",
    "\n",
    "df['ORIGEN'].value_counts()"
   ]
  },
  {
   "cell_type": "code",
   "execution_count": null,
   "metadata": {},
   "outputs": [],
   "source": [
    "# Volvemos a ejecutar pero ahora con inplace = True\n",
    "\n",
    "df[\"ORIGEN\"].replace(2, \"ISSSTE\", inplace = True)"
   ]
  },
  {
   "cell_type": "code",
   "execution_count": null,
   "metadata": {},
   "outputs": [],
   "source": [
    "df['ORIGEN'].value_counts()"
   ]
  },
  {
   "cell_type": "code",
   "execution_count": null,
   "metadata": {},
   "outputs": [],
   "source": [
    "df.head()"
   ]
  },
  {
   "cell_type": "code",
   "execution_count": null,
   "metadata": {},
   "outputs": [],
   "source": []
  },
  {
   "cell_type": "code",
   "execution_count": null,
   "metadata": {},
   "outputs": [],
   "source": [
    "# Probar este ejemplo\n",
    "\n",
    "# mapping_dict = {4: \"CRUZ ROJA\", 9:\"SEDENA\"}\n",
    "# covid2['SECTOR'] = covid2['SECTOR'].map(mapping_dict)"
   ]
  },
  {
   "cell_type": "code",
   "execution_count": null,
   "metadata": {},
   "outputs": [],
   "source": []
  },
  {
   "cell_type": "markdown",
   "metadata": {},
   "source": [
    "\n",
    "## 1.8 Group by dataframe  <a id='id9'> </a> \n",
    "\n",
    "- Una operación groupby implica alguna combinación de dividir el objeto en función de los valores de una columna o más, aplicar una función y combinar los resultados. \n",
    "- Esto se puede usar para agrupar grandes cantidades de datos y calcular operaciones en estos grupos.\n",
    "- **Groupby** esencialmente **divide los datos en diferentes grupos dependiendo de la(s) variable(s) de su elección**.\n",
    "\n",
    "\"agrupar por\" implica uno o más de los siguientes pasos:\n",
    "\n",
    "- Dividir los datos en grupos según algunos criterios.\n",
    "- Aplicar una función a cada grupo de forma independiente.\n",
    "- Combinar los resultados en una estructura de datos.\n",
    "\n",
    "![](GroupBy.png)"
   ]
  },
  {
   "cell_type": "code",
   "execution_count": null,
   "metadata": {},
   "outputs": [],
   "source": [
    "#  df = pd.read_csv(\"20-07-31-COVID19MEXICO-codificado.csv\")\n",
    "df.head()"
   ]
  },
  {
   "cell_type": "code",
   "execution_count": null,
   "metadata": {},
   "outputs": [],
   "source": [
    "df['ENTIDAD_NAC'].value_counts().sort_values()"
   ]
  },
  {
   "cell_type": "code",
   "execution_count": null,
   "metadata": {},
   "outputs": [],
   "source": [
    "df['ENTIDAD_NAC'].value_counts().sort_index()"
   ]
  },
  {
   "cell_type": "code",
   "execution_count": null,
   "metadata": {},
   "outputs": [],
   "source": []
  },
  {
   "cell_type": "markdown",
   "metadata": {},
   "source": [
    "### Ejemplo 1 \n",
    "\n",
    "#### Agrupar por entidad de nacimiento y contar cuantas pruebas se realizaron por entidad"
   ]
  },
  {
   "cell_type": "code",
   "execution_count": null,
   "metadata": {},
   "outputs": [],
   "source": [
    "\n",
    "df.groupby(['ENTIDAD_NAC']).count().head(10)"
   ]
  },
  {
   "cell_type": "code",
   "execution_count": null,
   "metadata": {},
   "outputs": [],
   "source": [
    "# Agregamos una nueva columna al dataframe del covid  <<total>> para generar \n",
    "# los totales agrupados y hacer el calculo mas rápido al no involucrar todas las columnas\n",
    "\n",
    "df[\"Total\"] = 0\n",
    "df.head()"
   ]
  },
  {
   "cell_type": "code",
   "execution_count": null,
   "metadata": {
    "scrolled": true
   },
   "outputs": [],
   "source": [
    "# generamos un nuevo dataframe con 2 columnas para Simplificar el cálculo \n",
    "# Notese la velocidad, al incluir solo 2 columnas genera más rápido el resultado\n",
    "\n",
    "totalcasos = df[[\"ENTIDAD_NAC\",\"Total\"]]  \n",
    "totalcasos.groupby(['ENTIDAD_NAC']).count().head(10)"
   ]
  },
  {
   "cell_type": "code",
   "execution_count": null,
   "metadata": {},
   "outputs": [],
   "source": [
    "# Se puede incluir la función reset_index() para restablecer un nuevo índice\n",
    "# al dataframe agrupado, y lo convierte en una estructura de datos más adecuada\n",
    "\n",
    "totalcasos = df[[\"ENTIDAD_NAC\",\"Total\"]]  \n",
    "totalcasos.groupby(['ENTIDAD_NAC']).count().reset_index().head()"
   ]
  },
  {
   "cell_type": "markdown",
   "metadata": {},
   "source": [
    "### Ejemplo 2\n",
    "\n",
    "#### Contar cuantas pruebas de COVID se realizaron por estado, desglosado por sexo"
   ]
  },
  {
   "cell_type": "code",
   "execution_count": null,
   "metadata": {
    "scrolled": true
   },
   "outputs": [],
   "source": [
    "\n",
    "totalcasos = df[[\"ENTIDAD_NAC\",\"SEXO\",\"Total\"]]  \n",
    "totalcasos.groupby(['ENTIDAD_NAC',\"SEXO\"]).count().head(10)"
   ]
  },
  {
   "cell_type": "code",
   "execution_count": null,
   "metadata": {},
   "outputs": [],
   "source": [
    "# De la misma forma podemos resetear el indice para generar un dataframe más amigable\n",
    "\n",
    "totalcasos = df[[\"ENTIDAD_NAC\",\"SEXO\",\"Total\"]]  \n",
    "totalcasos.groupby(['ENTIDAD_NAC',\"SEXO\"]).count().reset_index().head(10)"
   ]
  },
  {
   "cell_type": "markdown",
   "metadata": {},
   "source": [
    "### Ejemplo 3   \n",
    "\n",
    "#### Contar cuantas pruebas de COVID se realizaron por estado, desglosado por sexo y tipo  de paciente"
   ]
  },
  {
   "cell_type": "code",
   "execution_count": null,
   "metadata": {
    "scrolled": true
   },
   "outputs": [],
   "source": [
    "\n",
    "\n",
    "totalcasos = df[[\"ENTIDAD_NAC\", \"SEXO\", \"TIPO_PACIENTE\", \"Total\"]]  \n",
    "totalcasos.groupby(['ENTIDAD_NAC',\"SEXO\", \"TIPO_PACIENTE\"]).count().head(10)"
   ]
  },
  {
   "cell_type": "code",
   "execution_count": null,
   "metadata": {
    "scrolled": false
   },
   "outputs": [],
   "source": [
    "# De la misma forma, reseteamos el indice\n",
    "\n",
    "# Agregamos un nivel más de grupos\n",
    "\n",
    "totalcasos = df[[\"ENTIDAD_NAC\", \"SEXO\", \"TIPO_PACIENTE\", \"Total\"]]  \n",
    "\n",
    "totalcasos.groupby(['ENTIDAD_NAC',\"SEXO\", \"TIPO_PACIENTE\"]).count().reset_index().head(10)\n"
   ]
  },
  {
   "cell_type": "markdown",
   "metadata": {},
   "source": [
    "###  Ejemplo 4  \n",
    "\n",
    "#### Contar el numero de casos por día"
   ]
  },
  {
   "cell_type": "code",
   "execution_count": null,
   "metadata": {
    "scrolled": true
   },
   "outputs": [],
   "source": [
    "totalcasos = df[ [\"FECHA_INGRESO\", \"Total\"] ]\n",
    "totalcasos.head()"
   ]
  },
  {
   "cell_type": "code",
   "execution_count": null,
   "metadata": {},
   "outputs": [],
   "source": [
    "# El resultado que arroja es correcto el calculo, pero lo que esta mal es que \n",
    "# el tipo de dato es como texto y por eso no hay un orden cronológico\n",
    "#  tenemos que convertir a tipo de dato **datetime**\n",
    "\n",
    "totalcasos.groupby([\"FECHA_INGRESO\"]).count().reset_index().head(10)"
   ]
  },
  {
   "cell_type": "code",
   "execution_count": null,
   "metadata": {},
   "outputs": [],
   "source": [
    "# Notese que la columna FECHA_INGRESO es de tipo object \n",
    "\n",
    "df.info()"
   ]
  },
  {
   "cell_type": "code",
   "execution_count": null,
   "metadata": {},
   "outputs": [],
   "source": [
    "# Convertimos a datetime la columna FECHA_INGRESO\n",
    "\n",
    "df['FECHA_INGRESO'] = pd.to_datetime(df['FECHA_INGRESO'], format=\"%d/%m/%Y\")"
   ]
  },
  {
   "cell_type": "code",
   "execution_count": null,
   "metadata": {},
   "outputs": [],
   "source": [
    "# Volvemos a verificar y ya esta el cambio\n",
    "\n",
    "df.info()"
   ]
  },
  {
   "cell_type": "code",
   "execution_count": null,
   "metadata": {},
   "outputs": [],
   "source": [
    "totalcasos = df[ [\"FECHA_INGRESO\", \"Total\"] ]\n",
    "totalcasos = totalcasos.groupby( [\"FECHA_INGRESO\"] ).count().reset_index()\n",
    "totalcasos.head(10)"
   ]
  },
  {
   "cell_type": "code",
   "execution_count": null,
   "metadata": {},
   "outputs": [],
   "source": [
    "totalcasos.tail(10)"
   ]
  },
  {
   "cell_type": "code",
   "execution_count": null,
   "metadata": {},
   "outputs": [],
   "source": [
    "# Los siguientes 2 celdas donde se grafica\n",
    "# No hacerla en clase\n",
    "\n",
    "totalcasos.set_index(\"FECHA_INGRESO\", inplace = True)\n",
    "totalcasos"
   ]
  },
  {
   "cell_type": "code",
   "execution_count": null,
   "metadata": {},
   "outputs": [],
   "source": [
    "totalcasos.plot.line()"
   ]
  },
  {
   "cell_type": "markdown",
   "metadata": {},
   "source": [
    "### Ejemplo 5   \n",
    "\n",
    "#### Contar los que dieron positivo, y que tienen diabetes e hipertensión "
   ]
  },
  {
   "cell_type": "code",
   "execution_count": null,
   "metadata": {},
   "outputs": [],
   "source": []
  },
  {
   "cell_type": "code",
   "execution_count": null,
   "metadata": {},
   "outputs": [],
   "source": [
    "# Primero especificamos los criterios de seleccion de los registros, luego\n",
    "# en la proyeccion indicamos las columnas a mostrar y ahi aplicamos la funcion group by\n",
    "\n",
    "PruebasDgo = df[ ( df['RESULTADO'] == \"Positivo\") &\n",
    "                ( df['DIABETES'] == \"Si\") & \n",
    "                ( df['HIPERTENSION'] == \"Si\")] [[\"ENTIDAD_NAC\",\"Total\"]].groupby(\"ENTIDAD_NAC\").count().reset_index() \n",
    "PruebasDgo.head(10)"
   ]
  },
  {
   "cell_type": "code",
   "execution_count": null,
   "metadata": {},
   "outputs": [],
   "source": [
    "PruebasDgo.set_index(\"ENTIDAD_NAC\", inplace = True)"
   ]
  },
  {
   "cell_type": "code",
   "execution_count": null,
   "metadata": {},
   "outputs": [],
   "source": [
    "PruebasDgo.sort_values(\"Total\")"
   ]
  },
  {
   "cell_type": "code",
   "execution_count": null,
   "metadata": {},
   "outputs": [],
   "source": [
    "PruebasDgo.sort_values(\"Total\").tail(5).plot.barh()"
   ]
  },
  {
   "cell_type": "code",
   "execution_count": null,
   "metadata": {},
   "outputs": [],
   "source": [
    "PruebasDgo.sort_values(\"Total\").head(5).plot.barh()"
   ]
  },
  {
   "cell_type": "code",
   "execution_count": null,
   "metadata": {},
   "outputs": [],
   "source": [
    "PruebasDgo.sort_values(\"Total\").plot.barh()"
   ]
  },
  {
   "cell_type": "code",
   "execution_count": null,
   "metadata": {},
   "outputs": [],
   "source": []
  },
  {
   "cell_type": "markdown",
   "metadata": {},
   "source": [
    "### Ejemplos con el archivo DiagnosticoIMCOcsv"
   ]
  },
  {
   "cell_type": "code",
   "execution_count": null,
   "metadata": {
    "scrolled": true
   },
   "outputs": [],
   "source": [
    "# El archivo DiagnosticoIMCOcsv estaba con comas con separadores de miles\n",
    "# debe volverse a descargar\n",
    "\n",
    "DiagnosticoIMCO = pd.read_csv(\"DiagnosticoIMCOcsv.csv\")\n",
    "\n",
    "DiagnosticoIMCO.head(10)"
   ]
  },
  {
   "cell_type": "code",
   "execution_count": null,
   "metadata": {},
   "outputs": [],
   "source": [
    "# Verificar que en el tipo de dato sea int64\n",
    "DiagnosticoIMCO.dtypes"
   ]
  },
  {
   "cell_type": "code",
   "execution_count": null,
   "metadata": {},
   "outputs": [],
   "source": [
    "# Agregamos una columna total para ahi generar el calculo\n",
    "\n",
    "DiagnosticoIMCO[\"Total\"] = 0\n",
    "DiagnosticoIMCO.head()"
   ]
  },
  {
   "cell_type": "code",
   "execution_count": null,
   "metadata": {
    "scrolled": false
   },
   "outputs": [],
   "source": [
    "# calculamos la recuadación de impuestos por Region\n",
    "\n",
    "totalReg = DiagnosticoIMCO[[\"Region\", \"RecaudacionImpuestos\", \"Total\"]]  \n",
    "\n",
    "total2 = totalReg.groupby(['Region'])['RecaudacionImpuestos'].sum().reset_index()\n"
   ]
  },
  {
   "cell_type": "code",
   "execution_count": null,
   "metadata": {
    "scrolled": true
   },
   "outputs": [],
   "source": [
    "total2"
   ]
  },
  {
   "cell_type": "code",
   "execution_count": null,
   "metadata": {},
   "outputs": [],
   "source": [
    "total2[\"RecaudacionImpuestos\"] = total2[\"RecaudacionImpuestos\"].astype(float).apply(lambda x: f'{x:,}')"
   ]
  },
  {
   "cell_type": "code",
   "execution_count": null,
   "metadata": {},
   "outputs": [],
   "source": [
    "total2"
   ]
  },
  {
   "cell_type": "code",
   "execution_count": null,
   "metadata": {},
   "outputs": [],
   "source": [
    "total2.dtypes"
   ]
  },
  {
   "cell_type": "code",
   "execution_count": null,
   "metadata": {},
   "outputs": [],
   "source": []
  },
  {
   "cell_type": "markdown",
   "metadata": {},
   "source": [
    "###  5.9.1 Ejercicios de Group By      <a id='id91'> </a> \n",
    "\n",
    "1. Calcular cuantas pruebas se realizaron por edad\n",
    "2. Mostrar por Sexo los resultados obtenidos por la prueba COVID\n",
    "3. Mostrar el detalle de la situacion de la DIABETES de las personas que dieron positivo desglosado por sexo\n",
    "4. Mostrar el detalle de la situacion de TIPO_PACIENTE de las personas que dieron positivo desglosado por sexo\n",
    "5. Generar un reporte que muestre el número de defunciones desglozado por estado y sexo\n",
    "\n"
   ]
  },
  {
   "cell_type": "markdown",
   "metadata": {},
   "source": [
    "### Ejercicio 1\n",
    "\n",
    "- Calcular cuantas pruebas se realizaron por edad"
   ]
  },
  {
   "cell_type": "code",
   "execution_count": null,
   "metadata": {},
   "outputs": [],
   "source": [
    "PruebasDgo = df[[\"EDAD\",\"Total\"]].groupby(\"EDAD\").count().reset_index() \n",
    "PruebasDgo.head()"
   ]
  },
  {
   "cell_type": "code",
   "execution_count": null,
   "metadata": {},
   "outputs": [],
   "source": []
  },
  {
   "cell_type": "markdown",
   "metadata": {},
   "source": [
    "###  Segmentacion de datos por  edades\n",
    "\n",
    "- Se usa la funcion **cut** de pandas\n",
    "- Usar **cut** cuando se desea segmentar y ordenar valores de datos en contenedores. \n",
    "- Esta función también es útil para **pasar de una variable continua a una variable categórica**. \n",
    "- Por ejemplo, cortar podría **convertir edades en grupos de rangos de edad**. \n",
    "- Admite el agrupamiento en un número igual de contenedores o en una matriz de contenedores especificada previamente."
   ]
  },
  {
   "cell_type": "code",
   "execution_count": null,
   "metadata": {},
   "outputs": [],
   "source": [
    "bins = [-1, 9, 19, 29, 39, 49, 59, 69, 79, 89, 99, 130]"
   ]
  },
  {
   "cell_type": "code",
   "execution_count": null,
   "metadata": {},
   "outputs": [],
   "source": [
    "names = [\"0-9\", \"10-19\", \"20-29\", \"30-39\", \"40-49\", \"50-59\", \"60-9\", \"70-79\", \"80-89\", \"90-99\", \"+100\"]"
   ]
  },
  {
   "cell_type": "code",
   "execution_count": null,
   "metadata": {},
   "outputs": [],
   "source": [
    "PruebasDgo[\"EDAD\"] = pd.cut(PruebasDgo[\"EDAD\"], bins, labels = names)"
   ]
  },
  {
   "cell_type": "code",
   "execution_count": null,
   "metadata": {},
   "outputs": [],
   "source": [
    "PruebasDgo.head(12)"
   ]
  },
  {
   "cell_type": "code",
   "execution_count": null,
   "metadata": {},
   "outputs": [],
   "source": [
    "PruebasDgo = PruebasDgo[[\"EDAD\",\"Total\"]].groupby(\"EDAD\").sum().reset_index()"
   ]
  },
  {
   "cell_type": "code",
   "execution_count": null,
   "metadata": {},
   "outputs": [],
   "source": [
    "PruebasDgo"
   ]
  },
  {
   "cell_type": "code",
   "execution_count": null,
   "metadata": {},
   "outputs": [],
   "source": [
    "PruebasDgo.set_index(\"EDAD\", inplace = True)"
   ]
  },
  {
   "cell_type": "code",
   "execution_count": null,
   "metadata": {},
   "outputs": [],
   "source": [
    "PruebasDgo.plot.barh()"
   ]
  },
  {
   "cell_type": "code",
   "execution_count": null,
   "metadata": {},
   "outputs": [],
   "source": []
  },
  {
   "cell_type": "markdown",
   "metadata": {},
   "source": [
    "### Ejercicio 2\n",
    "\n",
    "- Mostrar por Sexo los resultados obtenidos por la prueba COVID"
   ]
  },
  {
   "cell_type": "code",
   "execution_count": null,
   "metadata": {},
   "outputs": [],
   "source": [
    "totalcasos = df[[\"SEXO\", \"RESULTADO\", \"Total\"]]\n",
    "totalcasos.head()"
   ]
  },
  {
   "cell_type": "code",
   "execution_count": null,
   "metadata": {},
   "outputs": [],
   "source": [
    "totalcasos = totalcasos.groupby([\"SEXO\", \"RESULTADO\"]).count()"
   ]
  },
  {
   "cell_type": "code",
   "execution_count": null,
   "metadata": {},
   "outputs": [],
   "source": [
    "totalcasos"
   ]
  },
  {
   "cell_type": "code",
   "execution_count": null,
   "metadata": {},
   "outputs": [],
   "source": []
  },
  {
   "cell_type": "code",
   "execution_count": null,
   "metadata": {},
   "outputs": [],
   "source": []
  },
  {
   "cell_type": "markdown",
   "metadata": {},
   "source": [
    "### Ejercicio 3\n",
    "\n",
    "- Mostrar el detalle de la situacion de la DIABETES de las personas que dieron positivo desglosado por sexo"
   ]
  },
  {
   "cell_type": "code",
   "execution_count": null,
   "metadata": {},
   "outputs": [],
   "source": [
    "totalcasos = df[(df['RESULTADO'] == \"Positivo\")] [[\"SEXO\", \"DIABETES\", \"Total\"]]\n",
    "totalcasos.head()"
   ]
  },
  {
   "cell_type": "code",
   "execution_count": null,
   "metadata": {},
   "outputs": [],
   "source": [
    "totalcasos = totalcasos.groupby( [\"SEXO\", \"DIABETES\"] ).count()"
   ]
  },
  {
   "cell_type": "code",
   "execution_count": null,
   "metadata": {},
   "outputs": [],
   "source": [
    "totalcasos"
   ]
  },
  {
   "cell_type": "code",
   "execution_count": null,
   "metadata": {},
   "outputs": [],
   "source": []
  },
  {
   "cell_type": "markdown",
   "metadata": {},
   "source": [
    "### Ejercicio 4\n",
    "\n",
    "- Mostrar el detalle de la situacion de TIPO_PACIENTE de las personas que dieron positivo desglosado por sexo"
   ]
  },
  {
   "cell_type": "code",
   "execution_count": null,
   "metadata": {},
   "outputs": [],
   "source": [
    "totalcasos = df[(df['RESULTADO'] == \"Positivo\")] [[\"SEXO\", \"TIPO_PACIENTE\", \"Total\"]]\n",
    "totalcasos.head()"
   ]
  },
  {
   "cell_type": "code",
   "execution_count": null,
   "metadata": {},
   "outputs": [],
   "source": [
    "totalcasos = totalcasos.groupby([\"SEXO\",\"TIPO_PACIENTE\"]).count()\n",
    "totalcasos"
   ]
  },
  {
   "cell_type": "code",
   "execution_count": null,
   "metadata": {},
   "outputs": [],
   "source": []
  },
  {
   "cell_type": "code",
   "execution_count": null,
   "metadata": {},
   "outputs": [],
   "source": []
  },
  {
   "cell_type": "markdown",
   "metadata": {},
   "source": [
    "### Ejercicio 5\n",
    "\n",
    "- Generar un reporte que muestre el número de defunciones desglozado por estado y sexo"
   ]
  },
  {
   "cell_type": "code",
   "execution_count": null,
   "metadata": {},
   "outputs": [],
   "source": [
    "# Mostramos la fecha de defuncion del nuevo dataframe para verificar las fechas\n",
    "\n",
    "totalcasos = df[ df[\"FECHA_DEF\"] !=\"9999-99-99\"] [[\"ENTIDAD_NAC\", \"SEXO\", \"FECHA_DEF\",\"Total\"]]\n",
    "totalcasos"
   ]
  },
  {
   "cell_type": "code",
   "execution_count": null,
   "metadata": {},
   "outputs": [],
   "source": [
    "# Quitamos la fecha de defuncion del nuevo dataframe porque no es necesario para el calculo\n",
    "\n",
    "totalcasos = df[ df[\"FECHA_DEF\"] !=\"9999-99-99\"] [[\"ENTIDAD_NAC\", \"SEXO\", \"Total\"]]\n",
    "totalcasos"
   ]
  },
  {
   "cell_type": "code",
   "execution_count": null,
   "metadata": {},
   "outputs": [],
   "source": [
    "totalcasos = totalcasos.groupby([\"ENTIDAD_NAC\", \"SEXO\"]).count()\n",
    "totalcasos"
   ]
  },
  {
   "cell_type": "code",
   "execution_count": null,
   "metadata": {},
   "outputs": [],
   "source": []
  },
  {
   "cell_type": "markdown",
   "metadata": {},
   "source": [
    "### Ejercicio 6\n",
    "\n",
    "- Calcular cuantas "
   ]
  },
  {
   "cell_type": "code",
   "execution_count": null,
   "metadata": {},
   "outputs": [],
   "source": []
  },
  {
   "cell_type": "code",
   "execution_count": null,
   "metadata": {},
   "outputs": [],
   "source": []
  },
  {
   "cell_type": "code",
   "execution_count": null,
   "metadata": {},
   "outputs": [],
   "source": []
  },
  {
   "cell_type": "code",
   "execution_count": null,
   "metadata": {},
   "outputs": [],
   "source": []
  },
  {
   "cell_type": "code",
   "execution_count": null,
   "metadata": {},
   "outputs": [],
   "source": []
  },
  {
   "cell_type": "markdown",
   "metadata": {},
   "source": [
    "## 5.9.2  Aggregación <a id='id92'> </a> \n",
    "  \n",
    "- Una vez que se ha creado el objeto **GroupBy**, hay varios métodos disponibles para realizar un cálculo en los datos agrupados.\n",
    "- La API de agregación permite expresar múltiples operaciones de agregación de una manera concisa. El punto de entrada para la agregación es **DataFrame.aggregate() o el alias DataFrame.agg()**.\n",
    "\n",
    "#### Agregar con múltiples funciones\n",
    "\n",
    "- Puede pasar **múltiples argumentos de agregación como una lista**. \n",
    "- Los resultados de cada una de las funciones pasadas serán una fila en el DataFrame resultante. \n",
    "- Estos se nombran naturalmente a partir de la función de agregación.\n",
    "\n",
    "En muchas situaciones es posible que deseemos dividir el conjunto de datos en grupos y hacer algo con esos grupos. Es posible que deseemos realizar una de las siguientes acciones:  \n",
    "\n",
    "- Calcular una estadística de resumen (o estadísticas) para cada grupo. \n",
    "- Calcular sumas o medias de grupos.\n",
    "- Calcular los tamaños/conteos de los grupos.\n",
    "\n",
    "Fuente:  \n",
    "https://pandas.pydata.org/pandas-docs/stable/user_guide/groupby.html?highlight=filter#aggregation"
   ]
  },
  {
   "cell_type": "code",
   "execution_count": null,
   "metadata": {},
   "outputs": [],
   "source": [
    "DiagnosticoIMCO.head(7)"
   ]
  },
  {
   "cell_type": "code",
   "execution_count": null,
   "metadata": {},
   "outputs": [],
   "source": [
    "DiagnosticoIMCO.groupby(\"Region\").aggregate(np.sum)"
   ]
  },
  {
   "cell_type": "code",
   "execution_count": null,
   "metadata": {},
   "outputs": [],
   "source": [
    "# Por el warning que marca este código, lo ideal seria proyectar las columnas que si se pueden sacar la estadistica\n",
    "\n",
    "DiagnosticoIMCO.groupby(\"Region\").aggregate( [np.size, np.sum, np.mean] )"
   ]
  },
  {
   "cell_type": "code",
   "execution_count": null,
   "metadata": {},
   "outputs": [],
   "source": [
    "DiagnosticoIMCO.groupby(\"Region\").agg(\n",
    "    Estados = pd.NamedAgg(column=\"RecaudacionImpuestos\", aggfunc=\"size\"),\n",
    "    Minimo = pd.NamedAgg(column=\"RecaudacionImpuestos\", aggfunc=\"min\"),\n",
    "    Maximo = pd.NamedAgg(column=\"RecaudacionImpuestos\", aggfunc=\"max\"),\n",
    "    Total = pd.NamedAgg(column=\"RecaudacionImpuestos\", aggfunc=\"sum\"),\n",
    "    Promedio = pd.NamedAgg(column=\"RecaudacionImpuestos\", aggfunc=\"mean\")\n",
    ")"
   ]
  },
  {
   "cell_type": "code",
   "execution_count": null,
   "metadata": {},
   "outputs": [],
   "source": [
    "DiagnosticoIMCO.head(7).style.set_caption('Ingresos de los estados')\n"
   ]
  },
  {
   "cell_type": "code",
   "execution_count": null,
   "metadata": {},
   "outputs": [],
   "source": []
  },
  {
   "cell_type": "code",
   "execution_count": null,
   "metadata": {},
   "outputs": [],
   "source": [
    "# Para el siguiente ejercicio vamos a Mostrar la edad minima, maxima y promedio por # de los que fallecieron\n",
    "# Primero verificamos la informacion en general \n",
    "\n",
    "totalcasos = df[ df[\"FECHA_DEF\"] !=\"9999-99-99\"] [[\"ENTIDAD_NAC\", \"EDAD\",\"Total\"]]\n",
    "totalcasos"
   ]
  },
  {
   "cell_type": "code",
   "execution_count": null,
   "metadata": {},
   "outputs": [],
   "source": [
    "# Ahora si Mostramos la edad minima, maxima y promedio por ESTADO de los que fallecieron\n",
    "\n",
    "totalcasos = df[ df[\"FECHA_DEF\"] !=\"9999-99-99\"] [[\"ENTIDAD_NAC\", \"EDAD\"]]\n",
    "totalcasos.groupby([\"ENTIDAD_NAC\"]).agg(['min', 'max', 'mean']).head(15)"
   ]
  },
  {
   "cell_type": "code",
   "execution_count": null,
   "metadata": {},
   "outputs": [],
   "source": [
    "# Agregamos el SEXO\n",
    "\n",
    "totalcasos = df[ df[\"FECHA_DEF\"] !=\"9999-99-99\"] [[\"ENTIDAD_NAC\", \"SEXO\", \"EDAD\"]]\n",
    "totalcasos.groupby([\"ENTIDAD_NAC\", \"SEXO\"]).agg(['min', 'max', 'mean']).head(15)\n"
   ]
  },
  {
   "cell_type": "code",
   "execution_count": null,
   "metadata": {},
   "outputs": [],
   "source": []
  },
  {
   "cell_type": "markdown",
   "metadata": {},
   "source": [
    "# ESTE TEMA ESTA PENDIENTE......  NO HA SALIDO BIEN\n",
    "\n",
    "## 5.9.2  Filtros en grupos <a id='id92'> </a> \n",
    "  \n",
    "Descartar algunos grupos, de acuerdo con un cálculo por grupos que evalúa Verdadero o Falso. Algunos ejemplos:\n",
    "\n",
    "- Descartar los datos que pertenecen a grupos con solo unos pocos miembros.\n",
    "- Filtrar los datos según la suma o la media del grupo.\n",
    "\n",
    "Fuente:  \n",
    "https://pandas.pydata.org/pandas-docs/stable/user_guide/groupby.html?highlight=filter#dataframe-column-selection-in-groupby "
   ]
  },
  {
   "cell_type": "code",
   "execution_count": null,
   "metadata": {},
   "outputs": [],
   "source": [
    "totalcasos = df[ df[\"FECHA_DEF\"] !=\"9999-99-99\"] [[\"ENTIDAD_NAC\", \"SEXO\", \"Total\"]]\n",
    "totalcasos = totalcasos.groupby([\"ENTIDAD_NAC\", \"SEXO\"]).count()\n",
    "totalcasos.head()"
   ]
  },
  {
   "cell_type": "code",
   "execution_count": null,
   "metadata": {},
   "outputs": [],
   "source": []
  },
  {
   "cell_type": "code",
   "execution_count": null,
   "metadata": {},
   "outputs": [],
   "source": []
  },
  {
   "cell_type": "markdown",
   "metadata": {},
   "source": [
    "## 5.10 Merge Dataframes     <a id='id10'> </a> \n",
    "\n",
    "- **pandas** tiene operaciones de **combinación de dataframes** en memoria de alto rendimiento muy similares a las bases de datos relacionales como SQL.\n",
    "- **pandas** proporciona una sola función, **merge()**, como punto de entrada para todas las operaciones de combinación de bases de datos entre DataFrames.\n",
    "\n",
    "Las operaciones de combinación entre dos DataFrames se debe considerar lo siguiente:\n",
    "\n",
    "- **Uniones uno a uno**: por ejemplo, cuando se unen dos objetos DataFrame en sus índices (que deben contener valores únicos).\n",
    "- **Uniones de muchos a uno**: por ejemplo, cuando se une un índice (único) a una o más columnas en un DataFrame diferente.\n",
    "- **Uniones de muchos a muchos** : unión de columnas sobre columnas!\n",
    "\n",
    "### how \n",
    "- El argumento **how** para fusionar los dataframes sirve para determinar qué claves se incluirán en la tabla resultante. \n",
    "- Si una combinación de índices (keys) no aparece en las tablas izquierda o derecha, los valores en la tabla unida serán NA. \n",
    "\n",
    "![](PandasMerge.png)"
   ]
  },
  {
   "cell_type": "code",
   "execution_count": null,
   "metadata": {},
   "outputs": [],
   "source": [
    "#df_catalogo_sector = pd.read_excel('Catalogos_covid.xlsx',\n",
    "#                       sheet_name = 'Catálogo SEXO',\n",
    "#                      skiprows =range(20),\n",
    "#                      skipfooter=2 )\n",
    "\n",
    "df_catalogo_sexo = pd.read_excel('Catalogos_covid.xlsx',\n",
    "                       sheet_name = 'Catálogo SEXO' )\n",
    "df_catalogo_sexo"
   ]
  },
  {
   "cell_type": "code",
   "execution_count": null,
   "metadata": {},
   "outputs": [],
   "source": [
    "df_catalogo_tipopaciente = pd.read_excel('Catalogos_covid.xlsx',\n",
    "                       sheet_name = 'Catálogo TIPO_PACIENTE' )\n",
    "df_catalogo_tipopaciente"
   ]
  },
  {
   "cell_type": "code",
   "execution_count": null,
   "metadata": {},
   "outputs": [],
   "source": [
    "df_catalogo_entidades = pd.read_excel('Catalogos_covid.xlsx',\n",
    "                       sheet_name = 'Catálogo de ENTIDADES' )\n",
    "df_catalogo_entidades.head()"
   ]
  },
  {
   "cell_type": "code",
   "execution_count": null,
   "metadata": {},
   "outputs": [],
   "source": [
    "df_catalogo_resultado = pd.read_excel('Catalogos_covid.xlsx',\n",
    "                       sheet_name = 'Catálogo RESULTADO' )\n",
    "df_catalogo_resultado.head()"
   ]
  },
  {
   "cell_type": "code",
   "execution_count": null,
   "metadata": {},
   "outputs": [],
   "source": [
    "covid2 = pd.read_csv(\"20-07-31-COVID19MEXICO.csv\", encoding = 'ISO-8859-1')\n",
    "covid2\n"
   ]
  },
  {
   "cell_type": "code",
   "execution_count": null,
   "metadata": {},
   "outputs": [],
   "source": [
    "covidMERGE = pd.merge(covid2, df_catalogo_entidades, left_on=\"ENTIDAD_NAC\",\n",
    "                  right_on=\"CLAVE_ENTIDAD\")"
   ]
  },
  {
   "cell_type": "code",
   "execution_count": null,
   "metadata": {},
   "outputs": [],
   "source": [
    "# El resultado del merge esta al final\n",
    "\n",
    "covidMERGE"
   ]
  },
  {
   "cell_type": "code",
   "execution_count": null,
   "metadata": {},
   "outputs": [],
   "source": [
    "covidMERGE.columns"
   ]
  },
  {
   "cell_type": "code",
   "execution_count": null,
   "metadata": {},
   "outputs": [],
   "source": [
    "#  HACEMOS \n",
    "\n",
    "covidMERGE = pd.merge(covidMERGE,  df_catalogo_sexo, left_on=\"SEXO\",\n",
    "                  right_on=\"CLAVE\")"
   ]
  },
  {
   "cell_type": "code",
   "execution_count": null,
   "metadata": {},
   "outputs": [],
   "source": [
    "covidMERGE"
   ]
  },
  {
   "cell_type": "code",
   "execution_count": null,
   "metadata": {},
   "outputs": [],
   "source": [
    "## CONSULTAMOS nuevamente LAS COLUMNAS PARA BORRRAR LAS QUE NO NECESITAMOS "
   ]
  },
  {
   "cell_type": "code",
   "execution_count": null,
   "metadata": {},
   "outputs": [],
   "source": [
    "covidMERGE.columns"
   ]
  },
  {
   "cell_type": "code",
   "execution_count": null,
   "metadata": {},
   "outputs": [],
   "source": []
  },
  {
   "cell_type": "code",
   "execution_count": null,
   "metadata": {},
   "outputs": [],
   "source": [
    "columnas = [\"FECHA_ACTUALIZACION\", \"ID_REGISTRO\", \"ORIGEN\", \"SECTOR\", \"ENTIDAD_UM\", \"ENTIDAD_RES\", \n",
    "            \"MUNICIPIO_RES\", \"HABLA_LENGUA_INDIG\", \"OTRA_COM\", \"OTRO_CASO\", \"MIGRANTE\", \"PAIS_ORIGEN\",\n",
    "           \"CLAVE_ENTIDAD\", \"ABREVIATURA\", \"CLAVE\"]\n",
    "\n",
    "covidMERGE.drop(columnas, axis = 1, inplace = True)"
   ]
  },
  {
   "cell_type": "code",
   "execution_count": null,
   "metadata": {},
   "outputs": [],
   "source": [
    "covidMERGE"
   ]
  },
  {
   "cell_type": "code",
   "execution_count": null,
   "metadata": {},
   "outputs": [],
   "source": [
    "covidMERGE.columns"
   ]
  },
  {
   "cell_type": "code",
   "execution_count": null,
   "metadata": {},
   "outputs": [],
   "source": [
    "# Ahora hacemos la union con el catalogo de tipo paciente\n",
    "\n",
    "covidMERGE = pd.merge(covidMERGE,  df_catalogo_tipopaciente, left_on=\"TIPO_PACIENTE\",\n",
    "                  right_on=\"CLAVE\")\n",
    "covidMERGE"
   ]
  },
  {
   "cell_type": "code",
   "execution_count": null,
   "metadata": {},
   "outputs": [],
   "source": [
    "columnas = [\"ENTIDAD_NAC\", \"SEXO\", \"TIPO_PACIENTE\"]\n",
    "\n",
    "covidMERGE.drop(columnas, axis = 1, inplace = True)"
   ]
  },
  {
   "cell_type": "code",
   "execution_count": null,
   "metadata": {},
   "outputs": [],
   "source": [
    "covidMERGE"
   ]
  },
  {
   "cell_type": "code",
   "execution_count": null,
   "metadata": {},
   "outputs": [],
   "source": [
    "covidMERGE.columns"
   ]
  },
  {
   "cell_type": "code",
   "execution_count": null,
   "metadata": {},
   "outputs": [],
   "source": [
    "# RENOMBRAR LAS COLUMNAS CON UN NOMBRE MAS ADECUADO \n",
    "\n",
    "covidMERGE.rename(columns={\"DESCRIPCIÓN_x\": \"SEXO\", \"DESCRIPCIÓN_y\": \"TIPO_PACIENTE\"}, inplace = True)\n",
    "covidMERGE"
   ]
  },
  {
   "cell_type": "code",
   "execution_count": null,
   "metadata": {},
   "outputs": [],
   "source": []
  },
  {
   "cell_type": "code",
   "execution_count": null,
   "metadata": {},
   "outputs": [],
   "source": []
  },
  {
   "cell_type": "markdown",
   "metadata": {},
   "source": [
    "## 5.11 Exportar Dataframe a csv      <a id='id11'> </a> "
   ]
  },
  {
   "cell_type": "code",
   "execution_count": null,
   "metadata": {},
   "outputs": [],
   "source": [
    "# Exportar dataframe a un archivo csv los registros que cumplan los siguientes criterios de\n",
    "# seleccion de registros\n",
    "\n",
    "\n",
    "PruebasDgo = df[ ( df['ENTIDAD_NAC'] == \"Durango\") & ( df['TIPO_PACIENTE'] == \"Hospitalizado\") &\n",
    "             ( df['RESULTADO'] == \"Positivo\") ]\n",
    "PruebasDgo\n"
   ]
  },
  {
   "cell_type": "code",
   "execution_count": null,
   "metadata": {},
   "outputs": [],
   "source": [
    "\n",
    "PruebasDgo.to_csv(\"Positivos Durango Hospitalizados.csv\")"
   ]
  },
  {
   "cell_type": "code",
   "execution_count": null,
   "metadata": {},
   "outputs": [],
   "source": [
    "# Quitar el indice del archivo generado\n",
    "\n",
    "PruebasDgo.to_csv(\"mujeres.csv\", index = False)"
   ]
  },
  {
   "cell_type": "code",
   "execution_count": null,
   "metadata": {},
   "outputs": [],
   "source": []
  },
  {
   "cell_type": "code",
   "execution_count": null,
   "metadata": {},
   "outputs": [],
   "source": []
  },
  {
   "cell_type": "markdown",
   "metadata": {},
   "source": [
    "## 5.12  PIVOT  Tables   <a id='id12'> </a> \n",
    "\n",
    "Devuelve el DataFrame remodelado organizado por los valores de índice/columna especificados.\n",
    "\n",
    "- Remodele los datos (produzca una tabla \"pivote\") en función de los valores de las columnas. \n",
    "- Utiliza valores únicos de índices/columnas especificados para formar ejes del DataFrame resultante. \n",
    "- Esta función no admite la agregación de datos, varios valores darán como resultado un índice múltiple en las columnas. \n",
    "\n",
    "![](Pivot.png)"
   ]
  },
  {
   "cell_type": "code",
   "execution_count": null,
   "metadata": {},
   "outputs": [],
   "source": [
    "# Verificamos como estan los datos actualmente\n",
    "\n",
    "covidMERGE.head()"
   ]
  },
  {
   "cell_type": "code",
   "execution_count": null,
   "metadata": {},
   "outputs": [],
   "source": [
    "# Realizamos la tabla pivote o tabla dinamica\n",
    "\n",
    "covidMERGE.pivot_table( values= 'RESULTADO' , index='ENTIDAD_FEDERATIVA', columns='TIPO_PACIENTE', aggfunc=np.size)"
   ]
  },
  {
   "cell_type": "code",
   "execution_count": null,
   "metadata": {},
   "outputs": [],
   "source": [
    "# Realizamos la tabla pivote o tabla dinamica\n",
    "\n",
    "covidMERGE.pivot_table( values= 'RESULTADO' , index='ENTIDAD_FEDERATIVA', columns='SEXO', aggfunc=np.size)"
   ]
  },
  {
   "cell_type": "code",
   "execution_count": null,
   "metadata": {},
   "outputs": [],
   "source": [
    "# Realizamos la tabla pivote o tabla dinamica\n",
    "\n",
    "covidMERGE.pivot_table( values= 'RESULTADO' , index='ENTIDAD_FEDERATIVA', columns='SEXO', aggfunc=np.size)"
   ]
  },
  {
   "cell_type": "code",
   "execution_count": null,
   "metadata": {},
   "outputs": [],
   "source": []
  },
  {
   "cell_type": "code",
   "execution_count": null,
   "metadata": {},
   "outputs": [],
   "source": []
  },
  {
   "cell_type": "markdown",
   "metadata": {},
   "source": [
    "## 5.12 Valores perdidos   <a id='id12'> </a> \n",
    "\n",
    "## PENDIENTE"
   ]
  },
  {
   "cell_type": "code",
   "execution_count": null,
   "metadata": {},
   "outputs": [],
   "source": []
  },
  {
   "cell_type": "code",
   "execution_count": null,
   "metadata": {},
   "outputs": [],
   "source": []
  },
  {
   "cell_type": "code",
   "execution_count": null,
   "metadata": {
    "scrolled": true
   },
   "outputs": [],
   "source": [
    "import pandas as pd\n",
    "\n",
    "# conjunto de datos de la recopilación de la página  Humanitarian Data Exchange.\n",
    "# Esta página web es un excelente recurso para personas interesadas en explorar datos\n",
    "# relacionados con inquietudes humanitarias internacionales.\n",
    "\n",
    "# https://data.humdata.org/dataset/wfp-food-prices-for-mexico\n",
    "\n",
    "\n",
    "df2  = pd.read_csv(\"wfp_food_prices_mex.csv\")\n",
    "df2"
   ]
  },
  {
   "cell_type": "code",
   "execution_count": null,
   "metadata": {},
   "outputs": [],
   "source": []
  },
  {
   "cell_type": "markdown",
   "metadata": {},
   "source": [
    "## 5.13 Leer archivo de Excel   <a id='id13'> </a> \n",
    "\n",
    "Instalar librería  **xlrd**:\n",
    "\n",
    "- pip install xlrd\n",
    "- conda install -c anaconda xlrd\n",
    "- Entorno gráfico de Anaconda"
   ]
  },
  {
   "cell_type": "code",
   "execution_count": null,
   "metadata": {},
   "outputs": [],
   "source": [
    "DiagnosticoIMCO = pd.read_excel('DiagnosticoIMCO.xlsx',\n",
    "                       sheet_name = 'IMCO',\n",
    "                      skiprows =range(6),\n",
    "                      skipfooter=2 )\n",
    "\n",
    "\n",
    "DiagnosticoIMCO.head()"
   ]
  },
  {
   "cell_type": "code",
   "execution_count": null,
   "metadata": {},
   "outputs": [],
   "source": []
  },
  {
   "cell_type": "code",
   "execution_count": null,
   "metadata": {},
   "outputs": [],
   "source": []
  },
  {
   "cell_type": "markdown",
   "metadata": {},
   "source": [
    "## 5.14 Convertir tipos de datos   <a id='id14'> </a> \n",
    "\n",
    "- Convertir de Object a Datetime\n",
    "- Convertir de Object a Int\n",
    "- Convertir de Object a Float"
   ]
  },
  {
   "cell_type": "code",
   "execution_count": null,
   "metadata": {},
   "outputs": [],
   "source": [
    "df.info()"
   ]
  },
  {
   "cell_type": "code",
   "execution_count": null,
   "metadata": {},
   "outputs": [],
   "source": [
    "# En dataframe del COVID las fechas aparecen como tipo object\n",
    "\n",
    "df['FECHA_SINTOMAS'] = pd.to_datetime(df['FECHA_SINTOMAS'], format=\"%d/%m/%Y\")"
   ]
  },
  {
   "cell_type": "code",
   "execution_count": null,
   "metadata": {},
   "outputs": [],
   "source": [
    "df.info()"
   ]
  },
  {
   "cell_type": "code",
   "execution_count": null,
   "metadata": {},
   "outputs": [],
   "source": []
  },
  {
   "cell_type": "markdown",
   "metadata": {},
   "source": [
    "## 5.15 Formatting the Display Dataframe  <a id='id15'> </a> \n",
    "\n",
    "Antes de agregar estilos, es útil mostrar que Styler puede distinguir el valor de visualización del valor real, tanto en valores de datos como en encabezados de índice o columnas. \n",
    "- Para controlar el valor de visualización, el texto se imprime en cada celda como una cadena, y podemos usar los métodos .format() y .format_index() para manipular esto de acuerdo con una cadena de especificación de formato o un invocable que toma un valor único y devuelve un String. \n",
    "- Es posible definir esto para toda la tabla o índice, o para columnas individuales o niveles MultiIndex.\n",
    "\n",
    "- Además, la función de formato tiene un argumento de precisión para ayudar específicamente a dar formato a los flotantes, así como separadores decimales y de miles para admitir otras configuraciones regionales, \n",
    "- un argumento na_rep para mostrar los datos que faltan \n",
    "- un argumento de escape para ayudar a mostrar HTML seguro o LaTeX seguro. \n",
    "- El formateador predeterminado está configurado para adoptar la opción **styler.format.precision** de pandas, controlable mediante **pd.option_context('format.precision', 2):**\n",
    "\n",
    "**Fuente:**\n",
    "https://pandas.pydata.org/docs/user_guide/style.html    "
   ]
  },
  {
   "cell_type": "code",
   "execution_count": null,
   "metadata": {},
   "outputs": [],
   "source": [
    "DiagnosticoIMCO.head()"
   ]
  },
  {
   "cell_type": "code",
   "execution_count": null,
   "metadata": {
    "scrolled": true
   },
   "outputs": [],
   "source": [
    "DiagnosticoIMCO.head(10).style.format(precision=0, thousands=\",\" , \n",
    "                              formatter= {( \"AportacionesFederales\"): lambda x: \"$ {:,.2f}\".format(x), \n",
    "                                          ( \"ParticipacionesFederales\"): lambda x: \"$ {:,.2f}\".format(x),\n",
    "                                          ( \"RecaudacionImpuestos\"): lambda x: \"$ {:,.1f}\".format(x)\n",
    "                              })\n"
   ]
  },
  {
   "cell_type": "code",
   "execution_count": null,
   "metadata": {},
   "outputs": [],
   "source": [
    "DiagnosticoIMCO.dtypes"
   ]
  },
  {
   "cell_type": "code",
   "execution_count": null,
   "metadata": {},
   "outputs": [],
   "source": [
    "def make_pretty(styler):\n",
    "    styler.set_caption(\"Distribución de Ingresos por estado\")\n",
    "    #styler.background_gradient(axis=None, vmin=1, vmax=2, cmap=\"YlGnBu\")\n",
    "    return styler\n",
    "\n",
    "DiagnosticoIMCO.head(10).style.pipe(make_pretty)"
   ]
  },
  {
   "cell_type": "code",
   "execution_count": null,
   "metadata": {},
   "outputs": [],
   "source": []
  },
  {
   "cell_type": "code",
   "execution_count": null,
   "metadata": {},
   "outputs": [],
   "source": [
    "import pandas as pd\n",
    "covid2 = pd.read_csv(\"20-07-31-COVID19MEXICO.csv\", encoding = 'ISO-8859-1')\n",
    "covid2.head()\n",
    "\n"
   ]
  },
  {
   "cell_type": "code",
   "execution_count": null,
   "metadata": {},
   "outputs": [],
   "source": [
    "mapping_dict = {1: \"Mujer\", 2:\"Hombre\"}\n",
    "covid2['SEXO'] = covid2['SEXO'].map(mapping_dict)"
   ]
  },
  {
   "cell_type": "code",
   "execution_count": null,
   "metadata": {},
   "outputs": [],
   "source": [
    "covid2.head()"
   ]
  },
  {
   "cell_type": "code",
   "execution_count": null,
   "metadata": {},
   "outputs": [],
   "source": []
  }
 ],
 "metadata": {
  "kernelspec": {
   "display_name": "Python 3 (ipykernel)",
   "language": "python",
   "name": "python3"
  },
  "language_info": {
   "codemirror_mode": {
    "name": "ipython",
    "version": 3
   },
   "file_extension": ".py",
   "mimetype": "text/x-python",
   "name": "python",
   "nbconvert_exporter": "python",
   "pygments_lexer": "ipython3",
   "version": "3.8.13"
  }
 },
 "nbformat": 4,
 "nbformat_minor": 2
}
