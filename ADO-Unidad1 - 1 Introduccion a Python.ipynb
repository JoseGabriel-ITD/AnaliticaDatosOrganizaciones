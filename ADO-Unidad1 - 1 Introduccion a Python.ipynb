{
 "cells": [
  {
   "cell_type": "markdown",
   "metadata": {},
   "source": [
    "\n",
    "![](CintillaTecNM-ITD.png)"
   ]
  },
  {
   "cell_type": "markdown",
   "metadata": {},
   "source": [
    "\n",
    "\n",
    "# Analítica de Datos en las Organizaciones\n",
    "\n",
    "# Docente: José Gabriel Rodríguez Rivas\n",
    "\n",
    "\n",
    "# Unidad I   Introducción a los Datos\n",
    "\n",
    "\n",
    "## Introducción al Lenguaje de Programación Python\n",
    "\n",
    "[1.2 La funcion print](#id2)<br>\n",
    "[1.3 Tipos de datos](#id3)<br>\n",
    "[1.4 Operadores](#id4)<br>\n",
    "[1.5 Expresiones y variables](#id5)<br>\n",
    "[1.6 Entrada de datos](#id6)<br>\n",
    "[1.7 Condiciones -  Control de flujo del programa](#id7)<br>\n",
    "[1.8 Ciclos](#id8)<br>\n",
    "[1.9 Funciones](#id9)<br>\n",
    "[1.10 Manejo de excepciones](#id10)<br>"
   ]
  },
  {
   "cell_type": "markdown",
   "metadata": {},
   "source": [
    "###  Referencias de Markdown\n",
    "link  https://www.markdownguide.org/cheat-sheet/ \n",
    "\n",
    "Texto con link [Markdown Cheat Sheet](https://www.markdownguide.org/cheat-sheet/)\n"
   ]
  },
  {
   "cell_type": "markdown",
   "metadata": {},
   "source": [
    "###  Tema 1 Números\n",
    "***\n",
    "**Int.**  entero, es un número entero, positivo o negativo, sin decimales, de longitud ilimitada.\n",
    "\n",
    "**Float,**   Flotante, o \"número de punto flotante\" es un número, positivo o negativo, que contiene uno o más decimales.\n",
    "El flotante también puede ser un número científico con una \"e\" para indicar el exponente de 10.\n",
    "\n",
    "**Complex.**  Los números complejos se escriben con una \"j\" como parte imaginaria:\n",
    "\n",
    "x = 1.10  \n",
    "y = 12E4  \n",
    "z = 3+5j  \n",
    "w= 18  "
   ]
  },
  {
   "cell_type": "code",
   "execution_count": null,
   "metadata": {},
   "outputs": [],
   "source": [
    "3 + 2"
   ]
  },
  {
   "cell_type": "code",
   "execution_count": null,
   "metadata": {},
   "outputs": [],
   "source": [
    "10-7"
   ]
  },
  {
   "cell_type": "markdown",
   "metadata": {},
   "source": [
    "### Tema 2. Variables\n",
    "\n",
    "+ Python no tiene comandos para declarar una variable.\n",
    "\n",
    "+ Una variable se crea en el momento en que primero le asigna un valor.\n",
    "+ Las variables no necesitan ser declaradas con ningún tipo en particular e incluso pueden cambiar el tipo después de que se hayan establecido.\n",
    "+ Un nombre de variable debe comenzar con una letra o el carácter de subrayado\n",
    "+ Un nombre de variable no puede comenzar con un número\n",
    "+ Un nombre de variable solo puede contener caracteres alfanuméricos y guiones bajos (A-z, 0-9 y _)\n",
    "+ Los nombres de las variables distinguen entre mayúsculas y minúsculas (age, Age y AGE son tres variables diferentes)\n",
    "Nombre = \"Carlos\""
   ]
  },
  {
   "cell_type": "code",
   "execution_count": null,
   "metadata": {},
   "outputs": [],
   "source": [
    "Nombre = \"Carlos\"\n",
    "Nombre"
   ]
  },
  {
   "cell_type": "code",
   "execution_count": null,
   "metadata": {},
   "outputs": [],
   "source": [
    "Edad = 40\n",
    "Edad"
   ]
  },
  {
   "cell_type": "code",
   "execution_count": null,
   "metadata": {},
   "outputs": [],
   "source": [
    "## En el siguiente caso son 3 variables diferentes\n",
    "Nombre = \"José\"\n",
    "NOMBRE = \"Gabriel\"\n",
    "NOMbre = \"Rodriguez\"\n",
    "print(Nombre, NOMBRE, NOMbre)"
   ]
  },
  {
   "cell_type": "code",
   "execution_count": null,
   "metadata": {},
   "outputs": [],
   "source": [
    "## No se pueden asignar palabras reservadas de Python como nombres de variable\n",
    "True = 100\n",
    "print(True)"
   ]
  },
  {
   "cell_type": "code",
   "execution_count": null,
   "metadata": {},
   "outputs": [],
   "source": [
    "## En este caso si se crea la variable TRue porque la R mayuscula hace la diferencia \n",
    "## y Python No la reconoce como palabra reservada\n",
    "TRue = 100\n",
    "print(TRue)"
   ]
  },
  {
   "cell_type": "code",
   "execution_count": null,
   "metadata": {},
   "outputs": [],
   "source": [
    "# Se debe usar el guion bajo como separador de palabras como parte de un nombre de variable\n",
    "Mi-Variable = 3\n",
    "print(Mi-Variable)"
   ]
  },
  {
   "cell_type": "code",
   "execution_count": null,
   "metadata": {},
   "outputs": [],
   "source": [
    "# Se debe usar el guion bajo como separador de palabras como parte de un nombre de variable\n",
    "Mi_Variable = 3\n",
    "print(Mi_Variable)"
   ]
  },
  {
   "cell_type": "markdown",
   "metadata": {},
   "source": [
    "## 1.2 La funcion print  <a id='id2'> </a>"
   ]
  },
  {
   "cell_type": "code",
   "execution_count": null,
   "metadata": {},
   "outputs": [],
   "source": [
    "#Imprimir una cadena de texto\n",
    "\n",
    "print( \"Hola\")"
   ]
  },
  {
   "cell_type": "code",
   "execution_count": null,
   "metadata": {},
   "outputs": [],
   "source": [
    "# Inprimir el valor de una variable numerica\n",
    "x = 100\n",
    "print(100)"
   ]
  },
  {
   "cell_type": "code",
   "execution_count": null,
   "metadata": {},
   "outputs": [],
   "source": [
    "# Inprimir el valor de una variable de cadena de texto\n",
    "x = \"Hola Mundo\"\n",
    "print(x)"
   ]
  },
  {
   "cell_type": "code",
   "execution_count": null,
   "metadata": {
    "scrolled": true
   },
   "outputs": [],
   "source": [
    "\n",
    "print( 'El valor de x es', x )\n"
   ]
  },
  {
   "cell_type": "code",
   "execution_count": null,
   "metadata": {},
   "outputs": [],
   "source": [
    "x = 5 \n",
    "y = 7\n",
    "print(x * y)\n",
    "\n"
   ]
  },
  {
   "cell_type": "code",
   "execution_count": null,
   "metadata": {},
   "outputs": [],
   "source": [
    "# comentario de una sola linea\n",
    "\n",
    "\"\"\"\n",
    "Comentarios de múltiples líneas\n",
    "jose gabriel rodriguez rivas\n",
    "es\n",
    "\"\"\""
   ]
  },
  {
   "cell_type": "code",
   "execution_count": null,
   "metadata": {},
   "outputs": [],
   "source": [
    "# Usamos el parametro end para especificar cual es el terminador de linea\n",
    "# en una instruccion print\n",
    "# CARACTER DE ESCAPE \\\n",
    "\n",
    "print( 'El valor de x es', x, end='***' )\n",
    "print( 'El valor de \\'y\\' es', y)\n",
    "print(\"Holas\")"
   ]
  },
  {
   "cell_type": "code",
   "execution_count": null,
   "metadata": {},
   "outputs": [],
   "source": [
    "# Imprimir comillas dobles dentro de un texto\n",
    "print('Hola \"Mundo\" ')"
   ]
  },
  {
   "cell_type": "code",
   "execution_count": null,
   "metadata": {},
   "outputs": [],
   "source": [
    "# Imprimir comillas SIMPLES dentro de un texto\n",
    "print(\"Hola 'Mundo' \")"
   ]
  },
  {
   "cell_type": "code",
   "execution_count": null,
   "metadata": {},
   "outputs": [],
   "source": [
    "#utilizar el carácter de escape \\ para \n",
    "#poner comillas del mismo tipo\n",
    "\n",
    "print('Hola \\'Mundo\\' ')"
   ]
  },
  {
   "cell_type": "code",
   "execution_count": null,
   "metadata": {},
   "outputs": [],
   "source": [
    "# Tabulaciones dentro de la cadena de texto\n",
    "print('Hola \\tMundo ')"
   ]
  },
  {
   "cell_type": "code",
   "execution_count": null,
   "metadata": {},
   "outputs": [],
   "source": [
    "# Salto de linea  (Enter)  dentro de la cadena de texto\n",
    "print('Hola \\nMundo ')"
   ]
  },
  {
   "cell_type": "markdown",
   "metadata": {},
   "source": [
    "## 1.3 Tipos de datos <a id='id3'> </a>\n",
    "\n",
    "Referencias a **Tipos de datos y operadores** \n",
    "\n",
    "https://docs.python.org/es/3/library/stdtypes.html"
   ]
  },
  {
   "cell_type": "code",
   "execution_count": null,
   "metadata": {},
   "outputs": [],
   "source": [
    "x= 1100000   #Enteros\n",
    "x= 123.87   # Flotantes\n",
    "x= \"texto\"\n",
    "print(x)"
   ]
  },
  {
   "cell_type": "code",
   "execution_count": null,
   "metadata": {},
   "outputs": [],
   "source": [
    "# NUmeros con separardores d emiles\n",
    "# forzosamente debe usarse un guion bajo\n",
    "x= 11_000_000\n",
    "y= 5\n",
    "print(x * y)"
   ]
  },
  {
   "cell_type": "code",
   "execution_count": null,
   "metadata": {},
   "outputs": [],
   "source": [
    "# Exponente\n",
    "w= 0.08e3\n",
    "print(w)"
   ]
  },
  {
   "cell_type": "code",
   "execution_count": null,
   "metadata": {},
   "outputs": [],
   "source": [
    "x = 'I\"m a boy'\n",
    "print(x)"
   ]
  },
  {
   "cell_type": "code",
   "execution_count": null,
   "metadata": {},
   "outputs": [],
   "source": [
    "print(\"*********************************\")"
   ]
  },
  {
   "cell_type": "code",
   "execution_count": null,
   "metadata": {},
   "outputs": [],
   "source": [
    "print(\"*\" * 50)"
   ]
  },
  {
   "cell_type": "code",
   "execution_count": null,
   "metadata": {},
   "outputs": [],
   "source": [
    "print(\"Hola \" * 50)"
   ]
  },
  {
   "cell_type": "code",
   "execution_count": null,
   "metadata": {},
   "outputs": [],
   "source": [
    "# Potencias\n",
    "print(3 **5)\n"
   ]
  },
  {
   "cell_type": "code",
   "execution_count": null,
   "metadata": {},
   "outputs": [],
   "source": [
    "# también se puede usar la funcion pow para la exponenciación \n",
    "pow(3,5)"
   ]
  },
  {
   "cell_type": "markdown",
   "metadata": {},
   "source": [
    "## 1.4 Operadores   <a id='id4'> </a>\n",
    "\n",
    "> - Un operador es un símbolo del lenguaje de programación, el cual es capaz de realizar operaciones con los valores.\n",
    "- Por ejemplo, como en la aritmética, el signo de + (más) es un operador el cual es capaz de sumar dos números, dando el resultado de la suma.\n",
    "\n",
    "### Operadores matemáticos\n",
    "1. **(Suma) +** \n",
    "2. **(Resta) -** \n",
    "3. **(Multiplicación (*)**\n",
    "4. **(División) /** \n",
    "5. **(División entera) //** El resultado carece de la parte fraccionaria, esto significa que los resultados siempre son redondeados  \n",
    "6. **(Módulo) %** El resultado de la operación es el residuo que queda de la división entera.\n",
    "7. **(Exponenciación (potencia) **** \n"
   ]
  },
  {
   "cell_type": "code",
   "execution_count": null,
   "metadata": {},
   "outputs": [],
   "source": [
    "print(3 * 5.0)"
   ]
  },
  {
   "cell_type": "code",
   "execution_count": null,
   "metadata": {},
   "outputs": [],
   "source": [
    "# La division de numeros enteros siempre resulta en un float\n",
    "print(10 / 2)"
   ]
  },
  {
   "cell_type": "code",
   "execution_count": null,
   "metadata": {},
   "outputs": [],
   "source": [
    "# El doble signo // dara un resultado sin la parte fraccionaria\n",
    "print( 9 // 2)"
   ]
  },
  {
   "cell_type": "code",
   "execution_count": null,
   "metadata": {},
   "outputs": [],
   "source": [
    "print(9 % 2)"
   ]
  },
  {
   "cell_type": "code",
   "execution_count": null,
   "metadata": {},
   "outputs": [],
   "source": [
    "print(+2)"
   ]
  },
  {
   "cell_type": "code",
   "execution_count": null,
   "metadata": {},
   "outputs": [],
   "source": [
    "print((2 + 3) * 5)"
   ]
  },
  {
   "cell_type": "code",
   "execution_count": null,
   "metadata": {},
   "outputs": [],
   "source": [
    " X = 123\n",
    "print(X)\n",
    "X= \"hola\"\n",
    "print(X)"
   ]
  },
  {
   "cell_type": "code",
   "execution_count": null,
   "metadata": {},
   "outputs": [],
   "source": [
    "#No usar palabras reservadas\n",
    "True = 1"
   ]
  },
  {
   "cell_type": "code",
   "execution_count": null,
   "metadata": {},
   "outputs": [],
   "source": [
    "TRue = 1\n",
    "print (TRue)"
   ]
  },
  {
   "cell_type": "markdown",
   "metadata": {},
   "source": [
    "### Evaluar o conocer el tipo de dato"
   ]
  },
  {
   "cell_type": "code",
   "execution_count": null,
   "metadata": {},
   "outputs": [],
   "source": [
    "Mensaje = \"Hola mundo\"\n",
    "pi = 3.1416\n",
    "X = 10\n",
    "\n",
    "type(Mensaje)"
   ]
  },
  {
   "cell_type": "code",
   "execution_count": null,
   "metadata": {},
   "outputs": [],
   "source": [
    "type(pi)\n"
   ]
  },
  {
   "cell_type": "markdown",
   "metadata": {},
   "source": [
    "### Operadores de comparación\n",
    "\n",
    "\n",
    "| Operación | Significado |\n",
    "| ----------- | ----------- |\n",
    "| < | Estrictamente menor que |\n",
    "| <= | Menor o igual que |\n",
    "| > | Estrictamente mayor que|\n",
    "| >= | Mayor o igual que |\n",
    "| == | igual que |\n",
    "| != | diferente que |\n",
    "| is | igualdad a nivel de identidad (Son el mismo objeto) |\n",
    "| is not | desigualdad a nivel de identidad (no son el mismo objeto) |"
   ]
  },
  {
   "cell_type": "code",
   "execution_count": null,
   "metadata": {},
   "outputs": [],
   "source": [
    "5 > 3"
   ]
  },
  {
   "cell_type": "code",
   "execution_count": null,
   "metadata": {},
   "outputs": [],
   "source": [
    "5 == 5"
   ]
  },
  {
   "cell_type": "markdown",
   "metadata": {},
   "source": [
    "### **Casting**  -   Converir de un tipo de dato a otro\n",
    "\n",
    "1. **int():** construye un número entero a partir de un literal entero, un literal flotante (redondeando hacia abajo al número entero anterior), o un literal de cadena (siempre que la cadena represente un número entero)\n",
    "2. **float():** construye un número flotante a partir de un literal entero, un literal flotante o un literal de cadena (siempre que la cadena represente un flotante o un entero)\n",
    "3. **str():** construye una cadena a partir de una amplia variedad de tipos de datos, incluidas cadenas, literales enteros y literales flotantes"
   ]
  },
  {
   "cell_type": "code",
   "execution_count": null,
   "metadata": {},
   "outputs": [],
   "source": [
    "# y will be 2\n",
    "y = int(2.8) \n",
    "y"
   ]
  },
  {
   "cell_type": "code",
   "execution_count": null,
   "metadata": {},
   "outputs": [],
   "source": [
    "# z will be 3\n",
    "z = int(\"3\") \n",
    "z"
   ]
  },
  {
   "cell_type": "markdown",
   "metadata": {},
   "source": [
    "## 1.5  Expresiones y variables  <a id='id5'> </a>\n",
    "\n",
    " Una expresión es una combinación de valores (o variables, operadores, llamadas a funciones, las cuales son evaluadas y dan como resultado un valor, por ejemplo, 1 + 2.\n",
    "\n"
   ]
  },
  {
   "cell_type": "markdown",
   "metadata": {},
   "source": [
    "### Prioridad de operadores\n",
    "\n",
    "\n",
    "| Descripción | Operador |\n",
    "| ----------- | ----------- |\n",
    "| Paréntesis | () |\n",
    "| Exponenciacion | ** |\n",
    "| Multiplicación, multiplicación de matrices, división, división de redondeo, residuo o Módulo | *, @, /, //, % |\n",
    "| Suma y Resta | + , - |\n",
    "| Exponenciacion | ** |\n",
    "\n",
    "*Referencia completa\n",
    "https://docs.python.org/es/3/reference/expressions.html#evaluation-order\n"
   ]
  },
  {
   "cell_type": "code",
   "execution_count": null,
   "metadata": {},
   "outputs": [],
   "source": [
    "x = 3 + 2 * 5\n",
    "print(x)"
   ]
  },
  {
   "cell_type": "code",
   "execution_count": null,
   "metadata": {},
   "outputs": [],
   "source": [
    "x = (3 + 2) * 5\n",
    "print(x)"
   ]
  },
  {
   "cell_type": "code",
   "execution_count": null,
   "metadata": {},
   "outputs": [],
   "source": [
    "x = ( (25 % 13) + 100) / (2 * 13)\n",
    "print(x)"
   ]
  },
  {
   "cell_type": "code",
   "execution_count": null,
   "metadata": {},
   "outputs": [],
   "source": [
    "print( 5 > 7 )"
   ]
  },
  {
   "cell_type": "code",
   "execution_count": null,
   "metadata": {},
   "outputs": [],
   "source": [
    "# Doble signo de igual sirve para comparar\n",
    "print( 5 == 7 )"
   ]
  },
  {
   "cell_type": "code",
   "execution_count": null,
   "metadata": {},
   "outputs": [],
   "source": [
    "# Un signo de igual sirve para asignar un valor\n",
    "print( 5 = 7 )"
   ]
  },
  {
   "cell_type": "raw",
   "metadata": {},
   "source": []
  },
  {
   "cell_type": "markdown",
   "metadata": {},
   "source": [
    "## 1.6 Entrada de datos  <a id='id6'> </a>\n",
    "\n",
    "- La función **input()** es capaz de leer datos que fueron introducidos por el usuario y pasar esos datos al programa en ejecución.\n",
    "- **El resultado debe ser asignado a una variable**; esto es crucial, si no se hace los datos introducidos se perderán.\n",
    "- La función pondrá la consola en modo de entrada; aparecerá un cursor que parpadea, y podrás introducir datos con el teclado, al terminar presiona la tecla Enter"
   ]
  },
  {
   "cell_type": "code",
   "execution_count": null,
   "metadata": {},
   "outputs": [],
   "source": [
    "variable = input(\"Escribe tu nombre\")\n",
    "print(\"Tu nombre es \", variable)"
   ]
  },
  {
   "cell_type": "code",
   "execution_count": null,
   "metadata": {},
   "outputs": [],
   "source": [
    "nom = input(\"¿Me puedes dar tu nombre por favor? \")\n",
    "ape = input(\"¿Me puedes dar tu apellido por favor? \")\n",
    "print(\"Gracias.\")\n",
    "print(\"\\nTu nombre es \" + nom + \" \" + ape + \".\")"
   ]
  },
  {
   "cell_type": "code",
   "execution_count": null,
   "metadata": {},
   "outputs": [],
   "source": [
    "# Marca error porque se debe convertir el tipo de dato\n",
    "x = input(\"Dame un numero para multiplicar\") \n",
    "z = x * 5\n",
    "print(z)"
   ]
  },
  {
   "cell_type": "code",
   "execution_count": null,
   "metadata": {},
   "outputs": [],
   "source": [
    "x = int(input(\"Dame un numero para multiplicar\") )\n",
    "z = x * 5\n",
    "print(z)"
   ]
  },
  {
   "cell_type": "markdown",
   "metadata": {},
   "source": [
    "##  Ejercicio 1 de lectura de datos\n",
    "\n",
    "**Calcular la longitud de la hipotenusa**"
   ]
  },
  {
   "cell_type": "code",
   "execution_count": null,
   "metadata": {},
   "outputs": [],
   "source": [
    "##  ponerles de reto un programa simple:  calcular la longitud de la hipotenusa \n",
    "## triangulo rectangulo\n",
    "## https://www.montereyinstitute.org/courses/DevelopmentalMath/TEXTGROUP-1-8_RESOURCE/U07_L1_T4_text_final_es.html"
   ]
  },
  {
   "cell_type": "code",
   "execution_count": null,
   "metadata": {},
   "outputs": [],
   "source": [
    "cateto_a = float(input(\"Inserta la longitud del primer cateto: \"))\n",
    "cateto_b = float(input(\"Inserta la longitud del segundo cateto \"))\n",
    "hipo = (cateto_a**2 + cateto_b**2) ** .5\n",
    "print(\"La longitud de la hipotenusa es: \", hipo)"
   ]
  },
  {
   "cell_type": "code",
   "execution_count": null,
   "metadata": {},
   "outputs": [],
   "source": [
    "##  ponerles de reto un programa simple:  \n",
    "##  Demostrar el teorema de pitagoras\n",
    "##  a**2 + b**2  = c**\" "
   ]
  },
  {
   "cell_type": "code",
   "execution_count": null,
   "metadata": {},
   "outputs": [],
   "source": [
    "cateto_a = float(input(\"Inserta la longitud del primer cateto: \"))\n",
    "cateto_b = float(input(\"Inserta la longitud del segundo cateto \"))\n",
    "hipo = (cateto_a**2 + cateto_b**2) ** .5\n",
    "catetos = (cateto_a**2 + cateto_b**2)\n",
    "print(\"valor de los catetos =\", catetos)\n",
    "print(\"valor de la hipotenusas =\", hipo**2)"
   ]
  },
  {
   "cell_type": "markdown",
   "metadata": {},
   "source": [
    "##  1.7 Condiciones  <a id='id7'> </a>\n",
    "\n",
    "En programación, una sentencia condicional es una instrucción o grupo de instrucciones que se pueden ejecutar o no en función del resultado (TRUE o FALSE) de una expresión. "
   ]
  },
  {
   "cell_type": "markdown",
   "metadata": {},
   "source": [
    "## if else\n",
    " \n",
    "**Ejecuta codigo dependiendo del resultado de una condición**\n",
    "\n",
    "`\n",
    "if true_or_false_condition:\n",
    "    perform_if_condition_true\n",
    "else:\n",
    "    perform_if_condition_false\n",
    "`\n",
    "\n",
    "\n",
    "> **La ejecución de if-else es la siguiente:**\n",
    "\n",
    "- Si la condición se evalúa como **True** (su valor no es igual a cero), la instrucción *perform_if_condition_true* se ejecuta, y la sentencia condicional llega a su fin.\n",
    "- Si la condición se evalúa como **False** (es igual a cero), la instrucción *perform_if_condition_false* se ejecuta, y la sentencia condicional llega a su fin.\n",
    "    \n",
    "    \n",
    "1. El resultado de la condicion debe ser verdadero (TRUE) o falso (FALSE)\n",
    "2. Python se basa en la sangría, usando espacios en blanco, para definir el alcance en el código.\n",
    "3. Otros lenguajes de programación a menudo utilizan llaves para este propósito."
   ]
  },
  {
   "cell_type": "code",
   "execution_count": null,
   "metadata": {},
   "outputs": [],
   "source": [
    "# \n",
    "a = 3000\n",
    "b = 12500\n",
    "if  b > a:\n",
    "    print(\"b es mayor que a\")\n",
    "else:\n",
    "    print(\"a es mayor que b\")\n",
    "\n",
    "print(\"Fin del if\")"
   ]
  },
  {
   "cell_type": "code",
   "execution_count": null,
   "metadata": {},
   "outputs": [],
   "source": [
    "##  Mas de una linea en un bloque de codigo \n",
    "a = 3000\n",
    "b = 12500\n",
    "if b > a:\n",
    "    print(\"b es mayor que a\")\n",
    "    print(b, \"es mayor que\", a)\n",
    "else:\n",
    "    print(\"a es mayor que b\")\n",
    "    print(a, \" es mayor que\", b)\n",
    "print(\"Fin del if\")"
   ]
  },
  {
   "cell_type": "markdown",
   "metadata": {},
   "source": [
    "## elfif   \n",
    "### Cuando se tiene que evaluar varias condiciones"
   ]
  },
  {
   "cell_type": "code",
   "execution_count": null,
   "metadata": {},
   "outputs": [],
   "source": [
    "##  Mas de una linea en un bloque de codigo \n",
    "a = 3000\n",
    "b = 3000\n",
    "if b > a:\n",
    "    print(\"b es mayor que a\")\n",
    "    print(\"b vale =>\", b)\n",
    "elif a==b:\n",
    "    print(\"a es igual que b\")\n",
    "    print(\"a y b valen =>\", a)\n",
    "else:\n",
    "    print(\"a es mayor que b\")\n",
    "    print(\"a vale =>\", a)\n",
    "    \n",
    "print(\"Fin del if\")"
   ]
  },
  {
   "cell_type": "markdown",
   "metadata": {},
   "source": [
    "### if simplificado en una sola linea"
   ]
  },
  {
   "cell_type": "code",
   "execution_count": null,
   "metadata": {},
   "outputs": [],
   "source": [
    "# if y if.. else en version corta o simplificada\n",
    "# del lado izquierdo es cuando es verdadera la condicion \n",
    "\n",
    "x = 50\n",
    "y = 60\n",
    "\n",
    "print(\"x es mayor que y\") if (x > y) else print(\"y es mayor que x\")"
   ]
  },
  {
   "cell_type": "markdown",
   "metadata": {},
   "source": [
    "##  1.8 Ciclos o bucles <a id='id8'> </a>"
   ]
  },
  {
   "cell_type": "markdown",
   "metadata": {},
   "source": [
    "###   1.8.1  While\n",
    "\n",
    "- Repite la ejecución de un bloque de instrucciones siempre que la condición se evalúe como **True**\n",
    "- Si la condición es **False** tan pronto como se compruebe por primera vez, el cuerpo no se ejecuta ni una sola vez.\n",
    "- En el bloque de instrucciones debe poder cambiar el valor de la condición a **FALSE**, porque si la condición es True al principio, el cuerpo podría funcionar continuamente hasta el infinito.\n",
    "- Las sentencias **break**, **continue** y **else**\n",
    "\n",
    "\n",
    "`\n",
    " while conditional_expression:\n",
    "    instruction_one\n",
    "    instruction_two\n",
    "    instruction_three\n",
    "    :\n",
    "    :\n",
    "    instruction_n\n",
    "`"
   ]
  },
  {
   "cell_type": "code",
   "execution_count": null,
   "metadata": {},
   "outputs": [],
   "source": [
    "i= 1\n",
    "while i <= 10:\n",
    "    print(i)\n",
    "    i += 1\n",
    "print(\"fuera del while\")"
   ]
  },
  {
   "cell_type": "markdown",
   "metadata": {},
   "source": [
    "### break \n",
    "\n",
    "**break:** sale del bucle inmediatamente, e incondicionalmente termina la operación del bucle;"
   ]
  },
  {
   "cell_type": "code",
   "execution_count": null,
   "metadata": {},
   "outputs": [],
   "source": [
    "#  Copiamos el ejmplo anterior para poner contexto BREAK\n",
    "# Agregamos una condicion para que se saga del ciclo cuando se cumpla un criterio\n",
    "i= 1\n",
    "while i <= 1000:\n",
    "    print(i)\n",
    "    if i == 10:\n",
    "        print(\"Entro al if\")\n",
    "        break\n",
    "    i += 1\n",
    "print(\"fuera del while\")"
   ]
  },
  {
   "cell_type": "code",
   "execution_count": null,
   "metadata": {
    "scrolled": true
   },
   "outputs": [],
   "source": [
    "while(True):\n",
    "    print(\"\"\"Selecciona una opcion\n",
    "    1) Opcion 1\n",
    "    2) opcion 2\n",
    "    3) Salir\"\"\")\n",
    "    opcion = input(\"¿Cuál es la opcion que deseas?  \")\n",
    "    if opcion == '1':\n",
    "        print(\"Seleccionaste la Opcion 1 \\n\")\n",
    "    elif opcion =='2': \n",
    "        print(\"Seleccionaste la Opcion 2 \\n\")\n",
    "    elif opcion == \"3\":\n",
    "        print(\"Seleccionaste la Opcion Salir\")\n",
    "        break        \n",
    "    else:\n",
    "        print(\"Opcion desconocida, vuelve a intentarlo\")     \n",
    "    \n",
    "print(\"Fuera del ciclo\")"
   ]
  },
  {
   "cell_type": "markdown",
   "metadata": {},
   "source": [
    "###  1.8.2 For\n",
    "\n",
    "- Repite la ejecución de un bloque de instrucciones un determinado número de veces\n",
    "- Cualquier variable después de la palabra reservada **for** es la variable de control del ciclo; cuenta los giros del ciclo y lo hace automáticamente.\n",
    "- La palabra reservada **in** introduce un elemento de sintaxis que describe el rango de valores posibles que se asignan a la variable de control.\n",
    "- La función **range()** (esta es una función muy especial) es responsable de generar todos los valores deseados de la variable de control.\n",
    "\n",
    "`\n",
    "for i in range(1, 10):\n",
    "    instruction_one\n",
    "    instruction_two\n",
    "    instruction_three\n",
    "    :\n",
    "    :\n",
    "    instruction_n\n",
    "`\n",
    "\n",
    "- El primer argumento determina el valor inicial (primero) de la variable de control.\n",
    "- El último argumento muestra el primer valor que no se asignará a la variable de control.\n",
    "- Las sentencias **break**, **continue** y **else**\n",
    "- Nota: la función range() solo acepta enteros como argumentos"
   ]
  },
  {
   "cell_type": "code",
   "execution_count": null,
   "metadata": {},
   "outputs": [],
   "source": [
    "# si no se especifica un rango inicial por default empieza en cero\n",
    "\n",
    "# cuando se establece el limite o rango final siempre sera ese valor menos 1\n",
    "for x in range(5):\n",
    "    print(x)"
   ]
  },
  {
   "cell_type": "code",
   "execution_count": null,
   "metadata": {},
   "outputs": [],
   "source": [
    "for z in range(2, 5):\n",
    "    print(z)"
   ]
  },
  {
   "cell_type": "code",
   "execution_count": null,
   "metadata": {},
   "outputs": [],
   "source": [
    "# tercer parametro para el incremento\n",
    "\n",
    "for z in range(1, 25, 2):\n",
    "    print(z)"
   ]
  },
  {
   "cell_type": "markdown",
   "metadata": {},
   "source": [
    "### break, continue y else\n",
    "\n",
    "- **break:** sale del bucle inmediatamente, e incondicionalmente termina la operación del bucle;\n",
    "- **continue:** se comporta como si el programa hubiera llegado repentinamente al final del cuerpo; el siguiente turno se inicia y la expresión de condición se prueba de inmediato.\n",
    "- **else:** La cláusula else se ejecuta después de que el bucle finalice su ejecución siempre y cuando no haya terminado con break"
   ]
  },
  {
   "cell_type": "code",
   "execution_count": null,
   "metadata": {},
   "outputs": [],
   "source": [
    "print(\"La instruccion break\")\n",
    "variablez = True  # Variable de tipo Booleana\n",
    "\n",
    "for i in range( 1, 6):\n",
    "    print(\"Esto es un print dentro del for\")\n",
    "    if variablez:\n",
    "        print(\"Entro al if\")\n",
    "        break\n",
    "print(\"Fuera del For\")"
   ]
  },
  {
   "cell_type": "code",
   "execution_count": null,
   "metadata": {},
   "outputs": [],
   "source": [
    "print(\"La instrucción break:\")\n",
    "for i in range(1, 6):\n",
    "    if i == 3:\n",
    "        break\n",
    "    print(\"Dentro del bucle.\", i)\n",
    "print(\"Fuera del bucle.\")\n",
    "\n",
    "\n",
    "# continue - ejemplo\n",
    "\n",
    "print(\"\\nLa instrucción continue:\")\n",
    "for i in range(1, 6):\n",
    "    if i == 3:\n",
    "        continue\n",
    "    print(\"Dentro del bucle.\", i)\n",
    "print(\"Fuera del bucle.\")"
   ]
  },
  {
   "cell_type": "code",
   "execution_count": null,
   "metadata": {},
   "outputs": [],
   "source": [
    "frutas = [\"platano\", \"naranja\", \"manzana\"]\n",
    "for x in frutas:\n",
    "    print(x)\n",
    "    if x == \"naranja\":\n",
    "        break"
   ]
  },
  {
   "cell_type": "code",
   "execution_count": null,
   "metadata": {},
   "outputs": [],
   "source": [
    "n = 0\n",
    "while n != 3:\n",
    "    print(n)\n",
    "    n += 1\n",
    "else:\n",
    "    print(n, \"else\")\n",
    "\n",
    "print()  # Para generar una linea en blanco\n",
    "\n",
    "for i in range(0, 3):\n",
    "    print(i)\n",
    "else:\n",
    "    print(i, \"else\")"
   ]
  },
  {
   "cell_type": "code",
   "execution_count": null,
   "metadata": {},
   "outputs": [],
   "source": [
    "# Tambien se usa para iterar sobre una lista de valores\n",
    "# Hablaremos mas adelante de las listas\n",
    "\n",
    "frutas = [\"platano\", \"naranja\", \"manzana\"]\n",
    "for x in frutas:\n",
    "    print(x)"
   ]
  },
  {
   "cell_type": "markdown",
   "metadata": {},
   "source": [
    "## Ejercicio 2\n",
    "\n",
    "**Ejercicio de  tablas**\n",
    "\n",
    "Que pida cual numero se quiere multiplicar"
   ]
  },
  {
   "cell_type": "code",
   "execution_count": null,
   "metadata": {},
   "outputs": [],
   "source": [
    "\n",
    "tabla= int(input(\"Cual tabla de multiplicar quieres\"))\n",
    "for i in range (1,11):\n",
    "    print(tabla, \" por\", i, \"es igual a\", tabla*i)"
   ]
  },
  {
   "cell_type": "markdown",
   "metadata": {},
   "source": [
    "## 1.9 Funciones  <a id='id9'> </a>\n",
    "\n",
    "Una función es una parte separada del código de computadora el cual es capaz de:\n",
    "- Causar algún efecto (por ejemplo, enviar texto a la terminal, crear un archivo, dibujar una imagen, reproducir un sonido, etc.).\n",
    "- Evaluar un valor (por ejemplo, la raíz cuadrada de un valor o la longitud de un texto dado) y devolverlo como el resultado de la función.\n",
    "- Simplificar tareas tediosas y repetitivas.\n",
    "- **Si un fragmento de código comienza a aparecer en más de una ocasión, considera la posibilidad de aislarlo en la forma de una función**, invocando la función desde el lugar en el que originalmente se encontraba.\n",
    "- Una función puede tener o no argumento(s).\n",
    "- Un buen desarrollador **divide el código (o mejor dicho: el problema) en piezas aisladas**, y codifica cada una de ellas en la forma de una función.\n",
    "- La función print (por ejemplo) es una función integrada al nucleo de Python y no se necesita instalar programas adicionales.\n",
    "- Para extender las funciones de Python existen librerías con funciones especificas (por ejemplo crear interfaces graficas, o Web) que se pueden instalar por separado.\n",
    "- El programador de Python puede crear sus propias funciones de acuerdo a sus necesidades.\n"
   ]
  },
  {
   "cell_type": "markdown",
   "metadata": {},
   "source": [
    "#### Recomendaciones al crear funciones\n",
    "- Al escribir tus propias funciones, debes considerar cuidadosamente la elección de nombres.\n",
    "- El nombre de la función debe ser significativo (el nombre de la función print es evidente), imprime en la terminal.\n",
    "- Algunas funciones vienen con Python, otras pueden requerir una instalación por separado"
   ]
  },
  {
   "cell_type": "code",
   "execution_count": null,
   "metadata": {},
   "outputs": [],
   "source": [
    "def funcion_saludar():\n",
    "    print(\"Hola mundo, desde mi funcion\")"
   ]
  },
  {
   "cell_type": "code",
   "execution_count": null,
   "metadata": {},
   "outputs": [],
   "source": [
    "funcion_saludar()"
   ]
  },
  {
   "cell_type": "code",
   "execution_count": null,
   "metadata": {},
   "outputs": [],
   "source": [
    "# Parámetros en funciones\n",
    "def tablas_multiplicar(x):\n",
    "    for z in range(1,11):\n",
    "        print(x, \"por\", z, \"=\", x * z)  \n",
    "    print(\"\\nfin de la función\")"
   ]
  },
  {
   "cell_type": "code",
   "execution_count": null,
   "metadata": {},
   "outputs": [],
   "source": [
    "tablas_multiplicar(2)"
   ]
  },
  {
   "cell_type": "code",
   "execution_count": null,
   "metadata": {},
   "outputs": [],
   "source": [
    "tablas_multiplicar(10)"
   ]
  },
  {
   "cell_type": "code",
   "execution_count": null,
   "metadata": {},
   "outputs": [],
   "source": [
    "tablas_multiplicar(1345)"
   ]
  },
  {
   "cell_type": "markdown",
   "metadata": {},
   "source": [
    "### Paso de parámetros con argumentos posicionales\n",
    "\n",
    "- Los argumentos (parámetros) son utilizados de acuerdo a la posición que se definieron y en la invocación de la función \n"
   ]
  },
  {
   "cell_type": "code",
   "execution_count": null,
   "metadata": {},
   "outputs": [],
   "source": [
    "def presentar(nombre, apellido, edad):\n",
    "    print(\"Hola, mi nombre es\", nombre, apellido, \"y mi edad es\", edad)\n",
    "\n",
    "presentar(\"Luke\", \"Skywalker\" , 40 )\n",
    "presentar(\"Clark\", \"Kent\",  35)"
   ]
  },
  {
   "cell_type": "markdown",
   "metadata": {},
   "source": [
    "### Paso de parametros con valores predefinidos"
   ]
  },
  {
   "cell_type": "code",
   "execution_count": null,
   "metadata": {},
   "outputs": [],
   "source": [
    "def presentar(nombre, apellido = \"Rodriguez\"):\n",
    "    print(\"Hola, mi nombre es\", nombre, apellido)\n",
    "    \n",
    "presentar(\"Juan\", \"Salazar\")\n",
    "presentar(\"Juan\")"
   ]
  },
  {
   "cell_type": "markdown",
   "metadata": {},
   "source": [
    "### Paso de parametros por palabra clave (nombre del parametro)\n",
    "\n",
    "- Los valores pasados a los parámetros son precedidos por el nombre del parámetro al que se le va a pasar el valor, seguido por el signo de **=**.\n",
    "- La posición no es relevante aquí, cada argumento conoce su destino con base en el nombre utilizado."
   ]
  },
  {
   "cell_type": "code",
   "execution_count": null,
   "metadata": {},
   "outputs": [],
   "source": [
    "def presentar(nombre, apellido):\n",
    "    print(\"Hola, mi nombre es\", nombre, apellido)\n",
    "\n",
    "presentar(nombre = \"James\", apellido = \"Bond\")\n",
    "presentar(apellido = \"Skywalker\", nombre = \"Luke\")"
   ]
  },
  {
   "cell_type": "markdown",
   "metadata": {},
   "source": [
    "### Combinar argumentos posicionales y de palabra clave\n",
    "\n",
    "- Solo hay una **regla inquebrantable:** se deben colocar primero los argumentos posicionales y después los de palabra clave."
   ]
  },
  {
   "cell_type": "code",
   "execution_count": null,
   "metadata": {},
   "outputs": [],
   "source": [
    "def presentar(nombre, apellido, edad):\n",
    "    print(\"Hola, mi nombre es\", nombre, apellido, \"y mi edad es\", edad)"
   ]
  },
  {
   "cell_type": "code",
   "execution_count": null,
   "metadata": {},
   "outputs": [],
   "source": [
    "presentar(\"Jose\", \"Gabriel\", 49)"
   ]
  },
  {
   "cell_type": "code",
   "execution_count": null,
   "metadata": {},
   "outputs": [],
   "source": [
    "presentar(\"Jose\", edad=49, apellido=\"Rodriguez\")"
   ]
  },
  {
   "cell_type": "markdown",
   "metadata": {},
   "source": [
    "### Regresar resultados - La instrucción **return**\n",
    "\n",
    "-  La instrucción **return**  termina la función,"
   ]
  },
  {
   "cell_type": "code",
   "execution_count": null,
   "metadata": {},
   "outputs": [],
   "source": [
    "def calcularDoble(qaz):\n",
    "    qaz = qaz * 2\n",
    "    return qaz"
   ]
  },
  {
   "cell_type": "code",
   "execution_count": null,
   "metadata": {},
   "outputs": [],
   "source": [
    "# Asiganr el resultado de la division a una variable\n",
    "Valor_al_doble = calcularDoble(5)\n",
    "print(Valor_al_doble)\n",
    "\n",
    "# O simplemente \n",
    "print(calcularDoble(20))"
   ]
  },
  {
   "cell_type": "markdown",
   "metadata": {},
   "source": [
    "### Alcances de las variables en funciones\n",
    "\n",
    "- El alcance de una variable re refiere a la parte del código donde la variable es reconocido correctamente\n",
    "- Una variable que existe fuera de una función tiene alcance dentro del cuerpo de la función.\n",
    "- Una variable que existe fuera de una función tiene un alcance dentro del cuerpo de la función, excluyendo a aquellas que tienen el mismo nombre.\n",
    "- El alcance de una variable existente fuera de una función solo se puede implementar dentro de una función cuando su valor es leído. El asignar un valor hace que la función cree su propia variable.\n",
    "- Extender el alcance de una variable incluyendo el cuerpo de las funciones para poder no solo leer los valores de las variables sino también modificarlos con la palabra reservada **global**"
   ]
  },
  {
   "cell_type": "code",
   "execution_count": null,
   "metadata": {},
   "outputs": [],
   "source": [
    "# la variable variableX no existe, solo existe dentro de la funcion\n",
    "\n",
    "def miFuncion():\n",
    "    variableX = 123\n",
    "\n",
    "\n",
    "miFuncion()\n",
    "print(variableX)\n"
   ]
  },
  {
   "cell_type": "code",
   "execution_count": null,
   "metadata": {},
   "outputs": [],
   "source": [
    "# El alcance de una variable existente fuera de una función solo se \n",
    "# puede implementar dentro de una función cuando su valor es leído. \n",
    "# El asignar un valor hace que la función cree su propia variable.\n",
    "\n",
    "def miFuncion():\n",
    "    variable = 2\n",
    "    print(\"¿Valor de la variable?\", variable)\n",
    "\n",
    "variable = 1\n",
    "print(\"Valor de la variable\", variable)\n",
    "miFuncion()\n",
    "print(\"Valor de la variable\", variable)"
   ]
  },
  {
   "cell_type": "code",
   "execution_count": null,
   "metadata": {},
   "outputs": [],
   "source": [
    "# EN este ejemplo ya se modifico el valor de la variable\n",
    "# El utilizar la palabra reservada GLOBAL dentro de una función con el\n",
    "# nombre o nombres de las variables separados por comas, obliga a \n",
    "# Python a abstenerse de crear una nueva variable dentro de la función;\n",
    "\n",
    "se empleará la que se puede acceder desde el exterior.\n",
    "def miFuncion():\n",
    "    global variable\n",
    "    variable = 2\n",
    "    print(\"¿Valor de la variable?\", variable)\n",
    "\n",
    "variable = 1\n",
    "print(\"Valor de la variable\", variable)\n",
    "miFuncion()\n",
    "print(\"Valor de la variable\", variable)"
   ]
  },
  {
   "cell_type": "markdown",
   "metadata": {},
   "source": [
    "## Ejercicio de funciones\n",
    "\n",
    "Realizar un"
   ]
  },
  {
   "cell_type": "code",
   "execution_count": null,
   "metadata": {},
   "outputs": [],
   "source": []
  },
  {
   "cell_type": "markdown",
   "metadata": {},
   "source": [
    "## 1.10 Manejo de excepciones <a id='id10'> </a>\n",
    "\n",
    "El lidiar con errores de programación tiene (al menos) dos partes: \n",
    "1. La primera es cuando te metes en problemas porque tu código, aparentemente correcto, se alimenta con datos incorrectos. Por ejemplo, esperas que se ingrese al código un valor entero, pero el usuario ingresa algunas letras al azar. Otro escenario es cuando intentas abrir un archivo, pero ese archivo ya no existe o se le cambio el nombre.\n",
    "2. La segunda parte de lidiar con errores de programación se revela cuando ocurre un comportamiento no deseado del programa debido a errores que se cometieron cuando se estaba escribiendo el código. Este tipo de error se denomina comúnmente \"bug\".\n",
    "\n",
    "Tomese como ejemplo el siguiente escenario: \n",
    "\n",
    "1. Se desea capturar un numero por teclado para obtener su recíproco, (dividir 1 por el número).\n",
    "2. Se tiene el siguiente código  \n",
    "value = int(input('Ingresa un número natural: '))  \n",
    "print('El recíproco de', value, 'es', 1/value)  \n",
    "3. El usuario teclea una letra, lo cual originaria el siguiente error\n",
    "\n",
    "> Traceback (most recent call last):  \n",
    "  File \"code.py\", line 1, in  \n",
    "    value = int(input('Ingresa un número: '))  \n",
    "ValueError: invalid literal for int() with base 10: ''  \n",
    "\n",
    "La primera palabra de la línea es el **nombre de la excepción** la cual provoca que tu código se detenga. Su nombre aquí es **ValueError**. El resto de la línea es solo una breve explicación que especifica con mayor precisión la causa de la excepción ocurrida.\n",
    "\n",
    "Para prevenir el primer tipo de errores, Python ofrece el manejo de excepciones que se hace mediante los bloques que utilizan las sentencias **try** , **except** y **finally**. \n",
    "\n",
    "- **try:** En este lugar se coloca el código que se sospecha que es riesgoso y puede terminar en caso de un error; nota: este tipo de error lleva por nombre excepción, mientras que la ocurrencia de la excepción se le denomina generar; podemos decir que se genera (o se generó) una excepción.\n",
    "- **except:** Esta parte fue diseñada para manejar la excepción; depende de ti lo que quieras hacer aquí: Mandar un mensaje que algo salio mal y repetir el proceso, o bien, simplemente terminar la ejecucion del programa.\n",
    "\n",
    "\n"
   ]
  },
  {
   "cell_type": "markdown",
   "metadata": {},
   "source": [
    "### Sintaxis Try - except\n",
    "\n",
    "\n",
    "`\n",
    "try:  \n",
    "        Some Code....  \n",
    "except:  \n",
    "        optional block  \n",
    "        Handling of exception (if required)  \n",
    "else:  \n",
    "        execute if no exception  \n",
    "finally:  \n",
    "        Some code .....(always executed)  \n",
    "`"
   ]
  },
  {
   "cell_type": "code",
   "execution_count": 10,
   "metadata": {},
   "outputs": [
    {
     "name": "stdout",
     "output_type": "stream",
     "text": [
      "Introduce un numero 3\n",
      "La multiplicacion de 5 por 3.0 es = 15.0 \n",
      "\n"
     ]
    }
   ],
   "source": [
    "#  En este ejemplo, todo esta bien. Se espera un numero, el usuario introduce un\n",
    "# numero y se realiza el proceso como debe de ser\n",
    "x = float(input(\"Introduce un numero \"))\n",
    "y = 5\n",
    "print ( \"La multiplicacion de\", y, \"por\", x, \"es =\", x*y , \"\\n\")"
   ]
  },
  {
   "cell_type": "code",
   "execution_count": 5,
   "metadata": {},
   "outputs": [
    {
     "name": "stdout",
     "output_type": "stream",
     "text": [
      "Introduce un numero d\n"
     ]
    },
    {
     "ename": "ValueError",
     "evalue": "could not convert string to float: 'd'",
     "output_type": "error",
     "traceback": [
      "\u001b[1;31m---------------------------------------------------------------------------\u001b[0m",
      "\u001b[1;31mValueError\u001b[0m                                Traceback (most recent call last)",
      "\u001b[1;32m<ipython-input-5-9a95e4c0981c>\u001b[0m in \u001b[0;36m<module>\u001b[1;34m\u001b[0m\n\u001b[0;32m      1\u001b[0m \u001b[1;31m#  Que pasa si algo sucede mal, se interrumpe la ejecucion del programa\u001b[0m\u001b[1;33m\u001b[0m\u001b[1;33m\u001b[0m\u001b[1;33m\u001b[0m\u001b[0m\n\u001b[0;32m      2\u001b[0m \u001b[1;33m\u001b[0m\u001b[0m\n\u001b[1;32m----> 3\u001b[1;33m \u001b[0mx\u001b[0m \u001b[1;33m=\u001b[0m \u001b[0mfloat\u001b[0m\u001b[1;33m(\u001b[0m\u001b[0minput\u001b[0m\u001b[1;33m(\u001b[0m\u001b[1;34m\"Introduce un numero \"\u001b[0m\u001b[1;33m)\u001b[0m\u001b[1;33m)\u001b[0m\u001b[1;33m\u001b[0m\u001b[1;33m\u001b[0m\u001b[0m\n\u001b[0m\u001b[0;32m      4\u001b[0m \u001b[0my\u001b[0m \u001b[1;33m=\u001b[0m \u001b[1;36m5\u001b[0m\u001b[1;33m\u001b[0m\u001b[1;33m\u001b[0m\u001b[0m\n\u001b[0;32m      5\u001b[0m \u001b[0mprint\u001b[0m \u001b[1;33m(\u001b[0m \u001b[1;34m\"La multiplicacion de\"\u001b[0m\u001b[1;33m,\u001b[0m\u001b[0my\u001b[0m\u001b[1;33m,\u001b[0m \u001b[1;34m\"por\"\u001b[0m\u001b[1;33m,\u001b[0m \u001b[0mx\u001b[0m\u001b[1;33m,\u001b[0m \u001b[1;34m\"es =\"\u001b[0m\u001b[1;33m,\u001b[0m \u001b[0mx\u001b[0m\u001b[1;33m*\u001b[0m\u001b[0my\u001b[0m\u001b[1;33m,\u001b[0m \u001b[1;34m\"\\n\"\u001b[0m\u001b[1;33m)\u001b[0m\u001b[1;33m\u001b[0m\u001b[1;33m\u001b[0m\u001b[0m\n",
      "\u001b[1;31mValueError\u001b[0m: could not convert string to float: 'd'"
     ]
    }
   ],
   "source": [
    "#  En este ejemplo, que pasa si el usuario introduce un valor invalido,\n",
    "# en este caso: una letra. Se interrumpe la ejecucion del programa\n",
    "\n",
    "x = float(input(\"Introduce un numero \"))\n",
    "y = 5\n",
    "print ( \"La multiplicacion de\",y, \"por\", x, \"es =\", x*y, \"\\n\")"
   ]
  },
  {
   "cell_type": "code",
   "execution_count": 7,
   "metadata": {},
   "outputs": [
    {
     "name": "stdout",
     "output_type": "stream",
     "text": [
      "Introduce un numero w\n",
      "Ha ocurrido un error\n",
      "Introduce un numero 3\n",
      "La multiplicacion de 5 por 3.0 es = 15.0 \n",
      "\n"
     ]
    }
   ],
   "source": [
    "# Introducimos el manejo de excepciones, es decir, poner en la sentencia Try el código\n",
    "# que puede generar un error. Y en el except se especifica que debe hacerse si el usuario\n",
    "# no introduce el valor esperado.\n",
    "# De esta forma se asegura que no se interrumpa abruptamente la ejecucion del programa\n",
    "\n",
    "while(True):\n",
    "    try:\n",
    "        x = float(input(\"Introduce un numero \"))\n",
    "        y = 5\n",
    "        print ( \"La multiplicacion de\",y, \"por\", x, \"es =\", x*y)\n",
    "        break\n",
    "    except:\n",
    "        print(\"Ha ocurrido un error\")\n"
   ]
  },
  {
   "cell_type": "markdown",
   "metadata": {},
   "source": [
    "### Las claúsulas finally y else en un try - except\n",
    "\n",
    "- En un **finally**, el código que se incluya en ella se ejecutará siempre, suceda o NO suceda una excepción.\n",
    "- **finally** no necesita que haya ningún except\n",
    "- La clausula **else** permite ejecutar código cuando no hay ningún error."
   ]
  },
  {
   "cell_type": "code",
   "execution_count": 8,
   "metadata": {},
   "outputs": [
    {
     "name": "stdout",
     "output_type": "stream",
     "text": [
      "Introduce un numero d\n",
      "Ha ocurrido un error\n",
      "Codigo final \n",
      "Introduce un numero 3\n",
      "La multiplicacion de 5 por 3.0 es = 15.0 \n",
      "\n",
      "Todo funciono bien\n",
      "Codigo final \n"
     ]
    }
   ],
   "source": [
    "# En este ejemplo introducimos las clausulas else y finally  \n",
    "    \n",
    "while(True):\n",
    "    try:\n",
    "        x = float(input(\"Introduce un número \"))\n",
    "        y = 5\n",
    "        print ( \"La multiplicacion de\",y, \"por\", x, \"es =\", x*y, \"\\n\")\n",
    "    except:\n",
    "        print(\"Ha ocurrido un error\")\n",
    "    else: \n",
    "        print (\"Todo funciono bien\")\n",
    "        break\n",
    "    finally: \n",
    "        print(\"Codigo final \")\n",
    "        "
   ]
  },
  {
   "cell_type": "code",
   "execution_count": 9,
   "metadata": {
    "scrolled": true
   },
   "outputs": [
    {
     "name": "stdout",
     "output_type": "stream",
     "text": [
      "Introduce un numero w\n",
      "Error de tipo ValueError\n",
      "Codigo final \n",
      "\n",
      "Introduce un numero 3\n",
      "La multiplicacion de 5 por 3.0 es = 15.0\n",
      "Todo funciono bien\n",
      "Codigo final \n",
      "\n",
      "fuera del try\n"
     ]
    }
   ],
   "source": [
    "# Hasta el momento hemos usado except, el cual es un error de tipo generico.\n",
    "# lo eseable seria utilizar mas de una excepcion de acuerdo al tipo de error \n",
    "# que puede suceder\n",
    "\n",
    "# Agregamos en except una variable para mandar un mensaje que permita conocer el tipo de error\n",
    "\n",
    "while(True):\n",
    "    try:\n",
    "        x = float(input(\"Introduce un numero \"))\n",
    "        y = 5\n",
    "        print ( \"La multiplicacion de\",y, \"por\", x, \"es =\", x*y)\n",
    "    except Exception as e:\n",
    "        print(\"Error de tipo\", type(e).__name__)\n",
    "    else: \n",
    "        print (\"Todo funciono bien\")\n",
    "        break\n",
    "    finally: \n",
    "        print(\"Codigo final \\n\")\n",
    "        \n",
    "print(\"fuera del try\")"
   ]
  },
  {
   "cell_type": "code",
   "execution_count": null,
   "metadata": {},
   "outputs": [],
   "source": [
    "# Ahora que sabemos el tipo de error, podemos capturar ese error y adicionalmente\n",
    "# dejar el generico, por si sucede un error de algun otro tipo. Por ejemplo:\n",
    "\n",
    "while(True):\n",
    "    try:\n",
    "        x = float(input(\"Introduce un numero\"))\n",
    "        y = 5\n",
    "        print ( \"La multiplicacion de\",y, \"por\", x, \"es =\", x*y)\n",
    "    except ValueError:\n",
    "        print(\"No es numerico el valor proporcionado\")\n",
    "        \n",
    "    except Exception as e:\n",
    "        print(\"Error\", type(e).__name__)\n",
    "    else: \n",
    "        print (\"Todo funciono bien\")\n",
    "        break\n",
    "    finally: \n",
    "        print(\"Codigo final \\n\")\n",
    "        \n",
    "print(\"fuera del try\")"
   ]
  },
  {
   "cell_type": "code",
   "execution_count": null,
   "metadata": {},
   "outputs": [],
   "source": [
    "##  Que paso si divido entre 0   ???\n",
    "## Verificar en ese caso el tipo de error y programarlo"
   ]
  },
  {
   "cell_type": "code",
   "execution_count": null,
   "metadata": {},
   "outputs": [],
   "source": []
  },
  {
   "cell_type": "code",
   "execution_count": null,
   "metadata": {},
   "outputs": [],
   "source": []
  }
 ],
 "metadata": {
  "kernelspec": {
   "display_name": "Python 3 (ipykernel)",
   "language": "python",
   "name": "python3"
  },
  "language_info": {
   "codemirror_mode": {
    "name": "ipython",
    "version": 3
   },
   "file_extension": ".py",
   "mimetype": "text/x-python",
   "name": "python",
   "nbconvert_exporter": "python",
   "pygments_lexer": "ipython3",
   "version": "3.8.13"
  }
 },
 "nbformat": 4,
 "nbformat_minor": 2
}
